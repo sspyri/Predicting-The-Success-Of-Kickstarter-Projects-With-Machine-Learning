{
 "cells": [
  {
   "cell_type": "code",
   "execution_count": 1,
   "metadata": {},
   "outputs": [
    {
     "name": "stdout",
     "output_type": "stream",
     "text": [
      "=== Cross Validated Mean KNN Scores ===\n",
      "Mean Accuracy Score:  0.8456870234809942\n",
      "Mean F1-Score:  0.8629400711692042\n",
      "Mean Precision Score:  0.8645195593248355\n",
      "Mean Recall Score:  0.8618023825065274\n"
     ]
    }
   ],
   "source": [
    "import pandas as pd\n",
    "import numpy as np\n",
    "from sklearn.model_selection import train_test_split\n",
    "from sklearn.model_selection import cross_val_score\n",
    "from sklearn.metrics import confusion_matrix, classification_report\n",
    "from sklearn.neighbors import KNeighborsClassifier\n",
    "\n",
    "df = pd.read_csv(r'C:\\Users\\dungeon\\Desktop\\kick\\kicktraq.csv')\n",
    "\n",
    "X = df.drop(columns=['status_labels','avg_backers_per_pledge_tier','funding_percentage','funding_raised'\n",
    "                    ,'num_backers','num_pledge_backers','avg_pledge_amount_per_backer','category','funding_currency.1',\n",
    "                    'description_length','full_desc_len','funding_goal','num_comments','num_pledge_tiers','duration','state'])\n",
    "y = df['status_labels'].values\n",
    "# Split dataset into train and test data\n",
    "X_train, X_test, y_train, y_test = train_test_split(X, y, test_size = 0.33,random_state = 42,stratify=y)\n",
    "# Create KNN classifier for range of n_neighbors\n",
    "knn = KNeighborsClassifier(weights = 'uniform',n_neighbors = 9, metric = 'manhattan')\n",
    "\n",
    "#knn_predict = knn.predict(X_test)\n",
    "#train model with cv of 10\n",
    "acc_scores = cross_val_score(knn, X, y, cv=10,scoring='accuracy')\n",
    "f1_scores = cross_val_score(knn,X,y,cv = 10, scoring='f1')\n",
    "prec_scores = cross_val_score(knn,X,y,cv=10,scoring='precision')\n",
    "rec_scores = cross_val_score(knn,X,y,cv=10,scoring='recall')\n",
    "\n",
    "\n",
    "print(\"=== Cross Validated Mean KNN Scores ===\")\n",
    "print(\"Mean Accuracy Score: \", acc_scores.mean())\n",
    "print('Mean F1-Score: ',f1_scores.mean())\n",
    "print('Mean Precision Score: ',prec_scores.mean())\n",
    "print('Mean Recall Score: ',rec_scores.mean())"
   ]
  },
  {
   "cell_type": "code",
   "execution_count": null,
   "metadata": {},
   "outputs": [],
   "source": []
  }
 ],
 "metadata": {
  "kernelspec": {
   "display_name": "Python 3",
   "language": "python",
   "name": "python3"
  },
  "language_info": {
   "codemirror_mode": {
    "name": "ipython",
    "version": 3
   },
   "file_extension": ".py",
   "mimetype": "text/x-python",
   "name": "python",
   "nbconvert_exporter": "python",
   "pygments_lexer": "ipython3",
   "version": "3.7.1"
  }
 },
 "nbformat": 4,
 "nbformat_minor": 2
}
