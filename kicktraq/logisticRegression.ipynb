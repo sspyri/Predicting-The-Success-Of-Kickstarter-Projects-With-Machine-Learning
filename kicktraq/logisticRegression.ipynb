{
 "cells": [
  {
   "cell_type": "code",
   "execution_count": 3,
   "metadata": {},
   "outputs": [
    {
     "name": "stdout",
     "output_type": "stream",
     "text": [
      "=== Cross Validated Mean Logistic Regression Scores ===\n",
      "Mean Accuracy Score:  0.8471854826675663\n",
      "Mean F1-Score - Logistic Regression:  0.8605219278091424\n",
      "Mean Precision Score:  0.8854796420988876\n",
      "Mean Recall Score:  0.8375571148825065\n"
     ]
    }
   ],
   "source": [
    "import pandas as pd\n",
    "import numpy as np\n",
    "from sklearn.model_selection import train_test_split\n",
    "from sklearn.model_selection import cross_val_score\n",
    "from sklearn.linear_model import LogisticRegression\n",
    "from sklearn.metrics import confusion_matrix, classification_report\n",
    "\n",
    "df = pd.read_csv(r'C:\\Users\\dungeon\\Desktop\\kick\\kicktraq_scaled.csv')\n",
    "\n",
    "X = df.drop(columns=['status_labels','avg_backers_per_pledge_tier','funding_percentage','funding_raised'\n",
    "                    ,'num_backers','num_pledge_backers','avg_pledge_amount_per_backer','description_length','full_desc_len',\n",
    "                    'num_faqs','num_pledge_tiers'])\n",
    "y = df['status_labels'].values\n",
    "# Split dataset into train and test data\n",
    "X_train, X_test, y_train, y_test = train_test_split(X, y, test_size = 0.33,random_state = 42,stratify=y)\n",
    "# Create KNN classifier for range of n_neighbors\n",
    "logreg = LogisticRegression(random_state = 42,warm_start = False,solver = 'liblinear',penalty = 'l2',max_iter = 761,C=10000)\n",
    "# logreg.fit(X_train, y_train)  \n",
    "# log_predict = logreg.predict(X_test)\n",
    "# #train model with cv of 10\n",
    "acc_scores = cross_val_score(logreg, X, y, cv=10,scoring='accuracy')\n",
    "f1_scores = cross_val_score(logreg,X,y,cv = 10, scoring='f1')\n",
    "prec_scores = cross_val_score(logreg,X,y,cv=10,scoring='precision')\n",
    "rec_scores = cross_val_score(logreg,X,y,cv=10,scoring='recall')\n",
    "print(\"=== Cross Validated Mean Logistic Regression Scores ===\")\n",
    "print(\"Mean Accuracy Score: \", acc_scores.mean())\n",
    "print('Mean F1-Score - Logistic Regression: ',f1_scores.mean())\n",
    "print('Mean Precision Score: ',prec_scores.mean())\n",
    "print('Mean Recall Score: ',rec_scores.mean())"
   ]
  },
  {
   "cell_type": "code",
   "execution_count": null,
   "metadata": {},
   "outputs": [],
   "source": []
  }
 ],
 "metadata": {
  "kernelspec": {
   "display_name": "Python 3",
   "language": "python",
   "name": "python3"
  },
  "language_info": {
   "codemirror_mode": {
    "name": "ipython",
    "version": 3
   },
   "file_extension": ".py",
   "mimetype": "text/x-python",
   "name": "python",
   "nbconvert_exporter": "python",
   "pygments_lexer": "ipython3",
   "version": "3.7.1"
  }
 },
 "nbformat": 4,
 "nbformat_minor": 2
}
