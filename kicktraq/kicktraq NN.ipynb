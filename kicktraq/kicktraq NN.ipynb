{
 "cells": [
  {
   "cell_type": "code",
   "execution_count": 3,
   "metadata": {},
   "outputs": [
    {
     "name": "stderr",
     "output_type": "stream",
     "text": [
      "C:\\Users\\dungeon\\Anaconda3\\lib\\site-packages\\sklearn\\externals\\joblib\\externals\\loky\\process_executor.py:706: UserWarning: A worker stopped while some jobs were given to the executor. This can be caused by a too short worker timeout or by a memory leak.\n",
      "  \"timeout or by a memory leak.\", UserWarning\n"
     ]
    },
    {
     "name": "stdout",
     "output_type": "stream",
     "text": [
      "=== Cross Validated Mean Scores - Neural Network ===\n",
      "Mean Accuracy Score:  0.6359289179589362\n",
      "Mean F1-Score :  0.632885432722795\n",
      "Mean Precision Score:  0.6933147571348561\n",
      "Mean Recall Score:  0.6263050715937213\n"
     ]
    }
   ],
   "source": [
    "import pandas as pd\n",
    "import numpy as np\n",
    "from keras import Sequential\n",
    "from keras.layers import Dense\n",
    "from sklearn.model_selection import train_test_split\n",
    "from sklearn.model_selection import cross_val_score\n",
    "from keras.wrappers.scikit_learn import KerasClassifier\n",
    "from keras import metrics\n",
    "from keras.layers import Dropout\n",
    "from keras.constraints import maxnorm\n",
    "df = pd.read_csv(r'C:\\Users\\dungeon\\Desktop\\kick\\kicktraq.csv')\n",
    "\n",
    "X = df.drop(columns=['status_labels','avg_backers_per_pledge_tier','funding_percentage','funding_raised'\n",
    "                    ,'num_backers','num_pledge_backers','avg_pledge_amount_per_backer'])\n",
    "y = df['status_labels'].values\n",
    "\n",
    "# Split dataset into train and test data\n",
    "X_train, X_test, y_train, y_test = train_test_split(X, y, test_size = 0.33, random_state = 42,stratify=y)\n",
    "\n",
    "# K fold validation\n",
    "def build_classifier():\n",
    "    # Initializing Neural Network\n",
    "    classifier = Sequential()\n",
    "    # First Hidden Layer\n",
    "    classifier.add(Dense(64, activation = 'relu',kernel_constraint=maxnorm(3),\n",
    "    kernel_initializer = 'random_normal', input_dim = 15))\n",
    "    # Second Hidden Layer\n",
    "    classifier.add(Dense(64, activation='relu',kernel_constraint=maxnorm(3),\n",
    "    kernel_initializer = 'random_normal'))\n",
    "    classifier.add(Dropout(0))\n",
    "    # Output Layer\n",
    "    classifier.add(Dense(1,activation='sigmoid',\n",
    "    kernel_initializer='random_normal'))\n",
    "    # Compiling NN\n",
    "    classifier.compile(optimizer='adam',loss = 'binary_crossentropy',\n",
    "    metrics=['accuracy'])\n",
    "    #Fitting the data to the training dataset\n",
    "   # classifier.fit(X_train,y_train, batch_size=10, epochs = 200)\n",
    "    return classifier\n",
    "classifier = KerasClassifier(build_fn=build_classifier,batch_size=34,nb_epoch=316)\n",
    "acc_scores = cross_val_score(estimator=classifier, X=X, y=y,cv=10,n_jobs=5,scoring='accuracy')\n",
    "f1_scores = cross_val_score(estimator=classifier,X=X, y=y,cv = 10,n_jobs=5, scoring='f1')\n",
    "prec_scores = cross_val_score(estimator=classifier,X=X, y=y,cv=10,n_jobs=5,scoring='precision')\n",
    "rec_scores = cross_val_score(estimator=classifier,X=X, y=y,cv=10,n_jobs=5,scoring='recall')\n",
    "\n",
    "print(\"=== Cross Validated Mean Scores - Neural Network ===\")\n",
    "print(\"Mean Accuracy Score: \", acc_scores.mean())\n",
    "print('Mean F1-Score : ',f1_scores.mean())\n",
    "print('Mean Precision Score: ',prec_scores.mean())\n",
    "print('Mean Recall Score: ',rec_scores.mean())\n"
   ]
  },
  {
   "cell_type": "code",
   "execution_count": null,
   "metadata": {},
   "outputs": [],
   "source": []
  }
 ],
 "metadata": {
  "kernelspec": {
   "display_name": "Python 3",
   "language": "python",
   "name": "python3"
  },
  "language_info": {
   "codemirror_mode": {
    "name": "ipython",
    "version": 3
   },
   "file_extension": ".py",
   "mimetype": "text/x-python",
   "name": "python",
   "nbconvert_exporter": "python",
   "pygments_lexer": "ipython3",
   "version": "3.7.1"
  }
 },
 "nbformat": 4,
 "nbformat_minor": 2
}
