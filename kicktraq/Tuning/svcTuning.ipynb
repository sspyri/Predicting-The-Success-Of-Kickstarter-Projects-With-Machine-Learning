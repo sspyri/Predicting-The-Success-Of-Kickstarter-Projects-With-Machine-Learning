{
 "cells": [
  {
   "cell_type": "code",
   "execution_count": 2,
   "metadata": {},
   "outputs": [
    {
     "name": "stdout",
     "output_type": "stream",
     "text": [
      "Fitting 3 folds for each of 9 candidates, totalling 27 fits\n",
      "[CV] C=10, gamma=1, kernel=rbf .......................................\n"
     ]
    },
    {
     "name": "stderr",
     "output_type": "stream",
     "text": [
      "[Parallel(n_jobs=1)]: Using backend SequentialBackend with 1 concurrent workers.\n"
     ]
    },
    {
     "name": "stdout",
     "output_type": "stream",
     "text": [
      "[CV] ........................ C=10, gamma=1, kernel=rbf, total=   0.4s\n",
      "[CV] C=10, gamma=1, kernel=rbf .......................................\n"
     ]
    },
    {
     "name": "stderr",
     "output_type": "stream",
     "text": [
      "[Parallel(n_jobs=1)]: Done   1 out of   1 | elapsed:    0.5s remaining:    0.0s\n"
     ]
    },
    {
     "name": "stdout",
     "output_type": "stream",
     "text": [
      "[CV] ........................ C=10, gamma=1, kernel=rbf, total=   0.4s\n",
      "[CV] C=10, gamma=1, kernel=rbf .......................................\n",
      "[CV] ........................ C=10, gamma=1, kernel=rbf, total=   0.3s\n",
      "[CV] C=10, gamma=10, kernel=rbf ......................................\n",
      "[CV] ....................... C=10, gamma=10, kernel=rbf, total=   0.5s\n",
      "[CV] C=10, gamma=10, kernel=rbf ......................................\n",
      "[CV] ....................... C=10, gamma=10, kernel=rbf, total=   0.5s\n",
      "[CV] C=10, gamma=10, kernel=rbf ......................................\n",
      "[CV] ....................... C=10, gamma=10, kernel=rbf, total=   0.5s\n",
      "[CV] C=10, gamma=100, kernel=rbf .....................................\n",
      "[CV] ...................... C=10, gamma=100, kernel=rbf, total=   1.0s\n",
      "[CV] C=10, gamma=100, kernel=rbf .....................................\n",
      "[CV] ...................... C=10, gamma=100, kernel=rbf, total=   1.0s\n",
      "[CV] C=10, gamma=100, kernel=rbf .....................................\n",
      "[CV] ...................... C=10, gamma=100, kernel=rbf, total=   0.9s\n",
      "[CV] C=100, gamma=1, kernel=rbf ......................................\n",
      "[CV] ....................... C=100, gamma=1, kernel=rbf, total=   0.5s\n",
      "[CV] C=100, gamma=1, kernel=rbf ......................................\n",
      "[CV] ....................... C=100, gamma=1, kernel=rbf, total=   0.5s\n",
      "[CV] C=100, gamma=1, kernel=rbf ......................................\n",
      "[CV] ....................... C=100, gamma=1, kernel=rbf, total=   0.5s\n",
      "[CV] C=100, gamma=10, kernel=rbf .....................................\n",
      "[CV] ...................... C=100, gamma=10, kernel=rbf, total=   1.4s\n",
      "[CV] C=100, gamma=10, kernel=rbf .....................................\n",
      "[CV] ...................... C=100, gamma=10, kernel=rbf, total=   1.3s\n",
      "[CV] C=100, gamma=10, kernel=rbf .....................................\n",
      "[CV] ...................... C=100, gamma=10, kernel=rbf, total=   1.3s\n",
      "[CV] C=100, gamma=100, kernel=rbf ....................................\n",
      "[CV] ..................... C=100, gamma=100, kernel=rbf, total=   2.0s\n",
      "[CV] C=100, gamma=100, kernel=rbf ....................................\n",
      "[CV] ..................... C=100, gamma=100, kernel=rbf, total=   1.9s\n",
      "[CV] C=100, gamma=100, kernel=rbf ....................................\n",
      "[CV] ..................... C=100, gamma=100, kernel=rbf, total=   2.1s\n",
      "[CV] C=1000, gamma=1, kernel=rbf .....................................\n",
      "[CV] ...................... C=1000, gamma=1, kernel=rbf, total=   1.6s\n",
      "[CV] C=1000, gamma=1, kernel=rbf .....................................\n",
      "[CV] ...................... C=1000, gamma=1, kernel=rbf, total=   1.8s\n",
      "[CV] C=1000, gamma=1, kernel=rbf .....................................\n",
      "[CV] ...................... C=1000, gamma=1, kernel=rbf, total=   1.6s\n",
      "[CV] C=1000, gamma=10, kernel=rbf ....................................\n",
      "[CV] ..................... C=1000, gamma=10, kernel=rbf, total=   8.5s\n",
      "[CV] C=1000, gamma=10, kernel=rbf ....................................\n",
      "[CV] ..................... C=1000, gamma=10, kernel=rbf, total=   8.1s\n",
      "[CV] C=1000, gamma=10, kernel=rbf ....................................\n",
      "[CV] ..................... C=1000, gamma=10, kernel=rbf, total=   7.0s\n",
      "[CV] C=1000, gamma=100, kernel=rbf ...................................\n",
      "[CV] .................... C=1000, gamma=100, kernel=rbf, total=   5.6s\n",
      "[CV] C=1000, gamma=100, kernel=rbf ...................................\n",
      "[CV] .................... C=1000, gamma=100, kernel=rbf, total=   5.7s\n",
      "[CV] C=1000, gamma=100, kernel=rbf ...................................\n",
      "[CV] .................... C=1000, gamma=100, kernel=rbf, total=   5.9s\n"
     ]
    },
    {
     "name": "stderr",
     "output_type": "stream",
     "text": [
      "[Parallel(n_jobs=1)]: Done  27 out of  27 | elapsed:  1.2min finished\n"
     ]
    },
    {
     "data": {
      "text/plain": [
       "{'C': 1000, 'gamma': 1, 'kernel': 'rbf'}"
      ]
     },
     "execution_count": 2,
     "metadata": {},
     "output_type": "execute_result"
    }
   ],
   "source": [
    "import pandas as pd\n",
    "import numpy as np\n",
    "from sklearn import model_selection\n",
    "from sklearn.model_selection import train_test_split\n",
    "import matplotlib.pyplot as plt\n",
    "from sklearn.model_selection import cross_val_score\n",
    "from sklearn.model_selection import GridSearchCV\n",
    "from sklearn.svm import SVC\n",
    "\n",
    "\n",
    "\n",
    "\n",
    "df = pd.read_csv(r'C:\\Users\\dungeon\\Desktop\\kick\\kicktraq_scaled.csv')\n",
    "X = df.drop(columns=['status_labels','avg_backers_per_pledge_tier','funding_percentage','funding_raised'\n",
    "                    ,'num_backers','num_pledge_backers','avg_pledge_amount_per_backer','project_video'\n",
    "                    ,'state','category','funding_currency.1','num_faqs','project_img'])\n",
    "y = df['status_labels'].values\n",
    "X_train, X_test, y_train, y_test = train_test_split(X, y, test_size = 0.20,random_state = 42,stratify=y)\n",
    "\n",
    "random_grid = {'kernel' : ['rbf'], 'C' : [10,100,1000], 'gamma': [1,10,100]},\n",
    "              \n",
    "# random_grid2 = {'kernel' : ['poly'], 'C' : [10,100,1000], 'gamma': [0.1, 1, 10],'degree':[1,2,3,4]}               \n",
    "svclassifier = SVC()              \n",
    "svc_grid = GridSearchCV(estimator = svclassifier, param_grid = random_grid, cv = 3,\n",
    "                              verbose = 2, n_jobs = 1)\n",
    "svc_grid.fit(X_train,y_train)\n",
    "svc_grid.best_params_"
   ]
  },
  {
   "cell_type": "code",
   "execution_count": null,
   "metadata": {},
   "outputs": [],
   "source": []
  }
 ],
 "metadata": {
  "kernelspec": {
   "display_name": "Python 3",
   "language": "python",
   "name": "python3"
  },
  "language_info": {
   "codemirror_mode": {
    "name": "ipython",
    "version": 3
   },
   "file_extension": ".py",
   "mimetype": "text/x-python",
   "name": "python",
   "nbconvert_exporter": "python",
   "pygments_lexer": "ipython3",
   "version": "3.7.1"
  }
 },
 "nbformat": 4,
 "nbformat_minor": 2
}
