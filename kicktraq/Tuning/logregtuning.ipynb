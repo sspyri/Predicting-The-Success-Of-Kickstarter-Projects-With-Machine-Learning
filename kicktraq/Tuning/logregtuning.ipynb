{
 "cells": [
  {
   "cell_type": "code",
   "execution_count": 1,
   "metadata": {},
   "outputs": [
    {
     "name": "stdout",
     "output_type": "stream",
     "text": [
      "Fitting 5 folds for each of 100 candidates, totalling 500 fits\n"
     ]
    },
    {
     "name": "stderr",
     "output_type": "stream",
     "text": [
      "[Parallel(n_jobs=-1)]: Using backend LokyBackend with 6 concurrent workers.\n",
      "[Parallel(n_jobs=-1)]: Done  29 tasks      | elapsed:    3.4s\n",
      "[Parallel(n_jobs=-1)]: Done 500 out of 500 | elapsed:    8.0s finished\n"
     ]
    },
    {
     "data": {
      "text/plain": [
       "{'warm_start': 'False',\n",
       " 'solver': 'liblinear',\n",
       " 'penalty': 'l2',\n",
       " 'max_iter': 761,\n",
       " 'C': 10000.0}"
      ]
     },
     "execution_count": 1,
     "metadata": {},
     "output_type": "execute_result"
    }
   ],
   "source": [
    "import pandas as pd\n",
    "import numpy as np\n",
    "from sklearn.model_selection import train_test_split\n",
    "from sklearn.model_selection import cross_val_score\n",
    "from sklearn.linear_model import LogisticRegression\n",
    "from sklearn.metrics import confusion_matrix, classification_report\n",
    "from sklearn.model_selection import RandomizedSearchCV\n",
    "from sklearn import model_selection\n",
    "\n",
    "df = pd.read_csv(r'C:\\Users\\dungeon\\Desktop\\kick\\kicktraq_scaled.csv')\n",
    "\n",
    "X = df.drop(columns=['status_labels','avg_backers_per_pledge_tier','funding_percentage','funding_raised'\n",
    "                    ,'num_backers','num_pledge_backers','avg_pledge_amount_per_backer','description_length','full_desc_len',\n",
    "                    'num_faqs','num_pledge_tiers'])\n",
    "y = df['status_labels'].values\n",
    "# Split dataset into train and test data\n",
    "#X_train, X_test, y_train, y_test = train_test_split(X, y, test_size = 0.33,random_state = 42,stratify=y)\n",
    "\n",
    "penalty = ['l2']\n",
    "# penalty = ['l1']\n",
    "C = np.logspace(-4,4,10)\n",
    "\n",
    "solver = ['lbfgs']\n",
    "solver = ['liblinear']\n",
    "# solver = ['sag']\n",
    "max_iter = [int(x) for x in np.linspace(start = 100, stop = 1000, num = 50)]\n",
    "warm_start = ['True','False']\n",
    "random_grid = {'penalty': penalty,\n",
    "               'C': C,\n",
    "               'solver': solver,\n",
    "               'max_iter': max_iter,\n",
    "               'warm_start': warm_start\n",
    "               }\n",
    "logreg = LogisticRegression(random_state = 42)\n",
    "\n",
    "#Random search of parameters, using 5 fold cross validation, search across 100 different combinations,\n",
    "# and use all available cores\n",
    "logreg_random = RandomizedSearchCV(estimator = logreg, param_distributions = random_grid, n_iter = 100, cv = 5,\n",
    "                              verbose = 2, random_state = 42, n_jobs = -1)\n",
    "# Fitting the model\n",
    "logreg_random.fit(X,y)\n",
    "\n",
    "#Best parameters from RandomSearchCV\n",
    "logreg_random.best_params_"
   ]
  },
  {
   "cell_type": "code",
   "execution_count": null,
   "metadata": {},
   "outputs": [],
   "source": []
  }
 ],
 "metadata": {
  "kernelspec": {
   "display_name": "Python 3",
   "language": "python",
   "name": "python3"
  },
  "language_info": {
   "codemirror_mode": {
    "name": "ipython",
    "version": 3
   },
   "file_extension": ".py",
   "mimetype": "text/x-python",
   "name": "python",
   "nbconvert_exporter": "python",
   "pygments_lexer": "ipython3",
   "version": "3.7.1"
  }
 },
 "nbformat": 4,
 "nbformat_minor": 2
}
