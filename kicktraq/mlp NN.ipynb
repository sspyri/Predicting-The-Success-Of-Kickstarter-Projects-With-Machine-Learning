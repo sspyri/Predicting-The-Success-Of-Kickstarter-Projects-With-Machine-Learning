{
 "cells": [
  {
   "cell_type": "code",
   "execution_count": 3,
   "metadata": {},
   "outputs": [
    {
     "name": "stdout",
     "output_type": "stream",
     "text": [
      "{1: {'feature_idx': (0,), 'cv_scores': array([0.68438914, 0.70685841, 0.69749728, 0.66894198, 0.68658399,\n",
      "       0.69994391, 0.68973341, 0.69803922, 0.70817121, 0.67182847]), 'avg_score': 0.6911987012457307, 'feature_names': ('Updates',)}, 2: {'feature_idx': (0, 6), 'cv_scores': array([0.6757934 , 0.6803995 , 0.74322169, 0.7403794 , 0.73994638,\n",
      "       0.74959438, 0.72846238, 0.75352877, 0.76492738, 0.72842348]), 'avg_score': 0.7304676760862562, 'feature_names': ('Updates', 'Facebook_Shares')}, 3: {'feature_idx': (0, 3, 6), 'cv_scores': array([0.71681957, 0.73493976, 0.76994819, 0.75907591, 0.76630435,\n",
      "       0.77223427, 0.74862183, 0.77967973, 0.79226519, 0.74955804]), 'avg_score': 0.7589446848304879, 'feature_names': ('Updates', 'Goal', 'Facebook_Shares')}, 4: {'feature_idx': (0, 3, 4, 6), 'cv_scores': array([0.66888741, 0.70863076, 0.77005348, 0.76169014, 0.76940257,\n",
      "       0.75823562, 0.75253093, 0.77620397, 0.79459459, 0.76687465]), 'avg_score': 0.7527104115101516, 'feature_names': ('Updates', 'Goal', 'Duration_in_Days', 'Facebook_Shares')}, 5: {'feature_idx': (0, 3, 4, 6, 11), 'cv_scores': array([0.71339174, 0.76418958, 0.78171546, 0.77951482, 0.79227053,\n",
      "       0.78586724, 0.77724101, 0.80064481, 0.79914301, 0.7815453 ]), 'avg_score': 0.7775523514658402, 'feature_names': ('Updates', 'Goal', 'Duration_in_Days', 'Facebook_Shares', '#_Words_(Description)')}, 6: {'feature_idx': (0, 3, 4, 6, 10, 11), 'cv_scores': array([0.73534636, 0.75396825, 0.78269825, 0.76655443, 0.77498604,\n",
      "       0.76982379, 0.76444929, 0.79365079, 0.77557942, 0.75736961]), 'avg_score': 0.7674426247806261, 'feature_names': ('Updates', 'Goal', 'Duration_in_Days', 'Facebook_Shares', '#_Images', '#_Words_(Description)')}, 7: {'feature_idx': (0, 1, 3, 4, 6, 10, 11), 'cv_scores': array([0.70325463, 0.76128266, 0.78023134, 0.77423033, 0.78451178,\n",
      "       0.77458564, 0.77084484, 0.80441989, 0.79912901, 0.77865169]), 'avg_score': 0.7731141799688217, 'feature_names': ('Updates', 'Comments', 'Goal', 'Duration_in_Days', 'Facebook_Shares', '#_Images', '#_Words_(Description)')}, 8: {'feature_idx': (0, 1, 3, 4, 6, 10, 11, 18), 'cv_scores': array([0.67866667, 0.73703704, 0.7887468 , 0.78427205, 0.79331942,\n",
      "       0.78746015, 0.78368223, 0.80513919, 0.79508197, 0.7917088 ]), 'avg_score': 0.7745114305239691, 'feature_names': ('Updates', 'Comments', 'Goal', 'Duration_in_Days', 'Facebook_Shares', '#_Images', '#_Words_(Description)', 'Has_Video')}, 9: {'feature_idx': (0, 1, 3, 4, 6, 10, 11, 12, 18), 'cv_scores': array([0.70942912, 0.73431734, 0.7645126 , 0.7751606 , 0.79393305,\n",
      "       0.78532902, 0.79110651, 0.79831045, 0.7966805 , 0.79157895]), 'avg_score': 0.7740358146900685, 'feature_names': ('Updates', 'Comments', 'Goal', 'Duration_in_Days', 'Facebook_Shares', '#_Images', '#_Words_(Description)', '#_Words_(RisksandChallenges)', 'Has_Video')}, 10: {'feature_idx': (0, 1, 3, 4, 5, 6, 10, 11, 12, 18), 'cv_scores': array([0.73596177, 0.75694444, 0.7761658 , 0.75721562, 0.78145695,\n",
      "       0.77217963, 0.77819348, 0.78594951, 0.77883008, 0.76738883]), 'avg_score': 0.769028611127835, 'feature_names': ('Updates', 'Comments', 'Goal', 'Duration_in_Days', 'Facebook_Friends', 'Facebook_Shares', '#_Images', '#_Words_(Description)', '#_Words_(RisksandChallenges)', 'Has_Video')}, 11: {'feature_idx': (0, 1, 3, 4, 5, 6, 10, 11, 12, 17, 18), 'cv_scores': array([0.7073955 , 0.71437461, 0.76447442, 0.76421866, 0.78567553,\n",
      "       0.77641824, 0.76685083, 0.77815315, 0.77667767, 0.77709839]), 'avg_score': 0.7611337006187093, 'feature_names': ('Updates', 'Comments', 'Goal', 'Duration_in_Days', 'Facebook_Friends', 'Facebook_Shares', '#_Images', '#_Words_(Description)', '#_Words_(RisksandChallenges)', 'Facebook_Connected', 'Has_Video')}, 12: {'feature_idx': (0, 1, 3, 4, 5, 6, 8, 10, 11, 12, 17, 18), 'cv_scores': array([0.72805933, 0.75552969, 0.77299309, 0.76464208, 0.77971647,\n",
      "       0.7868676 , 0.77588047, 0.79680851, 0.77838428, 0.77394636]), 'avg_score': 0.7712827875562471, 'feature_names': ('Updates', 'Comments', 'Goal', 'Duration_in_Days', 'Facebook_Friends', 'Facebook_Shares', 'Creator_Projects_Backed', '#_Images', '#_Words_(Description)', '#_Words_(RisksandChallenges)', 'Facebook_Connected', 'Has_Video')}, 13: {'feature_idx': (0, 1, 3, 4, 5, 6, 7, 8, 10, 11, 12, 17, 18), 'cv_scores': array([0.73773471, 0.75834292, 0.78031456, 0.7641196 , 0.78194671,\n",
      "       0.78037904, 0.76898048, 0.7803242 , 0.77234401, 0.76576577]), 'avg_score': 0.7690252002966629, 'feature_names': ('Updates', 'Comments', 'Goal', 'Duration_in_Days', 'Facebook_Friends', 'Facebook_Shares', 'Creator_Projects_Created', 'Creator_Projects_Backed', '#_Images', '#_Words_(Description)', '#_Words_(RisksandChallenges)', 'Facebook_Connected', 'Has_Video')}, 14: {'feature_idx': (0, 1, 3, 4, 5, 6, 7, 8, 10, 11, 12, 13, 17, 18), 'cv_scores': array([0.72738462, 0.74735605, 0.77013333, 0.73752969, 0.75291375,\n",
      "       0.77108434, 0.74587834, 0.77891156, 0.78356164, 0.76629213]), 'avg_score': 0.7581045465155196, 'feature_names': ('Updates', 'Comments', 'Goal', 'Duration_in_Days', 'Facebook_Friends', 'Facebook_Shares', 'Creator_Projects_Created', 'Creator_Projects_Backed', '#_Images', '#_Words_(Description)', '#_Words_(RisksandChallenges)', '#_FAQs', 'Facebook_Connected', 'Has_Video')}, 15: {'feature_idx': (0, 1, 3, 4, 5, 6, 7, 8, 9, 10, 11, 12, 13, 17, 18), 'cv_scores': array([0.70984127, 0.73815166, 0.76923077, 0.75881684, 0.78559738,\n",
      "       0.77598666, 0.76863611, 0.78455512, 0.7795492 , 0.77051926]), 'avg_score': 0.7640884274550757, 'feature_names': ('Updates', 'Comments', 'Goal', 'Duration_in_Days', 'Facebook_Friends', 'Facebook_Shares', 'Creator_Projects_Created', 'Creator_Projects_Backed', '#_Videos', '#_Images', '#_Words_(Description)', '#_Words_(RisksandChallenges)', '#_FAQs', 'Facebook_Connected', 'Has_Video')}, 16: {'feature_idx': (0, 1, 2, 3, 4, 5, 6, 7, 8, 9, 10, 11, 12, 13, 17, 18), 'cv_scores': array([0.75522894, 0.77394209, 0.78229908, 0.77109763, 0.78331528,\n",
      "       0.77802691, 0.76805252, 0.79184549, 0.78303426, 0.78062361]), 'avg_score': 0.7767465806965511, 'feature_names': ('Updates', 'Comments', 'Rewards', 'Goal', 'Duration_in_Days', 'Facebook_Friends', 'Facebook_Shares', 'Creator_Projects_Created', 'Creator_Projects_Backed', '#_Videos', '#_Images', '#_Words_(Description)', '#_Words_(RisksandChallenges)', '#_FAQs', 'Facebook_Connected', 'Has_Video')}, 17: {'feature_idx': (0, 1, 2, 3, 4, 5, 6, 7, 8, 9, 10, 11, 12, 13, 14, 17, 18), 'cv_scores': array([0.73199528, 0.73764706, 0.76866841, 0.73563218, 0.77508269,\n",
      "       0.77777778, 0.75292805, 0.76386507, 0.77006508, 0.76084538]), 'avg_score': 0.7574506974432362, 'feature_names': ('Updates', 'Comments', 'Rewards', 'Goal', 'Duration_in_Days', 'Facebook_Friends', 'Facebook_Shares', 'Creator_Projects_Created', 'Creator_Projects_Backed', '#_Videos', '#_Images', '#_Words_(Description)', '#_Words_(RisksandChallenges)', '#_FAQs', 'Currency', 'Facebook_Connected', 'Has_Video')}, 18: {'feature_idx': (0, 1, 2, 3, 4, 5, 6, 7, 8, 9, 10, 11, 12, 13, 14, 15, 17, 18), 'cv_scores': array([0.74232774, 0.76898048, 0.77267987, 0.72199652, 0.75602916,\n",
      "       0.77094972, 0.74496644, 0.75783476, 0.76956522, 0.7584    ]), 'avg_score': 0.756372990893233, 'feature_names': ('Updates', 'Comments', 'Rewards', 'Goal', 'Duration_in_Days', 'Facebook_Friends', 'Facebook_Shares', 'Creator_Projects_Created', 'Creator_Projects_Backed', '#_Videos', '#_Images', '#_Words_(Description)', '#_Words_(RisksandChallenges)', '#_FAQs', 'Currency', 'Top_Category', 'Facebook_Connected', 'Has_Video')}, 19: {'feature_idx': (0, 1, 2, 3, 4, 5, 6, 7, 8, 9, 10, 11, 12, 13, 14, 15, 16, 17, 18), 'cv_scores': array([0.65839321, 0.70352369, 0.75408306, 0.7176888 , 0.76409186,\n",
      "       0.75977654, 0.73444613, 0.75386313, 0.73321658, 0.68990826]), 'avg_score': 0.7268991256260957, 'feature_names': ('Updates', 'Comments', 'Rewards', 'Goal', 'Duration_in_Days', 'Facebook_Friends', 'Facebook_Shares', 'Creator_Projects_Created', 'Creator_Projects_Backed', '#_Videos', '#_Images', '#_Words_(Description)', '#_Words_(RisksandChallenges)', '#_FAQs', 'Currency', 'Top_Category', 'Category', 'Facebook_Connected', 'Has_Video')}}\n",
      "best combination (ACC: 0.778): (0, 3, 4, 6, 11)\n",
      "\n"
     ]
    }
   ],
   "source": [
    "import pandas as pd\n",
    "import numpy as np\n",
    "from sklearn.model_selection import train_test_split\n",
    "from sklearn.model_selection import cross_val_score\n",
    "from sklearn.metrics import confusion_matrix, classification_report\n",
    "from mlxtend.feature_selection import SequentialFeatureSelector as SFS\n",
    "from sklearn.neural_network import MLPClassifier\n",
    "\n",
    "df = pd.read_csv(r'C:\\Users\\dungeon\\Desktop\\New folder\\Scaled18kLast.csv')\n",
    "X = df.drop(columns=['State','Location','Pledged','Backers'])\n",
    "y = df['State'].values\n",
    "\n",
    "\n",
    "# Split dataset into train and test data\n",
    "\n",
    "mlp = MLPClassifier(random_state=42)\n",
    "\n",
    "#sequensial forward selection\n",
    "sfs = SFS(mlp, k_features = (1,19),forward = True, floating = False,scoring = 'f1',cv =10,n_jobs = -1)\n",
    "sfs = sfs.fit(X,y)\n",
    "\n",
    "\n",
    "\n",
    "print(sfs.subsets_)\n",
    "\n",
    "print('best combination (ACC: %.3f): %s\\n' % (sfs.k_score_, sfs.k_feature_idx_))\n"
   ]
  },
  {
   "cell_type": "code",
   "execution_count": null,
   "metadata": {},
   "outputs": [],
   "source": []
  }
 ],
 "metadata": {
  "kernelspec": {
   "display_name": "Python 3",
   "language": "python",
   "name": "python3"
  }
 },
 "nbformat": 4,
 "nbformat_minor": 2
}
