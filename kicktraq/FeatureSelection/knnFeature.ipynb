{
 "cells": [
  {
   "cell_type": "code",
   "execution_count": 2,
   "metadata": {},
   "outputs": [
    {
     "name": "stdout",
     "output_type": "stream",
     "text": [
      "{1: {'feature_idx': (8,), 'cv_scores': array([0.80501393, 0.84266667, 0.82147651, 0.75218659, 0.69362364,\n",
      "       0.78813559, 0.82503193, 0.7797619 , 0.78212291, 0.82077922]), 'avg_score': 0.7910798884692557, 'feature_names': ('num_updates',)}, 2: {'feature_idx': (5, 8), 'cv_scores': array([0.81408451, 0.86694102, 0.85233161, 0.81313131, 0.76470588,\n",
      "       0.78813559, 0.80508475, 0.84822695, 0.82758621, 0.84042553]), 'avg_score': 0.8220653351982394, 'feature_names': ('num_created_by_owner', 'num_updates')}, 3: {'feature_idx': (1, 5, 8), 'cv_scores': array([0.83379501, 0.87924016, 0.86264442, 0.825     , 0.77729258,\n",
      "       0.80667594, 0.82008368, 0.88      , 0.85492228, 0.85564304]), 'avg_score': 0.8395297114234157, 'feature_names': ('featured_project', 'num_created_by_owner', 'num_updates')}, 4: {'feature_idx': (1, 5, 8, 10), 'cv_scores': array([0.8141844 , 0.87058824, 0.8625    , 0.82051282, 0.83397683,\n",
      "       0.81059603, 0.82535576, 0.88340192, 0.83930943, 0.85639687]), 'avg_score': 0.8416822286459233, 'feature_names': ('featured_project', 'num_created_by_owner', 'num_updates', 'project_video')}, 5: {'feature_idx': (1, 5, 8, 9, 10), 'cv_scores': array([0.86096257, 0.88205128, 0.875     , 0.84554974, 0.82573727,\n",
      "       0.84536082, 0.86922061, 0.86133333, 0.86632391, 0.85263158]), 'avg_score': 0.8584171104671452, 'feature_names': ('featured_project', 'num_created_by_owner', 'num_updates', 'project_img', 'project_video')}, 6: {'feature_idx': (1, 5, 6, 8, 9, 10), 'cv_scores': array([0.87096774, 0.87067862, 0.87046632, 0.85194805, 0.81627297,\n",
      "       0.86404066, 0.86762779, 0.86756757, 0.87100894, 0.848     ]), 'avg_score': 0.8598578651501793, 'feature_names': ('featured_project', 'num_created_by_owner', 'num_faqs', 'num_updates', 'project_img', 'project_video')}, 7: {'feature_idx': (1, 5, 6, 8, 9, 10, 13), 'cv_scores': array([0.85564304, 0.85971686, 0.85642317, 0.8501292 , 0.81351351,\n",
      "       0.86043534, 0.85416667, 0.86321381, 0.86597938, 0.84350133]), 'avg_score': 0.8522722315719206, 'feature_names': ('featured_project', 'num_created_by_owner', 'num_faqs', 'num_updates', 'project_img', 'project_video', 'funding_currency.1')}, 8: {'feature_idx': (1, 4, 5, 6, 8, 9, 10, 13), 'cv_scores': array([0.85939553, 0.85347044, 0.86289308, 0.83570505, 0.80474934,\n",
      "       0.85935484, 0.84684685, 0.85676393, 0.845953  , 0.83003953]), 'avg_score': 0.8455171576209647, 'feature_names': ('featured_project', 'num_comments', 'num_created_by_owner', 'num_faqs', 'num_updates', 'project_img', 'project_video', 'funding_currency.1')}, 9: {'feature_idx': (1, 4, 5, 6, 8, 9, 10, 11, 13), 'cv_scores': array([0.85939553, 0.8422425 , 0.85128205, 0.83829237, 0.78484438,\n",
      "       0.82785808, 0.85199485, 0.84485007, 0.84375   , 0.824     ]), 'avg_score': 0.8368509837094485, 'feature_names': ('featured_project', 'num_comments', 'num_created_by_owner', 'num_faqs', 'num_updates', 'project_img', 'project_video', 'duration', 'funding_currency.1')}, 10: {'feature_idx': (1, 4, 5, 6, 7, 8, 9, 10, 11, 13), 'cv_scores': array([0.84293194, 0.83206107, 0.8238342 , 0.82184655, 0.78203435,\n",
      "       0.82306684, 0.84057971, 0.82195448, 0.80465718, 0.82694848]), 'avg_score': 0.8219914799665295, 'feature_names': ('featured_project', 'num_comments', 'num_created_by_owner', 'num_faqs', 'num_pledge_tiers', 'num_updates', 'project_img', 'project_video', 'duration', 'funding_currency.1')}, 11: {'feature_idx': (1, 4, 5, 6, 7, 8, 9, 10, 11, 12, 13), 'cv_scores': array([0.82841823, 0.82802548, 0.8005284 , 0.80946124, 0.76923077,\n",
      "       0.82044561, 0.81411126, 0.83641161, 0.79369251, 0.83466667]), 'avg_score': 0.8134991771632494, 'feature_names': ('featured_project', 'num_comments', 'num_created_by_owner', 'num_faqs', 'num_pledge_tiers', 'num_updates', 'project_img', 'project_video', 'duration', 'category', 'funding_currency.1')}, 12: {'feature_idx': (1, 4, 5, 6, 7, 8, 9, 10, 11, 12, 13, 14), 'cv_scores': array([0.79144385, 0.79796696, 0.78487614, 0.79381443, 0.73360107,\n",
      "       0.78023407, 0.75945946, 0.76983095, 0.75291074, 0.77192982]), 'avg_score': 0.773606749908061, 'feature_names': ('featured_project', 'num_comments', 'num_created_by_owner', 'num_faqs', 'num_pledge_tiers', 'num_updates', 'project_img', 'project_video', 'duration', 'category', 'funding_currency.1', 'state')}, 13: {'feature_idx': (0, 1, 4, 5, 6, 7, 8, 9, 10, 11, 12, 13, 14), 'cv_scores': array([0.75303644, 0.76326003, 0.74005305, 0.7606727 , 0.70094723,\n",
      "       0.73377483, 0.73360107, 0.75      , 0.73947368, 0.74262735]), 'avg_score': 0.741744637869332, 'feature_names': ('description_length', 'featured_project', 'num_comments', 'num_created_by_owner', 'num_faqs', 'num_pledge_tiers', 'num_updates', 'project_img', 'project_video', 'duration', 'category', 'funding_currency.1', 'state')}, 14: {'feature_idx': (0, 1, 3, 4, 5, 6, 7, 8, 9, 10, 11, 12, 13, 14), 'cv_scores': array([0.70263158, 0.72107186, 0.7160804 , 0.70454545, 0.71581769,\n",
      "       0.64379947, 0.72413793, 0.71410091, 0.67880364, 0.71317829]), 'avg_score': 0.7034167238012556, 'feature_names': ('description_length', 'featured_project', 'funding_goal', 'num_comments', 'num_created_by_owner', 'num_faqs', 'num_pledge_tiers', 'num_updates', 'project_img', 'project_video', 'duration', 'category', 'funding_currency.1', 'state')}, 15: {'feature_idx': (0, 1, 2, 3, 4, 5, 6, 7, 8, 9, 10, 11, 12, 13, 14), 'cv_scores': array([0.69250646, 0.69444444, 0.68280255, 0.65976714, 0.67503137,\n",
      "       0.65963061, 0.6870229 , 0.68789809, 0.66311585, 0.67179487]), 'avg_score': 0.6774014274930773, 'feature_names': ('description_length', 'featured_project', 'full_desc_len', 'funding_goal', 'num_comments', 'num_created_by_owner', 'num_faqs', 'num_pledge_tiers', 'num_updates', 'project_img', 'project_video', 'duration', 'category', 'funding_currency.1', 'state')}}\n",
      "best combination (ACC: 0.860): (1, 5, 6, 8, 9, 10)\n",
      "\n"
     ]
    }
   ],
   "source": [
    "import pandas as pd\n",
    "import numpy as np\n",
    "from sklearn.model_selection import train_test_split\n",
    "from sklearn.model_selection import cross_val_score\n",
    "from sklearn.metrics import confusion_matrix, classification_report\n",
    "from mlxtend.feature_selection import SequentialFeatureSelector as SFS\n",
    "from sklearn.neighbors import KNeighborsClassifier\n",
    "\n",
    "df = pd.read_csv(r'C:\\Users\\dungeon\\Desktop\\kick\\kicktraq.csv')\n",
    "X = df.drop(columns=['status_labels','avg_backers_per_pledge_tier','funding_percentage','funding_raised'\n",
    "                    ,'num_backers','num_pledge_backers','avg_pledge_amount_per_backer'])\n",
    "y = df['status_labels'].values\n",
    "# Split dataset into train and test data\n",
    "X_train, X_test, y_train, y_test = train_test_split(X, y, test_size = 0.33, random_state = 42,stratify=y)\n",
    "knn = KNeighborsClassifier()\n",
    "sfs = SFS(knn, k_features = (1,15),forward = True, floating = False,scoring = 'f1',cv =10,n_jobs = -1)\n",
    "sfs = sfs.fit(X,y)\n",
    "#train model with cv of 5\n",
    "#cv_scores = cross_val_score(svclassifier, X, y, cv=5, scoring='accuracy')\n",
    "\n",
    "# Get SFS Results\n",
    "print(sfs.subsets_)\n",
    "\n",
    "print('best combination (ACC: %.3f): %s\\n' % (sfs.k_score_, sfs.k_feature_idx_))"
   ]
  },
  {
   "cell_type": "code",
   "execution_count": null,
   "metadata": {},
   "outputs": [],
   "source": []
  }
 ],
 "metadata": {
  "kernelspec": {
   "display_name": "Python 3",
   "language": "python",
   "name": "python3"
  },
  "language_info": {
   "codemirror_mode": {
    "name": "ipython",
    "version": 3
   },
   "file_extension": ".py",
   "mimetype": "text/x-python",
   "name": "python",
   "nbconvert_exporter": "python",
   "pygments_lexer": "ipython3",
   "version": "3.7.1"
  }
 },
 "nbformat": 4,
 "nbformat_minor": 2
}
