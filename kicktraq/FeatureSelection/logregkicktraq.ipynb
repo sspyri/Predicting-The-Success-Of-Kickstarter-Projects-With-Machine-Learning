{
 "cells": [
  {
   "cell_type": "code",
   "execution_count": 2,
   "metadata": {},
   "outputs": [
    {
     "name": "stdout",
     "output_type": "stream",
     "text": [
      "{1: {'feature_idx': (12,), 'cv_scores': array([0.8115942 , 0.81557377, 0.7877551 , 0.81541582, 0.81541582,\n",
      "       0.78850103, 0.76793249, 0.81893004, 0.77185501, 0.78936605]), 'avg_score': 0.7982339339561698, 'feature_names': ('num_updates',)}, 2: {'feature_idx': (9, 12), 'cv_scores': array([0.82008368, 0.825     , 0.79423868, 0.82208589, 0.82546201,\n",
      "       0.79503106, 0.77777778, 0.82916667, 0.78017241, 0.7926078 ]), 'avg_score': 0.8061625984039733, 'feature_names': ('num_created_by_owner', 'num_updates')}, 3: {'feature_idx': (0, 9, 12), 'cv_scores': array([0.84897959, 0.84662577, 0.80981595, 0.8496994 , 0.84081633,\n",
      "       0.83064516, 0.80334728, 0.84536082, 0.81092437, 0.81781377]), 'avg_score': 0.8304028436253758, 'feature_names': ('featured_project', 'num_created_by_owner', 'num_updates')}, 4: {'feature_idx': (0, 7, 9, 12), 'cv_scores': array([0.84897959, 0.84662577, 0.81147541, 0.85483871, 0.84253579,\n",
      "       0.8340081 , 0.80334728, 0.84710744, 0.81183932, 0.82040816]), 'avg_score': 0.8321165567792234, 'feature_names': ('featured_project', 'funding_goal', 'num_created_by_owner', 'num_updates')}, 5: {'feature_idx': (0, 7, 8, 9, 12), 'cv_scores': array([0.84897959, 0.84662577, 0.81147541, 0.85483871, 0.84253579,\n",
      "       0.8340081 , 0.80334728, 0.84710744, 0.81434599, 0.82040816]), 'avg_score': 0.8323672235886184, 'feature_names': ('featured_project', 'funding_goal', 'num_comments', 'num_created_by_owner', 'num_updates')}, 6: {'feature_idx': (0, 7, 8, 9, 12, 14), 'cv_scores': array([0.84040404, 0.8502994 , 0.81466395, 0.8452381 , 0.82186235,\n",
      "       0.83433134, 0.78947368, 0.8582996 , 0.82786885, 0.82164329]), 'avg_score': 0.8304084591847779, 'feature_names': ('featured_project', 'funding_goal', 'num_comments', 'num_created_by_owner', 'num_updates', 'duration')}, 7: {'feature_idx': (0, 2, 7, 8, 9, 12, 14), 'cv_scores': array([0.844     , 0.8452381 , 0.82352941, 0.85490196, 0.81781377,\n",
      "       0.83499006, 0.79840319, 0.85598377, 0.82520325, 0.81927711]), 'avg_score': 0.8319340619509952, 'feature_names': ('featured_project', 'state', 'funding_goal', 'num_comments', 'num_created_by_owner', 'num_updates', 'duration')}, 8: {'feature_idx': (0, 2, 3, 7, 8, 9, 12, 14), 'cv_scores': array([0.84337349, 0.84691849, 0.81541582, 0.8515625 , 0.82258065,\n",
      "       0.83333333, 0.80160321, 0.85656566, 0.83805668, 0.81927711]), 'avg_score': 0.8328686934611309, 'feature_names': ('featured_project', 'state', 'category', 'funding_goal', 'num_comments', 'num_created_by_owner', 'num_updates', 'duration')}, 9: {'feature_idx': (0, 1, 2, 3, 7, 8, 9, 12, 14), 'cv_scores': array([0.84569138, 0.84752475, 0.81135903, 0.8460039 , 0.8249497 ,\n",
      "       0.83794466, 0.804     , 0.85771543, 0.83636364, 0.82164329]), 'avg_score': 0.8333195776264685, 'feature_names': ('featured_project', 'project_video', 'state', 'category', 'funding_goal', 'num_comments', 'num_created_by_owner', 'num_updates', 'duration')}, 10: {'feature_idx': (0, 1, 2, 3, 4, 7, 8, 9, 12, 14), 'cv_scores': array([0.83564356, 0.85375494, 0.81616162, 0.85380117, 0.83665339,\n",
      "       0.83234714, 0.80952381, 0.85714286, 0.82995951, 0.82306163]), 'avg_score': 0.8348049628369182, 'feature_names': ('featured_project', 'project_video', 'state', 'category', 'funding_currency.1', 'funding_goal', 'num_comments', 'num_created_by_owner', 'num_updates', 'duration')}, 11: {'feature_idx': (0, 1, 2, 3, 4, 7, 8, 9, 12, 13, 14), 'cv_scores': array([0.8531746 , 0.86519115, 0.82377049, 0.83693517, 0.83366733,\n",
      "       0.84540117, 0.81763527, 0.84738956, 0.82164329, 0.80638723]), 'avg_score': 0.8351195258586974, 'feature_names': ('featured_project', 'project_video', 'state', 'category', 'funding_currency.1', 'funding_goal', 'num_comments', 'num_created_by_owner', 'num_updates', 'project_img', 'duration')}, 12: {'feature_idx': (0, 1, 2, 3, 4, 7, 8, 9, 10, 12, 13, 14), 'cv_scores': array([0.8531746 , 0.86345382, 0.82135524, 0.83693517, 0.8313253 ,\n",
      "       0.84540117, 0.81763527, 0.8496994 , 0.81927711, 0.80638723]), 'avg_score': 0.8344644300263815, 'feature_names': ('featured_project', 'project_video', 'state', 'category', 'funding_currency.1', 'funding_goal', 'num_comments', 'num_created_by_owner', 'num_faqs', 'num_updates', 'project_img', 'duration')}, 13: {'feature_idx': (0, 1, 2, 3, 4, 7, 8, 9, 10, 11, 12, 13, 14), 'cv_scores': array([0.85940594, 0.861167  , 0.81632653, 0.83430799, 0.82730924,\n",
      "       0.83757339, 0.81690141, 0.84      , 0.81690141, 0.82164329]), 'avg_score': 0.8331536191362042, 'feature_names': ('featured_project', 'project_video', 'state', 'category', 'funding_currency.1', 'funding_goal', 'num_comments', 'num_created_by_owner', 'num_faqs', 'num_pledge_tiers', 'num_updates', 'project_img', 'duration')}, 14: {'feature_idx': (0, 1, 2, 3, 4, 6, 7, 8, 9, 10, 11, 12, 13, 14), 'cv_scores': array([0.85940594, 0.85483871, 0.81799591, 0.84086444, 0.83299799,\n",
      "       0.82352941, 0.82164329, 0.84294235, 0.81451613, 0.81763527]), 'avg_score': 0.8326369432133724, 'feature_names': ('featured_project', 'project_video', 'state', 'category', 'funding_currency.1', 'full_desc_len', 'funding_goal', 'num_comments', 'num_created_by_owner', 'num_faqs', 'num_pledge_tiers', 'num_updates', 'project_img', 'duration')}, 15: {'feature_idx': (0, 1, 2, 3, 4, 5, 6, 7, 8, 9, 10, 11, 12, 13, 14), 'cv_scores': array([0.864     , 0.84444444, 0.81967213, 0.84313725, 0.836     ,\n",
      "       0.83203125, 0.81437126, 0.84231537, 0.8097166 , 0.81124498]), 'avg_score': 0.8316933286350414, 'feature_names': ('featured_project', 'project_video', 'state', 'category', 'funding_currency.1', 'description_length', 'full_desc_len', 'funding_goal', 'num_comments', 'num_created_by_owner', 'num_faqs', 'num_pledge_tiers', 'num_updates', 'project_img', 'duration')}}\n",
      "best combination (ACC: 0.835): (0, 1, 2, 3, 4, 7, 8, 9, 12, 13, 14)\n",
      "\n"
     ]
    }
   ],
   "source": [
    "import pandas as pd\n",
    "import numpy as np\n",
    "from sklearn.model_selection import train_test_split\n",
    "from sklearn.model_selection import cross_val_score\n",
    "from sklearn.metrics import confusion_matrix, classification_report\n",
    "from mlxtend.feature_selection import SequentialFeatureSelector as SFS\n",
    "from sklearn.linear_model import LogisticRegression\n",
    "\n",
    "\n",
    "df = pd.read_csv(r'C:\\Users\\dungeon\\Desktop\\kick\\kicktraq_scaled.csv')\n",
    "X = df.drop(columns=['status_labels','avg_backers_per_pledge_tier','funding_percentage','funding_raised'\n",
    "                    ,'num_backers','num_pledge_backers','avg_pledge_amount_per_backer'])\n",
    "y = df['status_labels'].values\n",
    "\n",
    "\n",
    "# Split dataset into train and test data\n",
    "X_train, X_test, y_train, y_test = train_test_split(X, y, test_size = 0.33, random_state = 42,stratify=y)\n",
    "logreg = LogisticRegression(random_state=42)\n",
    "\n",
    "\n",
    "#sequensial forward selection\n",
    "sfs = SFS(logreg, k_features = (1,15),forward = True, floating = False,scoring = 'f1',cv =10,n_jobs = -1)\n",
    "sfs = sfs.fit(X_train,y_train)\n",
    "\n",
    "print(sfs.subsets_)\n",
    "\n",
    "print('best combination (ACC: %.3f): %s\\n' % (sfs.k_score_, sfs.k_feature_idx_))\n",
    "\n"
   ]
  },
  {
   "cell_type": "code",
   "execution_count": null,
   "metadata": {},
   "outputs": [],
   "source": []
  }
 ],
 "metadata": {
  "kernelspec": {
   "display_name": "Python 3",
   "language": "python",
   "name": "python3"
  },
  "language_info": {
   "codemirror_mode": {
    "name": "ipython",
    "version": 3
   },
   "file_extension": ".py",
   "mimetype": "text/x-python",
   "name": "python",
   "nbconvert_exporter": "python",
   "pygments_lexer": "ipython3",
   "version": "3.7.1"
  }
 },
 "nbformat": 4,
 "nbformat_minor": 2
}
