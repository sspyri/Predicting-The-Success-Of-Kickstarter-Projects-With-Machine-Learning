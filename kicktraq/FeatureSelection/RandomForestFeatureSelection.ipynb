{
 "cells": [
  {
   "cell_type": "code",
   "execution_count": 3,
   "metadata": {},
   "outputs": [
    {
     "name": "stderr",
     "output_type": "stream",
     "text": [
      "C:\\Users\\dungeon\\Anaconda3\\lib\\site-packages\\sklearn\\ensemble\\forest.py:246: FutureWarning: The default value of n_estimators will change from 10 in version 0.20 to 100 in 0.22.\n",
      "  \"10 in version 0.20 to 100 in 0.22.\", FutureWarning)\n"
     ]
    },
    {
     "name": "stdout",
     "output_type": "stream",
     "text": [
      "{1: {'feature_idx': (12,), 'cv_scores': array([0.8283871 , 0.83944374, 0.83185841, 0.80512821, 0.80211082,\n",
      "       0.8359375 , 0.82503193, 0.84387097, 0.81193256, 0.82077922]), 'avg_score': 0.8244480441147184, 'feature_names': ('num_updates',)}, 2: {'feature_idx': (9, 12), 'cv_scores': array([0.84808454, 0.87024902, 0.85233161, 0.82414698, 0.81610738,\n",
      "       0.8359375 , 0.85072655, 0.8685259 , 0.82978723, 0.84266667]), 'avg_score': 0.843856338099011, 'feature_names': ('num_created_by_owner', 'num_updates')}, 3: {'feature_idx': (0, 9, 12), 'cv_scores': array([0.85714286, 0.87614081, 0.86264442, 0.83937824, 0.82085561,\n",
      "       0.84496124, 0.8627451 , 0.88627451, 0.85714286, 0.85789474]), 'avg_score': 0.8565180376858306, 'feature_names': ('featured_project', 'num_created_by_owner', 'num_updates')}, 4: {'feature_idx': (0, 1, 9, 12), 'cv_scores': array([0.85714286, 0.87760417, 0.86410256, 0.84155844, 0.82023968,\n",
      "       0.84278351, 0.863103  , 0.88802083, 0.85862516, 0.85863874]), 'avg_score': 0.8571818952663424, 'feature_names': ('featured_project', 'project_video', 'num_created_by_owner', 'num_updates')}, 5: {'feature_idx': (0, 1, 9, 12, 13), 'cv_scores': array([0.87152318, 0.87686062, 0.872     , 0.87316422, 0.83940621,\n",
      "       0.86842105, 0.86376022, 0.875     , 0.8801054 , 0.86792453]), 'avg_score': 0.8688165428818255, 'feature_names': ('featured_project', 'project_video', 'num_created_by_owner', 'num_updates', 'project_img')}, 6: {'feature_idx': (0, 1, 7, 9, 12, 13), 'cv_scores': array([0.87368421, 0.90339426, 0.88802083, 0.88073394, 0.84042553,\n",
      "       0.86375321, 0.89066667, 0.90501319, 0.87323944, 0.87935657]), 'avg_score': 0.8798287854234088, 'feature_names': ('featured_project', 'project_video', 'funding_goal', 'num_created_by_owner', 'num_updates', 'project_img')}, 7: {'feature_idx': (0, 1, 3, 7, 9, 12, 13), 'cv_scores': array([0.8968254 , 0.90837696, 0.9038961 , 0.88537549, 0.87002653,\n",
      "       0.86831812, 0.89544236, 0.8962766 , 0.9015544 , 0.8966443 ]), 'avg_score': 0.8922736260338885, 'feature_names': ('featured_project', 'project_video', 'category', 'funding_goal', 'num_created_by_owner', 'num_updates', 'project_img')}, 8: {'feature_idx': (0, 1, 3, 7, 8, 9, 12, 13), 'cv_scores': array([0.90356671, 0.91798942, 0.90956072, 0.90314136, 0.87383798,\n",
      "       0.87046632, 0.90106952, 0.90884718, 0.8968254 , 0.89719626]), 'avg_score': 0.8982500878322345, 'feature_names': ('featured_project', 'project_video', 'category', 'funding_goal', 'num_comments', 'num_created_by_owner', 'num_updates', 'project_img')}, 9: {'feature_idx': (0, 1, 3, 7, 8, 9, 11, 12, 13), 'cv_scores': array([0.89920424, 0.92388451, 0.91264668, 0.9       , 0.88567674,\n",
      "       0.8961039 , 0.90713324, 0.91298527, 0.90078329, 0.90106952]), 'avg_score': 0.903948739763192, 'feature_names': ('featured_project', 'project_video', 'category', 'funding_goal', 'num_comments', 'num_created_by_owner', 'num_pledge_tiers', 'num_updates', 'project_img')}, 10: {'feature_idx': (0, 1, 3, 7, 8, 9, 11, 12, 13, 14), 'cv_scores': array([0.90545939, 0.92650919, 0.90743155, 0.89753567, 0.88075881,\n",
      "       0.88774194, 0.91466667, 0.91152815, 0.89920424, 0.91078562]), 'avg_score': 0.904162121637702, 'feature_names': ('featured_project', 'project_video', 'category', 'funding_goal', 'num_comments', 'num_created_by_owner', 'num_pledge_tiers', 'num_updates', 'project_img', 'duration')}, 11: {'feature_idx': (0, 1, 3, 4, 7, 8, 9, 11, 12, 13, 14), 'cv_scores': array([0.90185676, 0.92084433, 0.90457516, 0.90221643, 0.88227334,\n",
      "       0.89003881, 0.9144385 , 0.91397849, 0.91029024, 0.90039841]), 'avg_score': 0.904091047546669, 'feature_names': ('featured_project', 'project_video', 'category', 'funding_currency.1', 'funding_goal', 'num_comments', 'num_created_by_owner', 'num_pledge_tiers', 'num_updates', 'project_img', 'duration')}, 12: {'feature_idx': (0, 1, 2, 3, 4, 7, 8, 9, 11, 12, 13, 14), 'cv_scores': array([0.90106952, 0.91877497, 0.90052356, 0.89934641, 0.8746594 ,\n",
      "       0.88801054, 0.90596026, 0.91767881, 0.90620872, 0.91152815]), 'avg_score': 0.9023760337671745, 'feature_names': ('featured_project', 'project_video', 'state', 'category', 'funding_currency.1', 'funding_goal', 'num_comments', 'num_created_by_owner', 'num_pledge_tiers', 'num_updates', 'project_img', 'duration')}, 13: {'feature_idx': (0, 1, 2, 3, 4, 7, 8, 9, 10, 11, 12, 13, 14), 'cv_scores': array([0.9047619 , 0.92572944, 0.90861619, 0.90144547, 0.88888889,\n",
      "       0.89119171, 0.90026954, 0.90909091, 0.90356671, 0.89338731]), 'avg_score': 0.9026948076957153, 'feature_names': ('featured_project', 'project_video', 'state', 'category', 'funding_currency.1', 'funding_goal', 'num_comments', 'num_created_by_owner', 'num_faqs', 'num_pledge_tiers', 'num_updates', 'project_img', 'duration')}, 14: {'feature_idx': (0, 1, 2, 3, 4, 6, 7, 8, 9, 10, 11, 12, 13, 14), 'cv_scores': array([0.90331126, 0.9144385 , 0.90551181, 0.89033943, 0.87634409,\n",
      "       0.88947368, 0.90425532, 0.9197861 , 0.90227577, 0.89430894]), 'avg_score': 0.9000044896035766, 'feature_names': ('featured_project', 'project_video', 'state', 'category', 'funding_currency.1', 'full_desc_len', 'funding_goal', 'num_comments', 'num_created_by_owner', 'num_faqs', 'num_pledge_tiers', 'num_updates', 'project_img', 'duration')}, 15: {'feature_idx': (0, 1, 2, 3, 4, 5, 6, 7, 8, 9, 10, 11, 12, 13, 14), 'cv_scores': array([0.896     , 0.9179004 , 0.88684211, 0.89556136, 0.85598923,\n",
      "       0.88073394, 0.89823609, 0.90425532, 0.89473684, 0.9009498 ]), 'avg_score': 0.8931205094520308, 'feature_names': ('featured_project', 'project_video', 'state', 'category', 'funding_currency.1', 'description_length', 'full_desc_len', 'funding_goal', 'num_comments', 'num_created_by_owner', 'num_faqs', 'num_pledge_tiers', 'num_updates', 'project_img', 'duration')}}\n",
      "best combination (ACC: 0.904): (0, 1, 3, 7, 8, 9, 11, 12, 13, 14)\n",
      "\n"
     ]
    }
   ],
   "source": [
    "import pandas as pd\n",
    "import numpy as np\n",
    "from sklearn.model_selection import train_test_split\n",
    "from sklearn.model_selection import cross_val_score\n",
    "from sklearn.metrics import confusion_matrix, classification_report\n",
    "from sklearn.svm import SVC\n",
    "from mlxtend.feature_selection import SequentialFeatureSelector as SFS\n",
    "from sklearn.ensemble import RandomForestClassifier\n",
    "\n",
    "\n",
    "df = pd.read_csv(r'C:\\Users\\dungeon\\Desktop\\kick\\kicktraq_scaled.csv')\n",
    "X = df.drop(columns=['status_labels','avg_backers_per_pledge_tier','funding_percentage','funding_raised'\n",
    "                    ,'num_backers','num_pledge_backers','avg_pledge_amount_per_backer'])\n",
    "y = df['status_labels'].values\n",
    "\n",
    "# Split dataset into train and test data\n",
    "X_train, X_test, y_train, y_test = train_test_split(X, y, test_size = 0.33, random_state = 42,stratify=y)\n",
    "rfc = RandomForestClassifier(random_state=42)\n",
    "rfc.fit(X_train,y_train)\n",
    "rfc_predict = rfc.predict(X_test)\n",
    "\n",
    "#sequensial forward selection\n",
    "sfs = SFS(rfc, k_features = (1,15),forward = True, floating = False,scoring = 'f1',cv =10,n_jobs = -1)\n",
    "sfs = sfs.fit(X,y)\n",
    "#train model with cv of 5\n",
    "#cv_scores = cross_val_score(svclassifier, X, y, cv=5, scoring='accuracy')\n",
    "\n",
    "# print('\\nSequential Forward Selection k=3')\n",
    "# print(sfs.k_feature_idx_)\n",
    "# print('CV Score:')\n",
    "# print(sfs.k_score_)\n",
    "print(sfs.subsets_)\n",
    "\n",
    "print('best combination (ACC: %.3f): %s\\n' % (sfs.k_score_, sfs.k_feature_idx_))\n",
    "\n",
    "#print(\"=== Confusion Matrix ===\")\n",
    "#print(confusion_matrix(y_test, svc_predict))\n",
    "#print('\\n')\n",
    "#print(\"=== Classification Report ===\")\n",
    "#print(classification_report(y_test, svc_predict))\n",
    "#print('\\n')\n",
    "#print(\"=== All Accuracy Scores ===\")\n",
    "#print(cv_scores)\n",
    "#print('\\n')\n",
    "#print(\"=== Mean Accuracy Score ===\")\n",
    "#print(\"Mean Accuracy Score - Random Forest: \", cv_scores.mean())"
   ]
  },
  {
   "cell_type": "code",
   "execution_count": null,
   "metadata": {},
   "outputs": [],
   "source": []
  }
 ],
 "metadata": {
  "kernelspec": {
   "display_name": "Python 3",
   "language": "python",
   "name": "python3"
  },
  "language_info": {
   "codemirror_mode": {
    "name": "ipython",
    "version": 3
   },
   "file_extension": ".py",
   "mimetype": "text/x-python",
   "name": "python",
   "nbconvert_exporter": "python",
   "pygments_lexer": "ipython3",
   "version": "3.7.1"
  }
 },
 "nbformat": 4,
 "nbformat_minor": 2
}
