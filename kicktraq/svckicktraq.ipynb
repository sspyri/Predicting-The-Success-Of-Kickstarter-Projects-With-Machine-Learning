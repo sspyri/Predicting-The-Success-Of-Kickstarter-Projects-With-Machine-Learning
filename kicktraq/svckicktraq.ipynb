{
 "cells": [
  {
   "cell_type": "code",
   "execution_count": 1,
   "metadata": {},
   "outputs": [
    {
     "name": "stdout",
     "output_type": "stream",
     "text": [
      "\n",
      "\n",
      "=== Cross Validated Mean Logistic Regression Scores ===\n",
      "Mean Accuracy Score:  0.8473318400207764\n",
      "Mean F1-Score - Logistic Regression:  0.8610047571114242\n",
      "Mean Precision Score:  0.8845009893269629\n",
      "Mean Recall Score:  0.838852672750978\n"
     ]
    }
   ],
   "source": [
    "import pandas as pd\n",
    "import numpy as np\n",
    "from sklearn.model_selection import train_test_split\n",
    "import matplotlib.pyplot as plt\n",
    "from sklearn.model_selection import cross_val_score\n",
    "from sklearn.metrics import confusion_matrix, classification_report\n",
    "from sklearn.svm import SVC\n",
    "\n",
    "\n",
    "df = pd.read_csv(r'C:\\Users\\dungeon\\Desktop\\kick\\kicktraq_scaled.csv')\n",
    "X = df.drop(columns=['status_labels','avg_backers_per_pledge_tier','funding_percentage','funding_raised'\n",
    "                    ,'num_backers','num_pledge_backers','avg_pledge_amount_per_backer','project_video'\n",
    "                    ,'state','category','funding_currency.1','num_faqs','project_img'])\n",
    "y = df['status_labels'].values\n",
    "\n",
    "svclassifier = SVC(random_state = 42,kernel='rbf',gamma=1,C=1000)\n",
    "#train model with cv of 10\n",
    "acc_scores = cross_val_score(svclassifier, X, y, cv=5,scoring='accuracy',n_jobs =-1)\n",
    "f1_scores = cross_val_score(svclassifier,X,y,cv = 5, scoring='f1',n_jobs =-1)\n",
    "prec_scores = cross_val_score(svclassifier,X,y,cv=5,scoring='precision',n_jobs =-1)\n",
    "rec_scores = cross_val_score(svclassifier,X,y,cv=5,scoring='recall',n_jobs =-1)\n",
    "\n",
    "print('\\n')\n",
    "print(\"=== Cross Validated Mean Logistic Regression Scores ===\")\n",
    "print(\"Mean Accuracy Score: \", acc_scores.mean())\n",
    "print('Mean F1-Score - Logistic Regression: ',f1_scores.mean())\n",
    "print('Mean Precision Score: ',prec_scores.mean())\n",
    "print('Mean Recall Score: ',rec_scores.mean())"
   ]
  },
  {
   "cell_type": "code",
   "execution_count": null,
   "metadata": {},
   "outputs": [],
   "source": []
  }
 ],
 "metadata": {
  "kernelspec": {
   "display_name": "Python 3",
   "language": "python",
   "name": "python3"
  },
  "language_info": {
   "codemirror_mode": {
    "name": "ipython",
    "version": 3
   },
   "file_extension": ".py",
   "mimetype": "text/x-python",
   "name": "python",
   "nbconvert_exporter": "python",
   "pygments_lexer": "ipython3",
   "version": "3.7.1"
  }
 },
 "nbformat": 4,
 "nbformat_minor": 2
}
