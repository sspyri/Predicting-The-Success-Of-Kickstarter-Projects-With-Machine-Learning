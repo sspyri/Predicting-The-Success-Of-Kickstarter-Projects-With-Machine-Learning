{
 "cells": [
  {
   "cell_type": "code",
   "execution_count": 2,
   "metadata": {},
   "outputs": [
    {
     "name": "stdout",
     "output_type": "stream",
     "text": [
      "=== Cross Validated Mean Logistic Regression Scores ===\n",
      "Mean Accuracy Score:  0.6860744285386187\n",
      "Mean F1-Score - Logistic Regression:  0.7477046954789529\n",
      "Mean Precision Score:  0.7193394417240717\n",
      "Mean Recall Score:  0.7796651301932294\n"
     ]
    }
   ],
   "source": [
    "import pandas as pd\n",
    "import numpy as np\n",
    "from sklearn.model_selection import train_test_split\n",
    "from sklearn.model_selection import cross_val_score\n",
    "from sklearn.linear_model import LogisticRegression\n",
    "from sklearn.metrics import confusion_matrix, classification_report\n",
    "\n",
    "df = pd.read_csv(r'C:\\Users\\dungeon\\Desktop\\New folder\\Kainouria attempt\\Labeled_Minmaxed.csv')\n",
    "X = df.drop(columns=['backers_count','pledged','converted_pledged_amount'\n",
    "      ,'id','usd_pledged','state','static_usd_rate','funded_percentage','g_category','currency','country'])\n",
    "y = df['state'].values\n",
    "# Split dataset into train and test data\n",
    "X_train, X_test, y_train, y_test = train_test_split(X, y, test_size = 0.33,random_state = 42,stratify=y)\n",
    "# Create KNN classifier for range of n_neighbors\n",
    "logreg = LogisticRegression(solver='lbfgs',max_iter=522,penalty = 'l2',C=0.000774263682681127,random_state = 42,warm_start = True)\n",
    "# logreg.fit(X_train, y_train)  \n",
    "# log_predict = logreg.predict(X_test)\n",
    "# #train model with cv of 10\n",
    "acc_scores = cross_val_score(logreg, X, y, cv=10,scoring='accuracy')\n",
    "f1_scores = cross_val_score(logreg,X,y,cv = 10, scoring='f1')\n",
    "prec_scores = cross_val_score(logreg,X,y,cv=10,scoring='precision')\n",
    "rec_scores = cross_val_score(logreg,X,y,cv=10,scoring='recall')\n",
    "# print(\"=== Confusion Matrix ===\")\n",
    "# print(confusion_matrix(y_test, log_predict))\n",
    "# print('\\n')\n",
    "# print(\"=== Classification Report ===\")\n",
    "# print(classification_report(y_test, log_predict))\n",
    "# print('\\n')\n",
    "# print(\"=== All Accuracy Scores ===\")\n",
    "# print(cv_scores)\n",
    "# print('\\n')\n",
    "print(\"=== Cross Validated Mean Logistic Regression Scores ===\")\n",
    "print(\"Mean Accuracy Score: \", acc_scores.mean())\n",
    "print('Mean F1-Score - Logistic Regression: ',f1_scores.mean())\n",
    "print('Mean Precision Score: ',prec_scores.mean())\n",
    "print('Mean Recall Score: ',rec_scores.mean())"
   ]
  },
  {
   "cell_type": "code",
   "execution_count": null,
   "metadata": {},
   "outputs": [],
   "source": []
  },
  {
   "cell_type": "code",
   "execution_count": null,
   "metadata": {},
   "outputs": [],
   "source": []
  },
  {
   "cell_type": "code",
   "execution_count": null,
   "metadata": {},
   "outputs": [],
   "source": []
  },
  {
   "cell_type": "code",
   "execution_count": null,
   "metadata": {},
   "outputs": [],
   "source": []
  }
 ],
 "metadata": {
  "kernelspec": {
   "display_name": "Python 3",
   "language": "python",
   "name": "python3"
  },
  "language_info": {
   "codemirror_mode": {
    "name": "ipython",
    "version": 3
   },
   "file_extension": ".py",
   "mimetype": "text/x-python",
   "name": "python",
   "nbconvert_exporter": "python",
   "pygments_lexer": "ipython3",
   "version": "3.7.1"
  }
 },
 "nbformat": 4,
 "nbformat_minor": 2
}
