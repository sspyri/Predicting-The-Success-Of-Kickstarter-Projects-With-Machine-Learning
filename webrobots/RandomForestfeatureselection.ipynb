{
 "cells": [
  {
   "cell_type": "code",
   "execution_count": null,
   "metadata": {
    "scrolled": true
   },
   "outputs": [
    {
     "name": "stderr",
     "output_type": "stream",
     "text": [
      "C:\\Users\\dungeon\\Anaconda3\\lib\\site-packages\\sklearn\\externals\\joblib\\externals\\loky\\process_executor.py:706: UserWarning: A worker stopped while some jobs were given to the executor. This can be caused by a too short worker timeout or by a memory leak.\n",
      "  \"timeout or by a memory leak.\", UserWarning\n"
     ]
    }
   ],
   "source": [
    "import pandas as pd\n",
    "import numpy as np\n",
    "from sklearn.model_selection import train_test_split\n",
    "from sklearn.model_selection import cross_val_score\n",
    "from sklearn.metrics import confusion_matrix, classification_report\n",
    "from sklearn.svm import SVC\n",
    "from mlxtend.feature_selection import SequentialFeatureSelector as SFS\n",
    "from sklearn.ensemble import RandomForestClassifier\n",
    "\n",
    "\n",
    "df = pd.read_csv(r'C:\\Users\\dungeon\\Desktop\\New folder\\Kainouria attempt\\Labeled_Minmaxed.csv')\n",
    "\n",
    "X = df.drop(columns=['backers_count','converted_pledged_amount','pledged'\n",
    "      ,'id','usd_pledged','state','static_usd_rate','funded_percentage'])\n",
    "y = df['state'].values\n",
    "\n",
    "\n",
    "# Split dataset into train and test data\n",
    "X_train, X_test, y_train, y_test = train_test_split(X, y, test_size = 0.33, random_state = 42,stratify=y)\n",
    "rfc = RandomForestClassifier(n_estimators= 1400,min_samples_split = 2, min_samples_leaf = 2,max_features =  'auto',max_depth = 70,\n",
    " bootstrap = True,random_state=42)\n",
    "rfc.fit(X_train,y_train)\n",
    "rfc_predict = rfc.predict(X_test)\n",
    "\n",
    "#sequensial forward selection\n",
    "sfs = SFS(rfc, k_features = (1,10),forward = True, floating = True,scoring = 'accuracy',cv =10,n_jobs = -1)\n",
    "sfs = sfs.fit(X,y)\n",
    "#train model with cv of 5\n",
    "#cv_scores = cross_val_score(svclassifier, X, y, cv=5, scoring='accuracy')\n",
    "\n",
    "# print('\\nSequential Forward Selection k=3')\n",
    "# print(sfs.k_feature_idx_)\n",
    "# print('CV Score:')\n",
    "# print(sfs.k_score_)\n",
    "print(sfs.subsets_)\n",
    "\n",
    "print('best combination (ACC: %.3f): %s\\n' % (sfs.k_score_, sfs.k_feature_idx_))\n",
    "\n",
    "#print(\"=== Confusion Matrix ===\")\n",
    "#print(confusion_matrix(y_test, svc_predict))\n",
    "#print('\\n')\n",
    "#print(\"=== Classification Report ===\")\n",
    "#print(classification_report(y_test, svc_predict))\n",
    "#print('\\n')\n",
    "#print(\"=== All Accuracy Scores ===\")\n",
    "#print(cv_scores)\n",
    "#print('\\n')\n",
    "#print(\"=== Mean Accuracy Score ===\")\n",
    "#print(\"Mean Accuracy Score - Random Forest: \", cv_scores.mean())\n"
   ]
  },
  {
   "cell_type": "code",
   "execution_count": null,
   "metadata": {},
   "outputs": [],
   "source": []
  },
  {
   "cell_type": "code",
   "execution_count": null,
   "metadata": {},
   "outputs": [],
   "source": []
  }
 ],
 "metadata": {
  "kernelspec": {
   "display_name": "Python 3",
   "language": "python",
   "name": "python3"
  },
  "language_info": {
   "codemirror_mode": {
    "name": "ipython",
    "version": 3
   },
   "file_extension": ".py",
   "mimetype": "text/x-python",
   "name": "python",
   "nbconvert_exporter": "python",
   "pygments_lexer": "ipython3",
   "version": "3.7.1"
  }
 },
 "nbformat": 4,
 "nbformat_minor": 2
}
