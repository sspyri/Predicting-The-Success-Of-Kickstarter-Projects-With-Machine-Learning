{
 "cells": [
  {
   "cell_type": "code",
   "execution_count": 8,
   "metadata": {},
   "outputs": [
    {
     "name": "stdout",
     "output_type": "stream",
     "text": [
      "=== Cross Validated Mean Scores - Neural Network ===\n",
      "Mean Accuracy Score:  0.7052064039272905\n",
      "Mean F1-Score :  0.7576070118272421\n",
      "Mean Precision Score:  0.7456438962640234\n",
      "Mean Recall Score:  0.7730407224164664\n"
     ]
    }
   ],
   "source": [
    "import pandas as pd\n",
    "import numpy as np\n",
    "from sklearn.model_selection import train_test_split\n",
    "from sklearn.model_selection import cross_val_score\n",
    "from sklearn.metrics import confusion_matrix, classification_report\n",
    "from mlxtend.feature_selection import SequentialFeatureSelector as SFS\n",
    "from sklearn.linear_model import LogisticRegression\n",
    "from sklearn.neural_network import MLPClassifier\n",
    "\n",
    "\n",
    "df = pd.read_csv(r'C:\\Users\\dungeon\\Desktop\\New folder\\Labeled_Minmaxed.csv')\n",
    "X = df.drop(columns=['backers_count','converted_pledged_amount','pledged'\n",
    "      ,'id','usd_pledged','state','static_usd_rate','funded_percentage'\n",
    "      ,'g_category','month_launched','currency'             ])\n",
    "y = df['state'].values\n",
    "\n",
    "\n",
    "X_train, X_test, y_train, y_test = train_test_split(X, y, test_size = 0.33, random_state = 42,stratify=y)\n",
    "\n",
    "mlp = MLPClassifier(random_state=42,solver='adam',learning_rate='constant',hidden_layer_sizes=(64,64)\n",
    "                       ,alpha=0.0001,activation='tanh')\n",
    "\n",
    "\n",
    "acc_scores = cross_val_score(estimator=mlp, X=X, y=y,cv=10,n_jobs=-1,scoring='accuracy')\n",
    "f1_scores = cross_val_score(estimator=mlp,X=X, y=y,cv = 10,n_jobs=-1, scoring='f1')\n",
    "prec_scores = cross_val_score(estimator=mlp,X=X, y=y,cv=10,n_jobs=-1,scoring='precision')\n",
    "rec_scores = cross_val_score(estimator=mlp,X=X, y=y,cv=10,n_jobs=-1,scoring='recall')\n",
    "\n",
    "print(\"=== Cross Validated Mean Scores - Neural Network ===\")\n",
    "print(\"Mean Accuracy Score: \", acc_scores.mean())\n",
    "print('Mean F1-Score : ',f1_scores.mean())\n",
    "print('Mean Precision Score: ',prec_scores.mean())\n",
    "print('Mean Recall Score: ',rec_scores.mean())"
   ]
  },
  {
   "cell_type": "code",
   "execution_count": null,
   "metadata": {},
   "outputs": [],
   "source": []
  }
 ],
 "metadata": {
  "kernelspec": {
   "display_name": "Python 3",
   "language": "python",
   "name": "python3"
  },
  "language_info": {
   "codemirror_mode": {
    "name": "ipython",
    "version": 3
   },
   "file_extension": ".py",
   "mimetype": "text/x-python",
   "name": "python",
   "nbconvert_exporter": "python",
   "pygments_lexer": "ipython3",
   "version": "3.7.1"
  }
 },
 "nbformat": 4,
 "nbformat_minor": 2
}
