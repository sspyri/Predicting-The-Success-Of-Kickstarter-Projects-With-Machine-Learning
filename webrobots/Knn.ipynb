{
 "cells": [
  {
   "cell_type": "code",
   "execution_count": 38,
   "metadata": {},
   "outputs": [
    {
     "name": "stdout",
     "output_type": "stream",
     "text": [
      "=== Cross Validated Mean KNN Scores ===\n",
      "Mean Accuracy Score:  0.7584146325960792\n",
      "Mean F1-Score:  0.7955853318909542\n",
      "Mean Precision Score:  0.8038636308143273\n",
      "Mean Recall Score:  0.7880483030304453\n"
     ]
    }
   ],
   "source": [
    "import pandas as pd\n",
    "import numpy as np\n",
    "from sklearn.model_selection import train_test_split\n",
    "from sklearn.model_selection import cross_val_score\n",
    "from sklearn.metrics import confusion_matrix, classification_report\n",
    "from sklearn.neighbors import KNeighborsClassifier\n",
    "\n",
    "df = pd.read_csv(r'C:\\Users\\dungeon\\Desktop\\New folder\\Kainouria attempt\\Labeled_Minmaxed.csv')\n",
    "X = df.drop(columns=['backers_count','pledged','converted_pledged_amount'\n",
    "      ,'id','usd_pledged','state','static_usd_rate','funded_percentage','month_launched'\n",
    "      ,'currency','country','name_length','blurb_length'])\n",
    "y = df['state'].values\n",
    "# Split dataset into train and test data\n",
    "X_train, X_test, y_train, y_test = train_test_split(X, y, test_size = 0.33,random_state = 42,stratify=y)\n",
    "# Create KNN classifier for range of n_neighbors\n",
    "knn = KNeighborsClassifier(weights = 'uniform',n_neighbors =15, metric = 'manhattan')\n",
    "\n",
    "#knn_predict = knn.predict(X_test)\n",
    "#train model with cv of 10\n",
    "acc_scores = cross_val_score(knn, X, y, cv=10,scoring='accuracy')\n",
    "f1_scores = cross_val_score(knn,X,y,cv = 10, scoring='f1')\n",
    "prec_scores = cross_val_score(knn,X,y,cv=10,scoring='precision')\n",
    "rec_scores = cross_val_score(knn,X,y,cv=10,scoring='recall')\n",
    "\n",
    "# print(\"=== Confusion Matrix ===\")\n",
    "# print(confusion_matrix(y_test, log_predict))\n",
    "# print('\\n')\n",
    "# print(\"=== Classification Report ===\")\n",
    "# print(classification_report(y_test, log_predict))\n",
    "# print('\\n')\n",
    "# print(\"=== All Accuracy Scores ===\")\n",
    "# print(cv_scores)\n",
    "# print('\\n')\n",
    "print(\"=== Cross Validated Mean KNN Scores ===\")\n",
    "print(\"Mean Accuracy Score: \", acc_scores.mean())\n",
    "print('Mean F1-Score: ',f1_scores.mean())\n",
    "print('Mean Precision Score: ',prec_scores.mean())\n",
    "print('Mean Recall Score: ',rec_scores.mean())"
   ]
  },
  {
   "cell_type": "code",
   "execution_count": null,
   "metadata": {},
   "outputs": [],
   "source": []
  },
  {
   "cell_type": "code",
   "execution_count": null,
   "metadata": {},
   "outputs": [],
   "source": []
  }
 ],
 "metadata": {
  "kernelspec": {
   "display_name": "Python 3",
   "language": "python",
   "name": "python3"
  },
  "language_info": {
   "codemirror_mode": {
    "name": "ipython",
    "version": 3
   },
   "file_extension": ".py",
   "mimetype": "text/x-python",
   "name": "python",
   "nbconvert_exporter": "python",
   "pygments_lexer": "ipython3",
   "version": "3.7.1"
  }
 },
 "nbformat": 4,
 "nbformat_minor": 2
}
