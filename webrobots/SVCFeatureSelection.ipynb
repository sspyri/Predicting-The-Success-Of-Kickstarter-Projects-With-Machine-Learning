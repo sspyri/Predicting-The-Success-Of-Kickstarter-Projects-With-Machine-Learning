{
 "cells": [
  {
   "cell_type": "code",
   "execution_count": 3,
   "metadata": {},
   "outputs": [
    {
     "name": "stderr",
     "output_type": "stream",
     "text": [
      "C:\\Users\\dungeon\\Anaconda3\\lib\\site-packages\\sklearn\\svm\\base.py:196: FutureWarning: The default value of gamma will change from 'auto' to 'scale' in version 0.22 to account better for unscaled features. Set gamma explicitly to 'auto' or 'scale' to avoid this warning.\n",
      "  \"avoid this warning.\", FutureWarning)\n",
      "C:\\Users\\dungeon\\Anaconda3\\lib\\site-packages\\sklearn\\svm\\base.py:196: FutureWarning: The default value of gamma will change from 'auto' to 'scale' in version 0.22 to account better for unscaled features. Set gamma explicitly to 'auto' or 'scale' to avoid this warning.\n",
      "  \"avoid this warning.\", FutureWarning)\n",
      "C:\\Users\\dungeon\\Anaconda3\\lib\\site-packages\\sklearn\\svm\\base.py:196: FutureWarning: The default value of gamma will change from 'auto' to 'scale' in version 0.22 to account better for unscaled features. Set gamma explicitly to 'auto' or 'scale' to avoid this warning.\n",
      "  \"avoid this warning.\", FutureWarning)\n",
      "C:\\Users\\dungeon\\Anaconda3\\lib\\site-packages\\sklearn\\svm\\base.py:196: FutureWarning: The default value of gamma will change from 'auto' to 'scale' in version 0.22 to account better for unscaled features. Set gamma explicitly to 'auto' or 'scale' to avoid this warning.\n",
      "  \"avoid this warning.\", FutureWarning)\n",
      "C:\\Users\\dungeon\\Anaconda3\\lib\\site-packages\\sklearn\\svm\\base.py:196: FutureWarning: The default value of gamma will change from 'auto' to 'scale' in version 0.22 to account better for unscaled features. Set gamma explicitly to 'auto' or 'scale' to avoid this warning.\n",
      "  \"avoid this warning.\", FutureWarning)\n",
      "C:\\Users\\dungeon\\Anaconda3\\lib\\site-packages\\sklearn\\svm\\base.py:196: FutureWarning: The default value of gamma will change from 'auto' to 'scale' in version 0.22 to account better for unscaled features. Set gamma explicitly to 'auto' or 'scale' to avoid this warning.\n",
      "  \"avoid this warning.\", FutureWarning)\n",
      "C:\\Users\\dungeon\\Anaconda3\\lib\\site-packages\\sklearn\\svm\\base.py:196: FutureWarning: The default value of gamma will change from 'auto' to 'scale' in version 0.22 to account better for unscaled features. Set gamma explicitly to 'auto' or 'scale' to avoid this warning.\n",
      "  \"avoid this warning.\", FutureWarning)\n",
      "C:\\Users\\dungeon\\Anaconda3\\lib\\site-packages\\sklearn\\svm\\base.py:196: FutureWarning: The default value of gamma will change from 'auto' to 'scale' in version 0.22 to account better for unscaled features. Set gamma explicitly to 'auto' or 'scale' to avoid this warning.\n",
      "  \"avoid this warning.\", FutureWarning)\n",
      "C:\\Users\\dungeon\\Anaconda3\\lib\\site-packages\\sklearn\\svm\\base.py:196: FutureWarning: The default value of gamma will change from 'auto' to 'scale' in version 0.22 to account better for unscaled features. Set gamma explicitly to 'auto' or 'scale' to avoid this warning.\n",
      "  \"avoid this warning.\", FutureWarning)\n",
      "C:\\Users\\dungeon\\Anaconda3\\lib\\site-packages\\sklearn\\svm\\base.py:196: FutureWarning: The default value of gamma will change from 'auto' to 'scale' in version 0.22 to account better for unscaled features. Set gamma explicitly to 'auto' or 'scale' to avoid this warning.\n",
      "  \"avoid this warning.\", FutureWarning)\n",
      "C:\\Users\\dungeon\\Anaconda3\\lib\\site-packages\\sklearn\\externals\\joblib\\externals\\loky\\process_executor.py:706: UserWarning: A worker stopped while some jobs were given to the executor. This can be caused by a too short worker timeout or by a memory leak.\n",
      "  \"timeout or by a memory leak.\", UserWarning\n"
     ]
    },
    {
     "name": "stdout",
     "output_type": "stream",
     "text": [
      "{10: {'feature_idx': (0, 1, 2, 3, 4, 5, 6, 7, 8, 9), 'cv_scores': array([0.6996638 , 0.73813971, 0.73776616, 0.7146059 , 0.70451999,\n",
      "       0.73692078, 0.71065421, 0.71327103, 0.74168224, 0.71028037]), 'avg_score': 0.720750418247225, 'feature_names': ('s_category', 'g_category', 'staff_pick', 'country', 'month_launched', 'currency', 'length_days', 'name_length', 'blurb_length', 'goal_$')}, 9: {'feature_idx': (0, 1, 2, 3, 5, 6, 7, 8, 9), 'cv_scores': array([0.70862906, 0.75457602, 0.7515876 , 0.72506537, 0.71572656,\n",
      "       0.74962631, 0.73121495, 0.71700935, 0.7671028 , 0.71738318]), 'avg_score': 0.7337921197933758, 'feature_names': ('s_category', 'g_category', 'staff_pick', 'country', 'currency', 'length_days', 'name_length', 'blurb_length', 'goal_$')}, 8: {'feature_idx': (0, 1, 2, 5, 6, 7, 8, 9), 'cv_scores': array([0.71161748, 0.76428838, 0.75532312, 0.73813971, 0.75532312,\n",
      "       0.75186846, 0.73719626, 0.71775701, 0.76934579, 0.72747664]), 'avg_score': 0.7428335980523817, 'feature_names': ('s_category', 'g_category', 'staff_pick', 'currency', 'length_days', 'name_length', 'blurb_length', 'goal_$')}, 7: {'feature_idx': (0, 1, 2, 6, 7, 8, 9), 'cv_scores': array([0.72282406, 0.75756444, 0.7586851 , 0.74523721, 0.76092641,\n",
      "       0.75560538, 0.73831776, 0.73046729, 0.76224299, 0.7211215 ]), 'avg_score': 0.7452992119703618, 'feature_names': ('s_category', 'g_category', 'staff_pick', 'length_days', 'name_length', 'blurb_length', 'goal_$')}, 6: {'feature_idx': (0, 1, 2, 6, 7, 9), 'cv_scores': array([0.72319761, 0.76017931, 0.76055286, 0.74038102, 0.76055286,\n",
      "       0.75747384, 0.73906542, 0.73420561, 0.7611215 , 0.72411215]), 'avg_score': 0.746084216779505, 'feature_names': ('s_category', 'g_category', 'staff_pick', 'length_days', 'name_length', 'goal_$')}, 5: {'feature_idx': (0, 1, 2, 6, 7), 'cv_scores': array([0.72431827, 0.76055286, 0.76316773, 0.74112813, 0.76129996,\n",
      "       0.76046338, 0.73757009, 0.73457944, 0.76      , 0.72560748]), 'avg_score': 0.7468687328127331, 'feature_names': ('s_category', 'g_category', 'staff_pick', 'length_days', 'name_length')}, 4: {'feature_idx': (0, 1, 2, 7), 'cv_scores': array([0.71834143, 0.76055286, 0.76017931, 0.73776616, 0.76092641,\n",
      "       0.75859492, 0.73794393, 0.73121495, 0.76859813, 0.72373832]), 'avg_score': 0.7457856401035485, 'feature_names': ('s_category', 'g_category', 'staff_pick', 'name_length')}, 3: {'feature_idx': (0, 2, 7), 'cv_scores': array([0.72431827, 0.76615614, 0.76055286, 0.74075458, 0.75719089,\n",
      "       0.76083707, 0.74130841, 0.73457944, 0.77121495, 0.72485981]), 'avg_score': 0.74817724177452, 'feature_names': ('s_category', 'staff_pick', 'name_length')}, 2: {'feature_idx': (0, 2), 'cv_scores': array([0.72095629, 0.75644378, 0.75681733, 0.74112813, 0.75681733,\n",
      "       0.75896861, 0.73981308, 0.73046729, 0.76336449, 0.72411215]), 'avg_score': 0.7448888488094344, 'feature_names': ('s_category', 'staff_pick')}, 1: {'feature_idx': (0,), 'cv_scores': array([0.68098618, 0.73589839, 0.73178932, 0.69929025, 0.72058274,\n",
      "       0.72869955, 0.71813084, 0.70056075, 0.73233645, 0.68897196]), 'avg_score': 0.7137246432406265, 'feature_names': ('s_category',)}}\n",
      "best combination (ACC: 0.748): (0, 2, 7)\n",
      "\n"
     ]
    }
   ],
   "source": [
    "import pandas as pd\n",
    "import numpy as np\n",
    "from sklearn.model_selection import train_test_split\n",
    "from sklearn.model_selection import cross_val_score\n",
    "from sklearn.metrics import confusion_matrix, classification_report\n",
    "from sklearn.svm import SVC\n",
    "from mlxtend.feature_selection import SequentialFeatureSelector as SFS\n",
    "from sklearn.svm import SVC\n",
    "\n",
    "\n",
    "df = pd.read_csv(r'C:\\Users\\dungeon\\Desktop\\New folder\\Kainouria attempt\\Labeled_Minmaxed.csv')\n",
    "\n",
    "X = df.drop(columns=['backers_count','converted_pledged_amount','pledged'\n",
    "      ,'id','usd_pledged','state','static_usd_rate','funded_percentage'])\n",
    "y = df['state'].values\n",
    "\n",
    "\n",
    "# Split dataset into train and test data\n",
    "X_train, X_test, y_train, y_test = train_test_split(X, y, test_size = 0.33, random_state = 42,stratify=y)\n",
    "svclassifier = SVC(kernel='rbf',random_state = 42)\n",
    "# svclassifier.fit(X_train,y_train)\n",
    "# svc_predict = svclassifier.predict(X_test)\n",
    "\n",
    "#sequensial forward selection\n",
    "sfs = SFS(svclassifier, k_features = (1,10),forward = False, floating = False,scoring = 'accuracy',cv =10,n_jobs = -1)\n",
    "sfs = sfs.fit(X,y)\n",
    "#train model with cv of 5\n",
    "#cv_scores = cross_val_score(svclassifier, X, y, cv=5, scoring='accuracy')\n",
    "\n",
    "# print('\\nSequential Forward Selection k=3')\n",
    "# print(sfs.k_feature_idx_)\n",
    "# print('CV Score:')\n",
    "# print(sfs.k_score_)\n",
    "print(sfs.subsets_)\n",
    "\n",
    "print('best combination (ACC: %.3f): %s\\n' % (sfs.k_score_, sfs.k_feature_idx_))\n",
    "\n",
    "#print(\"=== Confusion Matrix ===\")\n",
    "#print(confusion_matrix(y_test, svc_predict))\n",
    "#print('\\n')\n",
    "#print(\"=== Classification Report ===\")\n",
    "#print(classification_report(y_test, svc_predict))\n",
    "#print('\\n')\n",
    "#print(\"=== All Accuracy Scores ===\")\n",
    "#print(cv_scores)\n",
    "#print('\\n')\n",
    "#print(\"=== Mean Accuracy Score ===\")\n",
    "#print(\"Mean Accuracy Score - Random Forest: \", cv_scores.mean())\n"
   ]
  },
  {
   "cell_type": "code",
   "execution_count": null,
   "metadata": {},
   "outputs": [],
   "source": []
  }
 ],
 "metadata": {
  "kernelspec": {
   "display_name": "Python 3",
   "language": "python",
   "name": "python3"
  },
  "language_info": {
   "codemirror_mode": {
    "name": "ipython",
    "version": 3
   },
   "file_extension": ".py",
   "mimetype": "text/x-python",
   "name": "python",
   "nbconvert_exporter": "python",
   "pygments_lexer": "ipython3",
   "version": "3.7.1"
  }
 },
 "nbformat": 4,
 "nbformat_minor": 2
}
