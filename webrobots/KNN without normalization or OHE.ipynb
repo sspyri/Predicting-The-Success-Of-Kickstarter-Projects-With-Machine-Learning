{
 "cells": [
  {
   "cell_type": "code",
   "execution_count": null,
   "metadata": {},
   "outputs": [
    {
     "name": "stdout",
     "output_type": "stream",
     "text": [
      "1 0.7188250508036209\n",
      "2 0.6975799002401626\n",
      "3 0.7409939035654904\n",
      "4 0.7365601330131166\n",
      "5 0.7557731387400702\n",
      "6 0.7424718270829485\n",
      "7 0.7559578791797524\n",
      "8 0.7507851468686495\n",
      "9 0.7594679475337152\n",
      "10 0.7592832070940329\n",
      "11 0.7627932754479956\n",
      "12 0.7555883983003879\n",
      "13 0.7561426196194347\n",
      "14 0.7544799556622944\n",
      "15 0.7579900240162571\n"
     ]
    }
   ],
   "source": [
    "import pandas as pd\n",
    "import numpy as np\n",
    "from sklearn.neighbors import KNeighborsClassifier\n",
    "from sklearn.model_selection import train_test_split\n",
    "import matplotlib.pyplot as plt\n",
    "from sklearn.model_selection import cross_val_score\n",
    "\n",
    "%matplotlib inline\n",
    "\n",
    "training_accuracy = []\n",
    "test_accuracy = []\n",
    "\n",
    "df = pd.read_csv(r'C:\\Users\\dungeon\\Desktop\\New folder\\Kainouria attempt\\Labeled_NotMinmaxed.csv')\n",
    "\n",
    "X = df.drop(columns=['backers_count','pledged'\n",
    "      ,'id','usd_pledged','state','static_usd_rate','funded_percentage'])\n",
    "\n",
    "y = df['state'].values\n",
    "\n",
    "# Split dataset into train and test data\n",
    "X_train, X_test, y_train, y_test = train_test_split(X, y, test_size = 0.3, random_state = 42,stratify=y)\n",
    "\n",
    "# Range of n_neighbors tested\n",
    "neighbors_settings = range(1,50)\n",
    "\n",
    "# Create KNN classifier for range of n_neighbors\n",
    "for num_neighbors in neighbors_settings: \n",
    "     knn = KNeighborsClassifier(n_neighbors = num_neighbors)\n",
    "\n",
    "# Fit the classifier to the data\n",
    "\n",
    "     knn.fit(X_train, y_train)\n",
    "     \n",
    "     training_accuracy.append(knn.score(X_train, y_train))\n",
    "\n",
    "     test_accuracy.append(knn.score(X_test, y_test))\n",
    "     \n",
    "# Check accuracy of our model on the test data\n",
    "     print(num_neighbors, knn.score(X_test, y_test))\n",
    "    \n",
    "# Data visualization - Evaluatin the accuracy of both the training and the testing sets against\n",
    "# n_neighbors\n",
    "plt.plot(neighbors_settings, training_accuracy, label='Accuracy of the Training Test')\n",
    "plt.plot(neighbors_settings, test_accuracy, label='Accuracy of the Test Set')\n",
    "plt.ylabel('Accuracy')\n",
    "plt.xlabel('Number of Neighbors')\n",
    "plt.legend()"
   ]
  },
  {
   "cell_type": "code",
   "execution_count": null,
   "metadata": {},
   "outputs": [],
   "source": []
  }
 ],
 "metadata": {
  "kernelspec": {
   "display_name": "Python 3",
   "language": "python",
   "name": "python3"
  },
  "language_info": {
   "codemirror_mode": {
    "name": "ipython",
    "version": 3
   },
   "file_extension": ".py",
   "mimetype": "text/x-python",
   "name": "python",
   "nbconvert_exporter": "python",
   "pygments_lexer": "ipython3",
   "version": "3.7.1"
  }
 },
 "nbformat": 4,
 "nbformat_minor": 2
}
