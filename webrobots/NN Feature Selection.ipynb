{
 "cells": [
  {
   "cell_type": "code",
   "execution_count": 5,
   "metadata": {},
   "outputs": [
    {
     "name": "stdout",
     "output_type": "stream",
     "text": [
      "{1: {'feature_idx': (9,), 'cv_scores': array([0.59816925, 0.62855007, 0.63172646, 0.63172646, 0.63340807]), 'avg_score': 0.6247160624345707, 'feature_names': ('goal_$',)}, 2: {'feature_idx': (2, 9), 'cv_scores': array([0.66056417, 0.60071001, 0.66984305, 0.65881913, 0.66872197]), 'avg_score': 0.6517316680056193, 'feature_names': ('staff_pick', 'goal_$')}, 3: {'feature_idx': (2, 6, 9), 'cv_scores': array([0.66019055, 0.64928999, 0.65713752, 0.64816891, 0.64985052]), 'avg_score': 0.652927496616317, 'feature_names': ('staff_pick', 'length_days', 'goal_$')}, 4: {'feature_idx': (2, 6, 7, 9), 'cv_scores': array([0.64225668, 0.65937967, 0.66685351, 0.65059791, 0.67301943]), 'avg_score': 0.6584214403333895, 'feature_names': ('staff_pick', 'length_days', 'name_length', 'goal_$')}, 5: {'feature_idx': (2, 6, 7, 8, 9), 'cv_scores': array([0.6611246 , 0.66143498, 0.67414051, 0.65601644, 0.67059043]), 'avg_score': 0.6646613929520543, 'feature_names': ('staff_pick', 'length_days', 'name_length', 'blurb_length', 'goal_$')}, 6: {'feature_idx': (0, 2, 6, 7, 8, 9), 'cv_scores': array([0.6560807 , 0.68273543, 0.65059791, 0.68105381, 0.67021674]), 'avg_score': 0.6681369177614943, 'feature_names': ('s_category', 'staff_pick', 'length_days', 'name_length', 'blurb_length', 'goal_$')}, 7: {'feature_idx': (0, 2, 3, 6, 7, 8, 9), 'cv_scores': array([0.64319073, 0.68310912, 0.68086697, 0.68815396, 0.68404335]), 'avg_score': 0.6758728254583645, 'feature_names': ('s_category', 'staff_pick', 'country', 'length_days', 'name_length', 'blurb_length', 'goal_$')}, 8: {'feature_idx': (0, 2, 3, 4, 6, 7, 8, 9), 'cv_scores': array([0.6678498 , 0.68068012, 0.62705531, 0.66405082, 0.65751121]), 'avg_score': 0.6594294525484362, 'feature_names': ('s_category', 'staff_pick', 'country', 'month_launched', 'length_days', 'name_length', 'blurb_length', 'goal_$')}, 9: {'feature_idx': (0, 1, 2, 3, 4, 6, 7, 8, 9), 'cv_scores': array([0.62880628, 0.67769058, 0.64798206, 0.68908819, 0.71487294]), 'avg_score': 0.6716880117235854, 'feature_names': ('s_category', 'g_category', 'staff_pick', 'country', 'month_launched', 'length_days', 'name_length', 'blurb_length', 'goal_$')}, 10: {'feature_idx': (0, 1, 2, 3, 4, 5, 6, 7, 8, 9), 'cv_scores': array([0.60414721, 0.6980568 , 0.61285501, 0.63471599, 0.69375934]), 'avg_score': 0.6487068704332148, 'feature_names': ('s_category', 'g_category', 'staff_pick', 'country', 'month_launched', 'currency', 'length_days', 'name_length', 'blurb_length', 'goal_$')}}\n",
      "best combination (ACC: 0.676): (0, 2, 3, 6, 7, 8, 9)\n",
      "\n"
     ]
    }
   ],
   "source": [
    "import pandas as pd\n",
    "import numpy as np\n",
    "from keras import Sequential\n",
    "from keras.layers import Dense\n",
    "from sklearn.model_selection import train_test_split\n",
    "from sklearn.model_selection import cross_val_score\n",
    "from keras.wrappers.scikit_learn import KerasClassifier\n",
    "from keras import metrics\n",
    "from keras.layers import Dropout\n",
    "from keras.constraints import maxnorm\n",
    "from sklearn.neural_network import MLPClassifier\n",
    "from sklearn.model_selection import train_test_split\n",
    "from sklearn.model_selection import cross_val_score\n",
    "from sklearn.metrics import confusion_matrix, classification_report\n",
    "from mlxtend.feature_selection import SequentialFeatureSelector as SFS\n",
    "from sklearn.neighbors import KNeighborsClassifier\n",
    "\n",
    "df = pd.read_csv(r'C:\\Users\\dungeon\\Desktop\\New folder\\Labeled_Minmaxed.csv')\n",
    "X = df.drop(columns=['backers_count','converted_pledged_amount','pledged'\n",
    "      ,'id','usd_pledged','state','static_usd_rate','funded_percentage'])          \n",
    "y = df['state'].values\n",
    "\n",
    "# Split dataset into train and test data\n",
    "X_train, X_test, y_train, y_test = train_test_split(X, y, test_size = 0.33, random_state = 42,stratify=y)\n",
    "\n",
    "\n",
    "mlp = MLPClassifier(random_state=42)\n",
    "\n",
    "sfs = SFS(mlp, k_features = (1,10),forward = True, floating = False,scoring = 'accuracy',cv =5,n_jobs = -1)\n",
    "sfs = sfs.fit(X,y)\n",
    "\n",
    "print(sfs.subsets_)\n",
    "\n",
    "print('best combination (ACC: %.3f): %s\\n' % (sfs.k_score_, sfs.k_feature_idx_))"
   ]
  },
  {
   "cell_type": "code",
   "execution_count": null,
   "metadata": {},
   "outputs": [],
   "source": []
  }
 ],
 "metadata": {
  "kernelspec": {
   "display_name": "Python 3",
   "language": "python",
   "name": "python3"
  },
  "language_info": {
   "codemirror_mode": {
    "name": "ipython",
    "version": 3
   },
   "file_extension": ".py",
   "mimetype": "text/x-python",
   "name": "python",
   "nbconvert_exporter": "python",
   "pygments_lexer": "ipython3",
   "version": "3.7.1"
  }
 },
 "nbformat": 4,
 "nbformat_minor": 2
}
