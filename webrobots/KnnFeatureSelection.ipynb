{
 "cells": [
  {
   "cell_type": "code",
   "execution_count": 6,
   "metadata": {},
   "outputs": [
    {
     "name": "stdout",
     "output_type": "stream",
     "text": [
      "{10: {'feature_idx': (0, 1, 2, 3, 4, 5, 6, 7, 8, 9), 'cv_scores': array([0.72145546, 0.77322075, 0.72912683, 0.7576324 , 0.73453608,\n",
      "       0.78798799, 0.72845107, 0.74570025, 0.77125   , 0.76327295,\n",
      "       0.77149877, 0.73913043, 0.75517661, 0.74567585, 0.7826087 ,\n",
      "       0.68236878, 0.77118644, 0.77949351, 0.68837209, 0.74935733]), 'avg_score': 0.7488751145731476, 'feature_names': ('s_category', 'g_category', 'staff_pick', 'country', 'month_launched', 'currency', 'length_days', 'name_length', 'blurb_length', 'goal_$')}, 9: {'feature_idx': (0, 1, 2, 3, 5, 6, 7, 8, 9), 'cv_scores': array([0.74474857, 0.78015922, 0.77619664, 0.76799007, 0.74545455,\n",
      "       0.80264741, 0.74113009, 0.78227848, 0.7797879 , 0.78186275,\n",
      "       0.81757169, 0.73215455, 0.78740157, 0.74565357, 0.78571429,\n",
      "       0.6873734 , 0.80856124, 0.78336437, 0.729237  , 0.7680704 ]), 'avg_score': 0.7673678872761397, 'feature_names': ('s_category', 'g_category', 'staff_pick', 'country', 'currency', 'length_days', 'name_length', 'blurb_length', 'goal_$')}, 8: {'feature_idx': (0, 1, 2, 5, 6, 7, 8, 9), 'cv_scores': array([0.74730842, 0.78580171, 0.77928803, 0.7728687 , 0.7504886 ,\n",
      "       0.79976162, 0.74259381, 0.78680203, 0.78855721, 0.78787879,\n",
      "       0.82195122, 0.73061761, 0.78809957, 0.74628793, 0.78714372,\n",
      "       0.69100744, 0.81068249, 0.78353088, 0.72653061, 0.76971609]), 'avg_score': 0.7698458245281506, 'feature_names': ('s_category', 'g_category', 'staff_pick', 'currency', 'length_days', 'name_length', 'blurb_length', 'goal_$')}, 7: {'feature_idx': (0, 1, 2, 5, 6, 7, 9), 'cv_scores': array([0.7389917 , 0.7948874 , 0.77485568, 0.78134846, 0.75584416,\n",
      "       0.80833333, 0.74837027, 0.78134846, 0.7982401 , 0.79049406,\n",
      "       0.81679854, 0.7421466 , 0.79367012, 0.75032342, 0.79411765,\n",
      "       0.71590153, 0.7942064 , 0.78549093, 0.72237197, 0.76444444]), 'avg_score': 0.7726092600915757, 'feature_names': ('s_category', 'g_category', 'staff_pick', 'currency', 'length_days', 'name_length', 'goal_$')}, 6: {'feature_idx': (0, 1, 2, 5, 6, 9), 'cv_scores': array([0.75300063, 0.79584352, 0.78333333, 0.78960396, 0.77246654,\n",
      "       0.82513337, 0.77564103, 0.79626168, 0.79849341, 0.78940887,\n",
      "       0.8184578 , 0.75162549, 0.80510018, 0.76330981, 0.80048368,\n",
      "       0.71485944, 0.80310263, 0.79802347, 0.72994652, 0.77164366]), 'avg_score': 0.7817869512862704, 'feature_names': ('s_category', 'g_category', 'staff_pick', 'currency', 'length_days', 'goal_$')}, 5: {'feature_idx': (0, 1, 2, 6, 9), 'cv_scores': array([0.74984247, 0.81090909, 0.79923761, 0.7977598 , 0.77195199,\n",
      "       0.81893491, 0.78416347, 0.8034398 , 0.81508967, 0.80246914,\n",
      "       0.82585278, 0.7606727 , 0.8062954 , 0.78244028, 0.8086904 ,\n",
      "       0.74155844, 0.80409885, 0.80567551, 0.74705111, 0.78085642]), 'avg_score': 0.7908494938162126, 'feature_names': ('s_category', 'g_category', 'staff_pick', 'length_days', 'goal_$')}, 4: {'feature_idx': (0, 2, 6, 9), 'cv_scores': array([0.74952681, 0.81090909, 0.79923761, 0.79676818, 0.7699115 ,\n",
      "       0.81920569, 0.78288633, 0.8034398 , 0.81435644, 0.80246914,\n",
      "       0.82655502, 0.75937904, 0.8062954 , 0.78350515, 0.80917874,\n",
      "       0.74107722, 0.8057727 , 0.80641184, 0.74754098, 0.77987421]), 'avg_score': 0.7907150460697151, 'feature_names': ('s_category', 'staff_pick', 'length_days', 'goal_$')}, 3: {'feature_idx': (0, 2, 9), 'cv_scores': array([0.76577139, 0.80434783, 0.78694818, 0.80853659, 0.79553903,\n",
      "       0.80685174, 0.77411003, 0.80246914, 0.80686695, 0.80074488,\n",
      "       0.81212842, 0.76587556, 0.78899083, 0.78282828, 0.81220096,\n",
      "       0.73350923, 0.81090909, 0.80495356, 0.75843812, 0.78358209]), 'avg_score': 0.7902800949062943, 'feature_names': ('s_category', 'staff_pick', 'goal_$')}, 2: {'feature_idx': (0, 9), 'cv_scores': array([0.75522755, 0.77629988, 0.76620076, 0.78042813, 0.75977654,\n",
      "       0.79652174, 0.7542044 , 0.78057775, 0.78746929, 0.78373383,\n",
      "       0.78503563, 0.73180077, 0.76494967, 0.75173721, 0.80142264,\n",
      "       0.69020653, 0.78627333, 0.77591558, 0.71204188, 0.76261682]), 'avg_score': 0.7651219966991455, 'feature_names': ('s_category', 'goal_$')}, 1: {'feature_idx': (0,), 'cv_scores': array([0.71347962, 0.75068194, 0.72561769, 0.79202989, 0.72375691,\n",
      "       0.80766996, 0.73430564, 0.65295289, 0.77561282, 0.74862385,\n",
      "       0.79659988, 0.73629544, 0.77100706, 0.70677644, 0.81604585,\n",
      "       0.65569273, 0.79348458, 0.79329609, 0.66132265, 0.73215455]), 'avg_score': 0.744370323594455, 'feature_names': ('s_category',)}}\n",
      "best combination (ACC: 0.791): (0, 1, 2, 6, 9)\n",
      "\n"
     ]
    }
   ],
   "source": [
    "import pandas as pd\n",
    "import numpy as np\n",
    "from sklearn.model_selection import train_test_split\n",
    "from sklearn.model_selection import cross_val_score\n",
    "from sklearn.metrics import confusion_matrix, classification_report\n",
    "from mlxtend.feature_selection import SequentialFeatureSelector as SFS\n",
    "from sklearn.neighbors import KNeighborsClassifier\n",
    "\n",
    "df = pd.read_csv(r'C:\\Users\\dungeon\\Desktop\\New folder\\Kainouria attempt\\Labeled_Minmaxed.csv')\n",
    "\n",
    "X = df.drop(columns=['backers_count','converted_pledged_amount','pledged'\n",
    "      ,'id','usd_pledged','state','static_usd_rate','funded_percentage'])\n",
    "y = df['state'].values\n",
    "\n",
    "\n",
    "# Split dataset into train and test data\n",
    "X_train, X_test, y_train, y_test = train_test_split(X, y, test_size = 0.33, random_state = 42,stratify=y)\n",
    "knn = KNeighborsClassifier()\n",
    "sfs = SFS(knn, k_features = (1,10),forward = False, floating = False,scoring = 'f1',cv =20,n_jobs = -1)\n",
    "sfs = sfs.fit(X,y)\n",
    "#train model with cv of 5\n",
    "#cv_scores = cross_val_score(svclassifier, X, y, cv=5, scoring='accuracy')\n",
    "\n",
    "# Get SFS Results\n",
    "print(sfs.subsets_)\n",
    "\n",
    "print('best combination (ACC: %.3f): %s\\n' % (sfs.k_score_, sfs.k_feature_idx_))\n",
    "\n"
   ]
  },
  {
   "cell_type": "code",
   "execution_count": null,
   "metadata": {},
   "outputs": [],
   "source": []
  }
 ],
 "metadata": {
  "kernelspec": {
   "display_name": "Python 3",
   "language": "python",
   "name": "python3"
  },
  "language_info": {
   "codemirror_mode": {
    "name": "ipython",
    "version": 3
   },
   "file_extension": ".py",
   "mimetype": "text/x-python",
   "name": "python",
   "nbconvert_exporter": "python",
   "pygments_lexer": "ipython3",
   "version": "3.7.1"
  }
 },
 "nbformat": 4,
 "nbformat_minor": 2
}
