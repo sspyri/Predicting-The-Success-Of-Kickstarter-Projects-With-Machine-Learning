{
 "cells": [
  {
   "cell_type": "code",
   "execution_count": 7,
   "metadata": {},
   "outputs": [
    {
     "name": "stdout",
     "output_type": "stream",
     "text": [
      "\n",
      "\n",
      "=== Cross Validated Mean Scores - Random Forest ===\n",
      "Mean Accuracy Score:  0.8405341276062117\n",
      "Mean F1-Score:  0.8415524209681537\n",
      "Mean Precision Score:  0.8299124952550931\n",
      "Mean Recall Score:  0.8599270161599994\n"
     ]
    }
   ],
   "source": [
    "import pandas as pd\n",
    "import numpy as np\n",
    "from sklearn.model_selection import train_test_split\n",
    "import matplotlib.pyplot as plt\n",
    "from sklearn.model_selection import cross_val_score\n",
    "from sklearn import model_selection\n",
    "from sklearn.metrics import confusion_matrix, classification_report\n",
    "from sklearn.ensemble import RandomForestClassifier\n",
    "%matplotlib inline\n",
    "\n",
    "\n",
    "df = pd.read_csv(r'C:\\18kdataset\\18klastlabel.csv')\n",
    "X = df.drop(columns=['State','Location','Pledged','Backers','Rewards','Creator_Projects_Created','Creator_Projects_Backed'\n",
    "                        ,'#_Images','#_Words_(Description)','#_FAQs','Currency','Facebook_Connected'])\n",
    "\n",
    "y = df['State'].values\n",
    "# Split dataset into train and test data\n",
    "X_train, X_test, y_train, y_test = train_test_split(X, y, test_size = 0.20, random_state = 42,stratify=y)\n",
    "rfc = RandomForestClassifier(random_state=42,n_estimators= 800,min_samples_split= 5,min_samples_leaf= 1,max_features = 'sqrt',\n",
    " max_depth= 40,bootstrap =True\n",
    "                            )\n",
    "#rfc.fit(X_train,y_train)\n",
    "#rfc_predict = rfc.predict(X_test)\n",
    "#train model with cv of 5\n",
    "acc_scores = cross_val_score(rfc, X, y, cv=10,scoring='accuracy',n_jobs=-1)\n",
    "f1_scores = cross_val_score(rfc,X,y,cv = 10, scoring='f1',n_jobs=-1)\n",
    "prec_scores = cross_val_score(rfc,X,y,cv=10,scoring='precision',n_jobs=-1)\n",
    "rec_scores = cross_val_score(rfc,X,y,cv=10,scoring='recall',n_jobs=-1)\n",
    "# print(\"=== Confusion Matrix ===\")\n",
    "# print(confusion_matrix(y_test, rfc_predict))\n",
    "# print('\\n')\n",
    "# print(\"=== Classification Report ===\")\n",
    "# print(classification_report(y_test, rfc_predict))\n",
    "# print('\\n')\n",
    "# print(\"=== All Accuracy Scores ===\")\n",
    "# print(cv_scores)\n",
    "print('\\n')\n",
    "print(\"=== Cross Validated Mean Scores - Random Forest ===\")\n",
    "print(\"Mean Accuracy Score: \", acc_scores.mean())\n",
    "print('Mean F1-Score: ',f1_scores.mean())\n",
    "print('Mean Precision Score: ',prec_scores.mean())\n",
    "print('Mean Recall Score: ',rec_scores.mean())"
   ]
  },
  {
   "cell_type": "code",
   "execution_count": null,
   "metadata": {},
   "outputs": [],
   "source": []
  }
 ],
 "metadata": {
  "kernelspec": {
   "display_name": "Python 3",
   "language": "python",
   "name": "python3"
  },
  "language_info": {
   "codemirror_mode": {
    "name": "ipython",
    "version": 3
   },
   "file_extension": ".py",
   "mimetype": "text/x-python",
   "name": "python",
   "nbconvert_exporter": "python",
   "pygments_lexer": "ipython3",
   "version": "3.7.1"
  }
 },
 "nbformat": 4,
 "nbformat_minor": 2
}
