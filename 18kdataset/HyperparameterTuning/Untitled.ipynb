{
 "cells": [
  {
   "cell_type": "code",
   "execution_count": 4,
   "metadata": {},
   "outputs": [
    {
     "name": "stderr",
     "output_type": "stream",
     "text": [
      "C:\\Users\\dungeon\\Anaconda3\\lib\\site-packages\\sklearn\\model_selection\\_search.py:271: UserWarning: The total space of parameters 15 is smaller than n_iter=100. Running 15 iterations. For exhaustive searches, use GridSearchCV.\n",
      "  % (grid_size, self.n_iter, grid_size), UserWarning)\n",
      "[Parallel(n_jobs=5)]: Using backend LokyBackend with 5 concurrent workers.\n"
     ]
    },
    {
     "name": "stdout",
     "output_type": "stream",
     "text": [
      "Fitting 3 folds for each of 15 candidates, totalling 45 fits\n"
     ]
    },
    {
     "name": "stderr",
     "output_type": "stream",
     "text": [
      "[Parallel(n_jobs=5)]: Done  45 out of  45 | elapsed:  1.8min finished\n"
     ]
    },
    {
     "data": {
      "text/plain": [
       "{'kernel': 'rbf', 'gamma': 1, 'C': 1000}"
      ]
     },
     "execution_count": 4,
     "metadata": {},
     "output_type": "execute_result"
    }
   ],
   "source": [
    "import pandas as pd\n",
    "import numpy as np\n",
    "from sklearn import model_selection\n",
    "from sklearn.model_selection import train_test_split\n",
    "import matplotlib.pyplot as plt\n",
    "from sklearn.model_selection import cross_val_score\n",
    "from sklearn.model_selection import GridSearchCV\n",
    "from sklearn.svm import SVC\n",
    "from sklearn.model_selection import RandomizedSearchCV\n",
    "\n",
    "\n",
    "\n",
    "df = pd.read_csv(r'C:\\18kdataset\\Scaled18kLast.csv')\n",
    "X = df.drop(columns=['State','Location','Pledged','Backers','Currency','Top_Category','Category','Facebook_Friends'])\n",
    "y = df['State'].values\n",
    "X_train, X_test, y_train, y_test = train_test_split(X, y, test_size = 0.20,random_state = 42,stratify=y)\n",
    "\n",
    "random_grid = {'kernel' : ['rbf'], 'C' : [10,100,1000], 'gamma': [0.01,0.001,0.1, 1]},\n",
    "              \n",
    "random_grid2 = {'kernel' : ['poly'], 'C' : [10,100,1000], 'gamma': [0.1, 1, 10],'degree':[1,2,3,4]}\n",
    "\n",
    "random_grid3 = {'kernel':['rbf'],'C': [int(x) for x in np.linspace(start = 10, stop = 1000, num = 3)],'gamma':[int(x) for x in np.linspace(start=0.01,stop=1,num=5)] }\n",
    "\n",
    "\n",
    "svclassifier = SVC()              \n",
    "svc_grid = RandomizedSearchCV(estimator = svclassifier, param_distributions = random_grid3, cv = 3,n_iter=100,random_state=42,\n",
    "                              verbose = 1, n_jobs = 5)\n",
    "svc_grid.fit(X_train,y_train)\n",
    "svc_grid.best_params_"
   ]
  },
  {
   "cell_type": "code",
   "execution_count": null,
   "metadata": {},
   "outputs": [],
   "source": []
  }
 ],
 "metadata": {
  "kernelspec": {
   "display_name": "Python 3",
   "language": "python",
   "name": "python3"
  },
  "language_info": {
   "codemirror_mode": {
    "name": "ipython",
    "version": 3
   },
   "file_extension": ".py",
   "mimetype": "text/x-python",
   "name": "python",
   "nbconvert_exporter": "python",
   "pygments_lexer": "ipython3",
   "version": "3.7.1"
  }
 },
 "nbformat": 4,
 "nbformat_minor": 2
}
