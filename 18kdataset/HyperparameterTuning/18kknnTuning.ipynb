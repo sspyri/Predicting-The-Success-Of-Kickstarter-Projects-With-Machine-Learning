{
 "cells": [
  {
   "cell_type": "code",
   "execution_count": 3,
   "metadata": {},
   "outputs": [
    {
     "name": "stdout",
     "output_type": "stream",
     "text": [
      "Fitting 5 folds for each of 100 candidates, totalling 500 fits\n"
     ]
    },
    {
     "name": "stderr",
     "output_type": "stream",
     "text": [
      "[Parallel(n_jobs=-1)]: Using backend LokyBackend with 6 concurrent workers.\n",
      "[Parallel(n_jobs=-1)]: Done  29 tasks      | elapsed:    7.2s\n",
      "[Parallel(n_jobs=-1)]: Done 150 tasks      | elapsed:   21.9s\n",
      "[Parallel(n_jobs=-1)]: Done 353 tasks      | elapsed:   47.9s\n",
      "[Parallel(n_jobs=-1)]: Done 500 out of 500 | elapsed:  1.1min finished\n"
     ]
    },
    {
     "data": {
      "text/plain": [
       "{'weights': 'uniform', 'n_neighbors': 15, 'metric': 'manhattan'}"
      ]
     },
     "execution_count": 3,
     "metadata": {},
     "output_type": "execute_result"
    }
   ],
   "source": [
    "import pandas as pd\n",
    "import numpy as np\n",
    "from sklearn import model_selection\n",
    "from sklearn.neighbors import KNeighborsClassifier\n",
    "from sklearn.model_selection import train_test_split\n",
    "import matplotlib.pyplot as plt\n",
    "from sklearn.model_selection import cross_val_score\n",
    "from sklearn.model_selection import RandomizedSearchCV\n",
    "\n",
    "df = pd.read_csv(r'F:\\datasets\\Labeled_Minmaxed.csv')\n",
    "X = df.drop(columns=['backers_count','pledged','converted_pledged_amount'\n",
    "      ,'id','usd_pledged','state','static_usd_rate','funded_percentage','g_category','country','currency'])\n",
    "y = df['state'].values\n",
    "X_train, X_test, y_train, y_test = train_test_split(X, y, test_size = 0.20,random_state = 42,stratify=y)\n",
    "n_neighbors = [int(x) for x in np.linspace(start = 1, stop = 100, num = 100)]\n",
    "weights = ['uniform']\n",
    "metric = ['euclidean','manhattan','chebyshev','minkowski']\n",
    "\n",
    "random_grid = {'n_neighbors': n_neighbors,\n",
    "               'weights': weights,\n",
    "               'metric': metric,\n",
    "               }\n",
    "knn = KNeighborsClassifier()\n",
    "knn_random = RandomizedSearchCV(estimator = knn, param_distributions = random_grid, n_iter = 100, cv = 5,\n",
    "                              verbose = 2, random_state = 42, n_jobs = -1)\n",
    "knn_random.fit(X_train,y_train)\n",
    "knn_random.best_params_"
   ]
  },
  {
   "cell_type": "code",
   "execution_count": null,
   "metadata": {},
   "outputs": [],
   "source": []
  }
 ],
 "metadata": {
  "kernelspec": {
   "display_name": "Python 3",
   "language": "python",
   "name": "python3"
  },
  "language_info": {
   "codemirror_mode": {
    "name": "ipython",
    "version": 3
   },
   "file_extension": ".py",
   "mimetype": "text/x-python",
   "name": "python",
   "nbconvert_exporter": "python",
   "pygments_lexer": "ipython3",
   "version": "3.7.1"
  }
 },
 "nbformat": 4,
 "nbformat_minor": 2
}
