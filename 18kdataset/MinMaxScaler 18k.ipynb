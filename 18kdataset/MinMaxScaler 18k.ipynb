{
 "cells": [
  {
   "cell_type": "code",
   "execution_count": 3,
   "metadata": {},
   "outputs": [
    {
     "name": "stderr",
     "output_type": "stream",
     "text": [
      "C:\\Users\\dungeon\\Anaconda3\\lib\\site-packages\\sklearn\\preprocessing\\data.py:323: DataConversionWarning: Data with input dtype int64, float64 were all converted to float64 by MinMaxScaler.\n",
      "  return self.partial_fit(X, y)\n"
     ]
    }
   ],
   "source": [
    "import pandas as pd\n",
    "from sklearn import preprocessing\n",
    "import matplotlib.pyplot as plt\n",
    "from sklearn.preprocessing import MinMaxScaler\n",
    "\n",
    "df = pd.read_csv(r'C:\\18kdataset\\18klastlabel.csv')\n",
    "\n",
    "dfNormal = df[['Updates','Comments','Rewards','Goal','Pledged','Backers','Duration_in_Days','Facebook_Friends'\n",
    "                  ,'Facebook_Shares','Creator_Projects_Created','Creator_Projects_Backed','#_Videos','#_Images'\n",
    "                  ,'#_Words_(Description)','#_Words_(RisksandChallenges)','#_FAQs']]\n",
    "\n",
    "scaler = preprocessing.MinMaxScaler()\n",
    "\n",
    "dfNormal.astype(float)\n",
    "\n",
    "scaled_df = scaler.fit_transform(dfNormal)\n",
    "\n",
    "scaled_df = pd.DataFrame(scaled_df,columns=['Updates','Comments','Rewards','Goal','Pledged','Backers','Duration_in_Days','Facebook_Friends'\n",
    "                  ,'Facebook_Shares','Creator_Projects_Created','Creator_Projects_Backed','#_Videos','#_Images'\n",
    "                  ,'#_Words_(Description)','#_Words_(RisksandChallenges)','#_FAQs'])\n",
    "\n",
    "pd.set_option('display.float_format','{:20.9f}'.format)\n",
    "\n",
    "scaled_df.head(15)\n",
    "\n",
    "scaled_df.to_csv(r'C:\\18kdataset\\Scaled18kLast.csv',float_format='%.9f')"
   ]
  },
  {
   "cell_type": "code",
   "execution_count": null,
   "metadata": {},
   "outputs": [],
   "source": []
  }
 ],
 "metadata": {
  "kernelspec": {
   "display_name": "Python 3",
   "language": "python",
   "name": "python3"
  },
  "language_info": {
   "codemirror_mode": {
    "name": "ipython",
    "version": 3
   },
   "file_extension": ".py",
   "mimetype": "text/x-python",
   "name": "python",
   "nbconvert_exporter": "python",
   "pygments_lexer": "ipython3",
   "version": "3.7.1"
  }
 },
 "nbformat": 4,
 "nbformat_minor": 2
}
