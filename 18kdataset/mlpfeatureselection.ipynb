{
 "cells": [
  {
   "cell_type": "code",
   "execution_count": 6,
   "metadata": {},
   "outputs": [
    {
     "name": "stdout",
     "output_type": "stream",
     "text": [
      "{1: {'feature_idx': (0,), 'cv_scores': array([0.69574944, 0.68353726, 0.69328085, 0.6941077 , 0.69042828]), 'avg_score': 0.6914207079259274, 'feature_names': ('Updates',)}, 2: {'feature_idx': (0, 6), 'cv_scores': array([0.68153656, 0.729224  , 0.72957035, 0.73937754, 0.74045163]), 'avg_score': 0.7240320128500013, 'feature_names': ('Updates', 'Facebook_Shares')}, 3: {'feature_idx': (0, 3, 6), 'cv_scores': array([0.68311688, 0.74640884, 0.74264496, 0.74805339, 0.74913495]), 'avg_score': 0.7338718044469091, 'feature_names': ('Updates', 'Goal', 'Facebook_Shares')}, 4: {'feature_idx': (0, 3, 4, 6), 'cv_scores': array([0.68448501, 0.76674738, 0.75835189, 0.76631465, 0.78847693]), 'avg_score': 0.7528751706097412, 'feature_names': ('Updates', 'Goal', 'Duration_in_Days', 'Facebook_Shares')}, 5: {'feature_idx': (0, 3, 4, 6, 10), 'cv_scores': array([0.68297521, 0.77511446, 0.76893204, 0.7687991 , 0.78524946]), 'avg_score': 0.756214053595647, 'feature_names': ('Updates', 'Goal', 'Duration_in_Days', 'Facebook_Shares', '#_Images')}, 6: {'feature_idx': (0, 3, 4, 6, 10, 11), 'cv_scores': array([0.72599817, 0.77184595, 0.77563231, 0.76216814, 0.7689008 ]), 'avg_score': 0.760909075130882, 'feature_names': ('Updates', 'Goal', 'Duration_in_Days', 'Facebook_Shares', '#_Images', '#_Words_(Description)')}, 7: {'feature_idx': (0, 3, 4, 5, 6, 10, 11), 'cv_scores': array([0.69035202, 0.77337645, 0.78672732, 0.77885653, 0.78074307]), 'avg_score': 0.762011076704927, 'feature_names': ('Updates', 'Goal', 'Duration_in_Days', 'Facebook_Friends', 'Facebook_Shares', '#_Images', '#_Words_(Description)')}, 8: {'feature_idx': (0, 1, 3, 4, 5, 6, 10, 11), 'cv_scores': array([0.72147546, 0.7735546 , 0.77109794, 0.78102981, 0.78284039]), 'avg_score': 0.7659996418368953, 'feature_names': ('Updates', 'Comments', 'Goal', 'Duration_in_Days', 'Facebook_Friends', 'Facebook_Shares', '#_Images', '#_Words_(Description)')}, 9: {'feature_idx': (0, 1, 3, 4, 5, 6, 10, 11, 17), 'cv_scores': array([0.73204587, 0.77058353, 0.78431373, 0.78039636, 0.77417597]), 'avg_score': 0.7683030912657858, 'feature_names': ('Updates', 'Comments', 'Goal', 'Duration_in_Days', 'Facebook_Friends', 'Facebook_Shares', '#_Images', '#_Words_(Description)', 'Facebook_Connected')}, 10: {'feature_idx': (0, 1, 3, 4, 5, 6, 7, 10, 11, 17), 'cv_scores': array([0.7207812 , 0.77096774, 0.77722499, 0.76511955, 0.76782247]), 'avg_score': 0.7603831898315814, 'feature_names': ('Updates', 'Comments', 'Goal', 'Duration_in_Days', 'Facebook_Friends', 'Facebook_Shares', 'Creator_Projects_Created', '#_Images', '#_Words_(Description)', 'Facebook_Connected')}, 11: {'feature_idx': (0, 1, 3, 4, 5, 6, 7, 8, 10, 11, 17), 'cv_scores': array([0.73853484, 0.77312717, 0.77348378, 0.77906663, 0.78072412]), 'avg_score': 0.7689873078548464, 'feature_names': ('Updates', 'Comments', 'Goal', 'Duration_in_Days', 'Facebook_Friends', 'Facebook_Shares', 'Creator_Projects_Created', 'Creator_Projects_Backed', '#_Images', '#_Words_(Description)', 'Facebook_Connected')}, 12: {'feature_idx': (0, 1, 3, 4, 5, 6, 7, 8, 10, 11, 12, 17), 'cv_scores': array([0.71607255, 0.77380628, 0.77555618, 0.77840451, 0.77684211]), 'avg_score': 0.7641363240062193, 'feature_names': ('Updates', 'Comments', 'Goal', 'Duration_in_Days', 'Facebook_Friends', 'Facebook_Shares', 'Creator_Projects_Created', 'Creator_Projects_Backed', '#_Images', '#_Words_(Description)', '#_Words_(RisksandChallenges)', 'Facebook_Connected')}, 13: {'feature_idx': (0, 1, 3, 4, 5, 6, 7, 8, 10, 11, 12, 13, 17), 'cv_scores': array([0.71915685, 0.76859956, 0.78323619, 0.77544338, 0.7784015 ]), 'avg_score': 0.76496749705928, 'feature_names': ('Updates', 'Comments', 'Goal', 'Duration_in_Days', 'Facebook_Friends', 'Facebook_Shares', 'Creator_Projects_Created', 'Creator_Projects_Backed', '#_Images', '#_Words_(Description)', '#_Words_(RisksandChallenges)', '#_FAQs', 'Facebook_Connected')}, 14: {'feature_idx': (0, 1, 2, 3, 4, 5, 6, 7, 8, 10, 11, 12, 13, 17), 'cv_scores': array([0.73409364, 0.76027972, 0.78092069, 0.76978818, 0.77593248]), 'avg_score': 0.7642029417140763, 'feature_names': ('Updates', 'Comments', 'Rewards', 'Goal', 'Duration_in_Days', 'Facebook_Friends', 'Facebook_Shares', 'Creator_Projects_Created', 'Creator_Projects_Backed', '#_Images', '#_Words_(Description)', '#_Words_(RisksandChallenges)', '#_FAQs', 'Facebook_Connected')}, 15: {'feature_idx': (0, 1, 2, 3, 4, 5, 6, 7, 8, 9, 10, 11, 12, 13, 17), 'cv_scores': array([0.74941452, 0.7708502 , 0.7827051 , 0.77319588, 0.77532078]), 'avg_score': 0.7702972947446358, 'feature_names': ('Updates', 'Comments', 'Rewards', 'Goal', 'Duration_in_Days', 'Facebook_Friends', 'Facebook_Shares', 'Creator_Projects_Created', 'Creator_Projects_Backed', '#_Videos', '#_Images', '#_Words_(Description)', '#_Words_(RisksandChallenges)', '#_FAQs', 'Facebook_Connected')}}\n",
      "best combination (ACC: 0.770): (0, 1, 2, 3, 4, 5, 6, 7, 8, 9, 10, 11, 12, 13, 17)\n",
      "\n"
     ]
    }
   ],
   "source": [
    "import pandas as pd\n",
    "import numpy as np\n",
    "from keras import Sequential\n",
    "from keras.layers import Dense\n",
    "from sklearn.model_selection import train_test_split\n",
    "from sklearn.model_selection import cross_val_score\n",
    "from keras.wrappers.scikit_learn import KerasClassifier\n",
    "from keras import metrics\n",
    "from keras.layers import Dropout\n",
    "from keras.constraints import maxnorm\n",
    "from sklearn.neural_network import MLPClassifier\n",
    "from sklearn.model_selection import train_test_split\n",
    "from sklearn.model_selection import cross_val_score\n",
    "from sklearn.metrics import confusion_matrix, classification_report\n",
    "from mlxtend.feature_selection import SequentialFeatureSelector as SFS\n",
    "from sklearn.neighbors import KNeighborsClassifier\n",
    "\n",
    "df = pd.read_csv(r'C:\\Users\\dungeon\\Desktop\\New folder\\Scaled18kLast.csv')\n",
    "X = df.drop(columns=['State','Location','Pledged','Backers'\n",
    "                    \n",
    "                    ])\n",
    "y = df['State'].values\n",
    "\n",
    "# Split dataset into train and test data\n",
    "X_train, X_test, y_train, y_test = train_test_split(X, y, test_size = 0.33, random_state = 42,stratify=y)\n",
    "\n",
    "\n",
    "mlp = MLPClassifier(random_state=42)\n",
    "\n",
    "sfs = SFS(mlp, k_features = (1,15),forward = True, floating = False,scoring = 'accuracy',cv =5,n_jobs = -1)\n",
    "sfs = sfs.fit(X,y)\n",
    "\n",
    "print(sfs.subsets_)\n",
    "\n",
    "print('best combination (ACC: %.3f): %s\\n' % (sfs.k_score_, sfs.k_feature_idx_))"
   ]
  },
  {
   "cell_type": "code",
   "execution_count": null,
   "metadata": {},
   "outputs": [],
   "source": []
  }
 ],
 "metadata": {
  "kernelspec": {
   "display_name": "Python 3",
   "language": "python",
   "name": "python3"
  },
  "language_info": {
   "codemirror_mode": {
    "name": "ipython",
    "version": 3
   },
   "file_extension": ".py",
   "mimetype": "text/x-python",
   "name": "python",
   "nbconvert_exporter": "python",
   "pygments_lexer": "ipython3",
   "version": "3.7.1"
  }
 },
 "nbformat": 4,
 "nbformat_minor": 2
}
