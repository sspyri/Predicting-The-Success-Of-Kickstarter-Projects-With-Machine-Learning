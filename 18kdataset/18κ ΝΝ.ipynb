{
 "cells": [
  {
   "cell_type": "code",
   "execution_count": 3,
   "metadata": {},
   "outputs": [
    {
     "name": "stdout",
     "output_type": "stream",
     "text": [
      "=== Cross Validated Mean Scores - Neural Network ===\n",
      "Mean Accuracy Score:  0.6144320715430776\n",
      "Mean F1-Score :  0.6030766805605602\n",
      "Mean Precision Score:  0.6290938985869087\n",
      "Mean Recall Score:  0.7165982613211633\n"
     ]
    }
   ],
   "source": [
    "import pandas as pd\n",
    "import numpy as np\n",
    "from keras import Sequential\n",
    "from keras.layers import Dense\n",
    "from sklearn.model_selection import train_test_split\n",
    "from sklearn.model_selection import cross_val_score\n",
    "from keras.wrappers.scikit_learn import KerasClassifier\n",
    "from keras import metrics\n",
    "from keras.layers import Dropout\n",
    "from keras.constraints import maxnorm\n",
    "df = pd.read_csv(r'C:\\18kdataset\\Scaled18kLast.csv')\n",
    "\n",
    "X = df.drop(columns=['State','Location','Pledged','Backers'])\n",
    "\n",
    "y = df['State'].values\n",
    "\n",
    "# Split dataset into train and test data\n",
    "X_train, X_test, y_train, y_test = train_test_split(X, y, test_size = 0.33, random_state = 42,stratify=y)\n",
    "\n",
    "# K fold validation\n",
    "def build_classifier():\n",
    "    # Initializing Neural Network\n",
    "    classifier = Sequential()\n",
    "    # First Hidden Layer\n",
    "    classifier.add(Dense(128, activation = 'relu',kernel_constraint=maxnorm(4),\n",
    "    kernel_initializer = 'random_normal', input_dim = 19))\n",
    "    # Second Hidden Layer\n",
    "    classifier.add(Dense(128, activation='relu',kernel_constraint=maxnorm(4),\n",
    "    kernel_initializer = 'random_normal'))\n",
    "    classifier.add(Dropout(0))\n",
    "    # Output Layer\n",
    "    classifier.add(Dense(1,activation='sigmoid',\n",
    "    kernel_initializer='random_normal'))\n",
    "    # Compiling NN\n",
    "    classifier.compile(optimizer='adam',loss = 'binary_crossentropy',\n",
    "    metrics=['accuracy'])\n",
    "    #Fitting the data to the training dataset\n",
    "   # classifier.fit(X_train,y_train, batch_size=10, epochs = 200)\n",
    "    return classifier\n",
    "classifier = KerasClassifier(build_fn=build_classifier,batch_size=2,nb_epoch=123)\n",
    "acc_scores = cross_val_score(estimator=classifier, X=X, y=y,cv=10,n_jobs=-1,scoring='accuracy')\n",
    "f1_scores = cross_val_score(estimator=classifier,X=X, y=y,cv = 10,n_jobs=-1, scoring='f1')\n",
    "prec_scores = cross_val_score(estimator=classifier,X=X, y=y,cv=10,n_jobs=-1,scoring='precision')\n",
    "rec_scores = cross_val_score(estimator=classifier,X=X, y=y,cv=10,n_jobs=-1,scoring='recall')\n",
    "\n",
    "print(\"=== Cross Validated Mean Scores - Neural Network ===\")\n",
    "print(\"Mean Accuracy Score: \", acc_scores.mean())\n",
    "print('Mean F1-Score : ',f1_scores.mean())\n",
    "print('Mean Precision Score: ',prec_scores.mean())\n",
    "print('Mean Recall Score: ',rec_scores.mean())\n"
   ]
  },
  {
   "cell_type": "code",
   "execution_count": null,
   "metadata": {},
   "outputs": [],
   "source": []
  }
 ],
 "metadata": {
  "kernelspec": {
   "display_name": "Python 3",
   "language": "python",
   "name": "python3"
  },
  "language_info": {
   "codemirror_mode": {
    "name": "ipython",
    "version": 3
   },
   "file_extension": ".py",
   "mimetype": "text/x-python",
   "name": "python",
   "nbconvert_exporter": "python",
   "pygments_lexer": "ipython3",
   "version": "3.7.1"
  }
 },
 "nbformat": 4,
 "nbformat_minor": 2
}
