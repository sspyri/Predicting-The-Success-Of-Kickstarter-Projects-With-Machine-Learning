{
 "cells": [
  {
   "cell_type": "code",
   "execution_count": 1,
   "metadata": {
    "scrolled": true
   },
   "outputs": [
    {
     "name": "stdout",
     "output_type": "stream",
     "text": [
      "{1: {'feature_idx': (6,), 'cv_scores': array([0.57257525, 0.62153449, 0.70505051, 0.69514768, 0.70342612,\n",
      "       0.70861978, 0.69383378, 0.70244421, 0.70545073, 0.67750981]), 'avg_score': 0.6785592368299944, 'feature_names': ('Facebook_Shares',)}, 2: {'feature_idx': (3, 6), 'cv_scores': array([0.62255233, 0.68992248, 0.7865285 , 0.8012685 , 0.81061394,\n",
      "       0.80209424, 0.78908709, 0.81390374, 0.77922078, 0.77723043]), 'avg_score': 0.7672422039454148, 'feature_names': ('Goal', 'Facebook_Shares')}, 3: {'feature_idx': (1, 3, 6), 'cv_scores': array([0.73840445, 0.75530587, 0.81439589, 0.82996812, 0.83640189,\n",
      "       0.82682154, 0.81256656, 0.83271375, 0.80992608, 0.80858086]), 'avg_score': 0.8065085016986571, 'feature_names': ('Comments', 'Goal', 'Facebook_Shares')}, 4: {'feature_idx': (0, 1, 3, 6), 'cv_scores': array([0.74421437, 0.76491647, 0.81045752, 0.83020833, 0.83213182,\n",
      "       0.81431535, 0.8166491 , 0.82116402, 0.82024249, 0.82040152]), 'avg_score': 0.8074700998615555, 'feature_names': ('Updates', 'Comments', 'Goal', 'Facebook_Shares')}, 5: {'feature_idx': (0, 1, 3, 6, 17), 'cv_scores': array([0.757503  , 0.76786769, 0.8074037 , 0.82261411, 0.83146067,\n",
      "       0.81075596, 0.80398323, 0.82067511, 0.81200632, 0.81151548]), 'avg_score': 0.8045785270852761, 'feature_names': ('Updates', 'Comments', 'Goal', 'Facebook_Shares', 'Facebook_Connected')}, 6: {'feature_idx': (0, 1, 3, 6, 17, 18), 'cv_scores': array([0.75507766, 0.75784488, 0.80260521, 0.80942408, 0.83069054,\n",
      "       0.80771182, 0.79645094, 0.82222222, 0.81289641, 0.80718954]), 'avg_score': 0.8002113299697943, 'feature_names': ('Updates', 'Comments', 'Goal', 'Facebook_Shares', 'Facebook_Connected', 'Has_Video')}, 7: {'feature_idx': (0, 1, 3, 6, 9, 17, 18), 'cv_scores': array([0.73665267, 0.7491082 , 0.79197995, 0.80104167, 0.81897886,\n",
      "       0.80122013, 0.7925117 , 0.818906  , 0.7976633 , 0.79825518]), 'avg_score': 0.790631766249105, 'feature_names': ('Updates', 'Comments', 'Goal', 'Facebook_Shares', '#_Videos', 'Facebook_Connected', 'Has_Video')}, 8: {'feature_idx': (0, 1, 3, 6, 7, 9, 17, 18), 'cv_scores': array([0.71549637, 0.75103489, 0.78681977, 0.78112033, 0.80123584,\n",
      "       0.78604413, 0.79328437, 0.78902954, 0.78485008, 0.80065359]), 'avg_score': 0.7789568900168706, 'feature_names': ('Updates', 'Comments', 'Goal', 'Facebook_Shares', 'Creator_Projects_Created', '#_Videos', 'Facebook_Connected', 'Has_Video')}, 9: {'feature_idx': (0, 1, 3, 6, 7, 9, 13, 17, 18), 'cv_scores': array([0.70736086, 0.73242764, 0.76720648, 0.75883905, 0.78094252,\n",
      "       0.7773153 , 0.77126255, 0.78121665, 0.78205805, 0.78637101]), 'avg_score': 0.7645000100210961, 'feature_names': ('Updates', 'Comments', 'Goal', 'Facebook_Shares', 'Creator_Projects_Created', '#_Videos', '#_FAQs', 'Facebook_Connected', 'Has_Video')}, 10: {'feature_idx': (0, 1, 3, 6, 7, 9, 13, 14, 17, 18), 'cv_scores': array([0.70650888, 0.71749409, 0.75360825, 0.75437666, 0.7657563 ,\n",
      "       0.76548438, 0.75      , 0.7639485 , 0.75258293, 0.77100494]), 'avg_score': 0.7500764922310798, 'feature_names': ('Updates', 'Comments', 'Goal', 'Facebook_Shares', 'Creator_Projects_Created', '#_Videos', '#_FAQs', 'Currency', 'Facebook_Connected', 'Has_Video')}, 11: {'feature_idx': (0, 1, 3, 6, 7, 9, 13, 14, 15, 17, 18), 'cv_scores': array([0.70229885, 0.70718878, 0.74868559, 0.71528903, 0.7306434 ,\n",
      "       0.7353914 , 0.71895425, 0.75124654, 0.73544093, 0.72737557]), 'avg_score': 0.727251434190644, 'feature_names': ('Updates', 'Comments', 'Goal', 'Facebook_Shares', 'Creator_Projects_Created', '#_Videos', '#_FAQs', 'Currency', 'Top_Category', 'Facebook_Connected', 'Has_Video')}, 12: {'feature_idx': (0, 1, 3, 6, 7, 8, 9, 13, 14, 15, 17, 18), 'cv_scores': array([0.68753557, 0.68941585, 0.74195251, 0.69734705, 0.71956522,\n",
      "       0.71846847, 0.71240395, 0.71469087, 0.72808989, 0.68591224]), 'avg_score': 0.7095381608399016, 'feature_names': ('Updates', 'Comments', 'Goal', 'Facebook_Shares', 'Creator_Projects_Created', 'Creator_Projects_Backed', '#_Videos', '#_FAQs', 'Currency', 'Top_Category', 'Facebook_Connected', 'Has_Video')}, 13: {'feature_idx': (0, 1, 3, 6, 7, 8, 9, 10, 13, 14, 15, 17, 18), 'cv_scores': array([0.66551922, 0.69619534, 0.71219512, 0.68123249, 0.69358407,\n",
      "       0.68653295, 0.68519569, 0.70898876, 0.6951567 , 0.66431925]), 'avg_score': 0.6888919597519286, 'feature_names': ('Updates', 'Comments', 'Goal', 'Facebook_Shares', 'Creator_Projects_Created', 'Creator_Projects_Backed', '#_Videos', '#_Images', '#_FAQs', 'Currency', 'Top_Category', 'Facebook_Connected', 'Has_Video')}, 14: {'feature_idx': (0, 1, 3, 5, 6, 7, 8, 9, 10, 13, 14, 15, 17, 18), 'cv_scores': array([0.66434783, 0.68242075, 0.69484083, 0.66816901, 0.68767586,\n",
      "       0.69738339, 0.6603139 , 0.68082664, 0.68412256, 0.6592113 ]), 'avg_score': 0.6779312072938252, 'feature_names': ('Updates', 'Comments', 'Goal', 'Facebook_Friends', 'Facebook_Shares', 'Creator_Projects_Created', 'Creator_Projects_Backed', '#_Videos', '#_Images', '#_FAQs', 'Currency', 'Top_Category', 'Facebook_Connected', 'Has_Video')}, 15: {'feature_idx': (0, 1, 3, 4, 5, 6, 7, 8, 9, 10, 13, 14, 15, 17, 18), 'cv_scores': array([0.62216925, 0.65173836, 0.68777778, 0.64917285, 0.67745665,\n",
      "       0.66551922, 0.6564452 , 0.66011561, 0.66962306, 0.67707752]), 'avg_score': 0.6617095494479204, 'feature_names': ('Updates', 'Comments', 'Goal', 'Duration_in_Days', 'Facebook_Friends', 'Facebook_Shares', 'Creator_Projects_Created', 'Creator_Projects_Backed', '#_Videos', '#_Images', '#_FAQs', 'Currency', 'Top_Category', 'Facebook_Connected', 'Has_Video')}, 16: {'feature_idx': (0, 1, 3, 4, 5, 6, 7, 8, 9, 10, 12, 13, 14, 15, 17, 18), 'cv_scores': array([0.63529412, 0.63882353, 0.66441441, 0.64578588, 0.69714286,\n",
      "       0.65793967, 0.64672686, 0.66628109, 0.65152355, 0.66811752]), 'avg_score': 0.6572049479886133, 'feature_names': ('Updates', 'Comments', 'Goal', 'Duration_in_Days', 'Facebook_Friends', 'Facebook_Shares', 'Creator_Projects_Created', 'Creator_Projects_Backed', '#_Videos', '#_Images', '#_Words_(RisksandChallenges)', '#_FAQs', 'Currency', 'Top_Category', 'Facebook_Connected', 'Has_Video')}, 17: {'feature_idx': (0, 1, 2, 3, 4, 5, 6, 7, 8, 9, 10, 12, 13, 14, 15, 17, 18), 'cv_scores': array([0.64126612, 0.64508534, 0.67548209, 0.63914027, 0.68303826,\n",
      "       0.66741447, 0.65575621, 0.66513498, 0.65080243, 0.66484716]), 'avg_score': 0.6587967347017597, 'feature_names': ('Updates', 'Comments', 'Rewards', 'Goal', 'Duration_in_Days', 'Facebook_Friends', 'Facebook_Shares', 'Creator_Projects_Created', 'Creator_Projects_Backed', '#_Videos', '#_Images', '#_Words_(RisksandChallenges)', '#_FAQs', 'Currency', 'Top_Category', 'Facebook_Connected', 'Has_Video')}, 18: {'feature_idx': (0, 1, 2, 3, 4, 5, 6, 7, 8, 9, 10, 11, 12, 13, 14, 15, 17, 18), 'cv_scores': array([0.62008221, 0.64527421, 0.66629402, 0.63259512, 0.64339732,\n",
      "       0.65158371, 0.64461883, 0.66591676, 0.64686469, 0.6517106 ]), 'avg_score': 0.6468337471152676, 'feature_names': ('Updates', 'Comments', 'Rewards', 'Goal', 'Duration_in_Days', 'Facebook_Friends', 'Facebook_Shares', 'Creator_Projects_Created', 'Creator_Projects_Backed', '#_Videos', '#_Images', '#_Words_(Description)', '#_Words_(RisksandChallenges)', '#_FAQs', 'Currency', 'Top_Category', 'Facebook_Connected', 'Has_Video')}, 19: {'feature_idx': (0, 1, 2, 3, 4, 5, 6, 7, 8, 9, 10, 11, 12, 13, 14, 15, 16, 17, 18), 'cv_scores': array([0.64867903, 0.63563218, 0.65450525, 0.63044709, 0.66024915,\n",
      "       0.64892412, 0.63753501, 0.6345831 , 0.63140676, 0.61007357]), 'avg_score': 0.6392035273357248, 'feature_names': ('Updates', 'Comments', 'Rewards', 'Goal', 'Duration_in_Days', 'Facebook_Friends', 'Facebook_Shares', 'Creator_Projects_Created', 'Creator_Projects_Backed', '#_Videos', '#_Images', '#_Words_(Description)', '#_Words_(RisksandChallenges)', '#_FAQs', 'Currency', 'Top_Category', 'Category', 'Facebook_Connected', 'Has_Video')}}\n",
      "best combination (ACC: 0.807): (0, 1, 3, 6)\n",
      "\n"
     ]
    }
   ],
   "source": [
    "import pandas as pd\n",
    "import numpy as np\n",
    "from sklearn.model_selection import train_test_split\n",
    "from sklearn.model_selection import cross_val_score\n",
    "from sklearn.metrics import confusion_matrix, classification_report\n",
    "from mlxtend.feature_selection import SequentialFeatureSelector as SFS\n",
    "from sklearn.neighbors import KNeighborsClassifier\n",
    "\n",
    "df = pd.read_csv(r'C:\\18kdataset\\Scaled18kLast.csv')\n",
    "X = df.drop(columns=['State','Location','Pledged','Backers'])\n",
    "y = df['State'].values\n",
    "\n",
    "# Split dataset into train and test data\n",
    "X_train, X_test, y_train, y_test = train_test_split(X, y, test_size = 0.33, random_state = 42,stratify=y)\n",
    "knn = KNeighborsClassifier()\n",
    "sfs = SFS(knn, k_features = (1,19),forward = True, floating = False,scoring = 'f1',cv =10,n_jobs = -1)\n",
    "sfs = sfs.fit(X,y)\n",
    "#train model with cv of 5\n",
    "#cv_scores = cross_val_score(svclassifier, X, y, cv=5, scoring='accuracy')\n",
    "\n",
    "# Get SFS Results\n",
    "print(sfs.subsets_)\n",
    "\n",
    "print('best combination (ACC: %.3f): %s\\n' % (sfs.k_score_, sfs.k_feature_idx_))"
   ]
  },
  {
   "cell_type": "code",
   "execution_count": null,
   "metadata": {},
   "outputs": [],
   "source": []
  }
 ],
 "metadata": {
  "kernelspec": {
   "display_name": "Python 3",
   "language": "python",
   "name": "python3"
  },
  "language_info": {
   "codemirror_mode": {
    "name": "ipython",
    "version": 3
   },
   "file_extension": ".py",
   "mimetype": "text/x-python",
   "name": "python",
   "nbconvert_exporter": "python",
   "pygments_lexer": "ipython3",
   "version": "3.7.1"
  }
 },
 "nbformat": 4,
 "nbformat_minor": 2
}
