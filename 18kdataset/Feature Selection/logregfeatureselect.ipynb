{
 "cells": [
  {
   "cell_type": "code",
   "execution_count": 6,
   "metadata": {},
   "outputs": [
    {
     "name": "stderr",
     "output_type": "stream",
     "text": [
      "C:\\Users\\dungeon\\Anaconda3\\lib\\site-packages\\sklearn\\linear_model\\logistic.py:758: ConvergenceWarning: lbfgs failed to converge. Increase the number of iterations.\n",
      "  \"of iterations.\", ConvergenceWarning)\n",
      "C:\\Users\\dungeon\\Anaconda3\\lib\\site-packages\\sklearn\\linear_model\\logistic.py:758: ConvergenceWarning: lbfgs failed to converge. Increase the number of iterations.\n",
      "  \"of iterations.\", ConvergenceWarning)\n",
      "C:\\Users\\dungeon\\Anaconda3\\lib\\site-packages\\sklearn\\linear_model\\logistic.py:758: ConvergenceWarning: lbfgs failed to converge. Increase the number of iterations.\n",
      "  \"of iterations.\", ConvergenceWarning)\n",
      "C:\\Users\\dungeon\\Anaconda3\\lib\\site-packages\\sklearn\\linear_model\\logistic.py:758: ConvergenceWarning: lbfgs failed to converge. Increase the number of iterations.\n",
      "  \"of iterations.\", ConvergenceWarning)\n",
      "C:\\Users\\dungeon\\Anaconda3\\lib\\site-packages\\sklearn\\linear_model\\logistic.py:758: ConvergenceWarning: lbfgs failed to converge. Increase the number of iterations.\n",
      "  \"of iterations.\", ConvergenceWarning)\n",
      "C:\\Users\\dungeon\\Anaconda3\\lib\\site-packages\\sklearn\\linear_model\\logistic.py:758: ConvergenceWarning: lbfgs failed to converge. Increase the number of iterations.\n",
      "  \"of iterations.\", ConvergenceWarning)\n",
      "C:\\Users\\dungeon\\Anaconda3\\lib\\site-packages\\sklearn\\linear_model\\logistic.py:758: ConvergenceWarning: lbfgs failed to converge. Increase the number of iterations.\n",
      "  \"of iterations.\", ConvergenceWarning)\n",
      "C:\\Users\\dungeon\\Anaconda3\\lib\\site-packages\\sklearn\\linear_model\\logistic.py:758: ConvergenceWarning: lbfgs failed to converge. Increase the number of iterations.\n",
      "  \"of iterations.\", ConvergenceWarning)\n",
      "C:\\Users\\dungeon\\Anaconda3\\lib\\site-packages\\sklearn\\linear_model\\logistic.py:758: ConvergenceWarning: lbfgs failed to converge. Increase the number of iterations.\n",
      "  \"of iterations.\", ConvergenceWarning)\n",
      "C:\\Users\\dungeon\\Anaconda3\\lib\\site-packages\\sklearn\\linear_model\\logistic.py:758: ConvergenceWarning: lbfgs failed to converge. Increase the number of iterations.\n",
      "  \"of iterations.\", ConvergenceWarning)\n",
      "C:\\Users\\dungeon\\Anaconda3\\lib\\site-packages\\sklearn\\linear_model\\logistic.py:758: ConvergenceWarning: lbfgs failed to converge. Increase the number of iterations.\n",
      "  \"of iterations.\", ConvergenceWarning)\n"
     ]
    },
    {
     "name": "stdout",
     "output_type": "stream",
     "text": [
      "{19: {'feature_idx': (0, 1, 2, 3, 4, 5, 6, 7, 8, 9, 10, 11, 12, 13, 14, 15, 16, 17, 18), 'cv_scores': array([0.63689975, 0.64924115, 0.62063086, 0.65943239, 0.65770609,\n",
      "       0.66831276, 0.6590106 , 0.66208083, 0.65894924, 0.68376068]), 'avg_score': 0.6556024345735165, 'feature_names': ('Updates', 'Comments', 'Rewards', 'Goal', 'Duration_in_Days', 'Facebook_Friends', 'Facebook_Shares', 'Creator_Projects_Created', 'Creator_Projects_Backed', '#_Videos', '#_Images', '#_Words_(Description)', '#_Words_(RisksandChallenges)', '#_FAQs', 'Currency', 'Top_Category', 'Category', 'Facebook_Connected', 'Has_Video')}, 18: {'feature_idx': (0, 1, 2, 3, 4, 5, 6, 7, 8, 9, 10, 11, 12, 13, 14, 15, 17, 18), 'cv_scores': array([0.67878788, 0.67652174, 0.68867083, 0.71701389, 0.67264574,\n",
      "       0.68430034, 0.67850799, 0.68169991, 0.68425682, 0.70190641]), 'avg_score': 0.6864311552457067, 'feature_names': ('Updates', 'Comments', 'Rewards', 'Goal', 'Duration_in_Days', 'Facebook_Friends', 'Facebook_Shares', 'Creator_Projects_Created', 'Creator_Projects_Backed', '#_Videos', '#_Images', '#_Words_(Description)', '#_Words_(RisksandChallenges)', '#_FAQs', 'Currency', 'Top_Category', 'Facebook_Connected', 'Has_Video')}, 17: {'feature_idx': (0, 1, 2, 3, 4, 5, 6, 8, 9, 10, 11, 12, 13, 14, 15, 17, 18), 'cv_scores': array([0.67077465, 0.67702936, 0.69015357, 0.72020725, 0.68471616,\n",
      "       0.69922879, 0.68253968, 0.68267581, 0.67421603, 0.70466321]), 'avg_score': 0.6886204517522653, 'feature_names': ('Updates', 'Comments', 'Rewards', 'Goal', 'Duration_in_Days', 'Facebook_Friends', 'Facebook_Shares', 'Creator_Projects_Backed', '#_Videos', '#_Images', '#_Words_(Description)', '#_Words_(RisksandChallenges)', '#_FAQs', 'Currency', 'Top_Category', 'Facebook_Connected', 'Has_Video')}, 16: {'feature_idx': (0, 1, 2, 3, 4, 5, 6, 8, 9, 10, 11, 12, 13, 14, 15, 18), 'cv_scores': array([0.67370273, 0.67239897, 0.68872987, 0.71218669, 0.68965517,\n",
      "       0.7042735 , 0.6720286 , 0.68393782, 0.68059182, 0.69444444]), 'avg_score': 0.6871949620050599, 'feature_names': ('Updates', 'Comments', 'Rewards', 'Goal', 'Duration_in_Days', 'Facebook_Friends', 'Facebook_Shares', 'Creator_Projects_Backed', '#_Videos', '#_Images', '#_Words_(Description)', '#_Words_(RisksandChallenges)', '#_FAQs', 'Currency', 'Top_Category', 'Has_Video')}, 15: {'feature_idx': (0, 1, 2, 3, 4, 5, 6, 8, 9, 10, 11, 12, 13, 14, 18), 'cv_scores': array([0.6784141 , 0.67068966, 0.68761221, 0.71134021, 0.69549868,\n",
      "       0.70376712, 0.6720286 , 0.68798617, 0.67654752, 0.69694323]), 'avg_score': 0.6880827480693731, 'feature_names': ('Updates', 'Comments', 'Rewards', 'Goal', 'Duration_in_Days', 'Facebook_Friends', 'Facebook_Shares', 'Creator_Projects_Backed', '#_Videos', '#_Images', '#_Words_(Description)', '#_Words_(RisksandChallenges)', '#_FAQs', 'Currency', 'Has_Video')}, 14: {'feature_idx': (0, 2, 3, 4, 5, 6, 8, 9, 10, 11, 12, 14, 17, 18), 'cv_scores': array([0.67603161, 0.67940921, 0.69071235, 0.7154047 , 0.68039391,\n",
      "       0.70538002, 0.68253968, 0.68798617, 0.67838313, 0.70496084]), 'avg_score': 0.6901201616086893, 'feature_names': ('Updates', 'Rewards', 'Goal', 'Duration_in_Days', 'Facebook_Friends', 'Facebook_Shares', 'Creator_Projects_Backed', '#_Videos', '#_Images', '#_Words_(Description)', '#_Words_(RisksandChallenges)', 'Currency', 'Facebook_Connected', 'Has_Video')}, 13: {'feature_idx': (0, 1, 4, 5, 6, 7, 8, 10, 11, 12, 14, 17, 18), 'cv_scores': array([0.68656716, 0.68793103, 0.67938238, 0.70454545, 0.68535262,\n",
      "       0.70288625, 0.69026549, 0.69490061, 0.6760812 , 0.69894366]), 'avg_score': 0.6906855856864923, 'feature_names': ('Updates', 'Comments', 'Duration_in_Days', 'Facebook_Friends', 'Facebook_Shares', 'Creator_Projects_Created', 'Creator_Projects_Backed', '#_Images', '#_Words_(Description)', '#_Words_(RisksandChallenges)', 'Currency', 'Facebook_Connected', 'Has_Video')}, 12: {'feature_idx': (0, 4, 5, 6, 7, 8, 10, 11, 12, 14, 17, 18), 'cv_scores': array([0.68309859, 0.68906115, 0.68177697, 0.70454545, 0.6865402 ,\n",
      "       0.7017842 , 0.68965517, 0.69490061, 0.67488987, 0.69894366]), 'avg_score': 0.6905195875253635, 'feature_names': ('Updates', 'Duration_in_Days', 'Facebook_Friends', 'Facebook_Shares', 'Creator_Projects_Created', 'Creator_Projects_Backed', '#_Images', '#_Words_(Description)', '#_Words_(RisksandChallenges)', 'Currency', 'Facebook_Connected', 'Has_Video')}, 11: {'feature_idx': (0, 4, 5, 6, 7, 10, 11, 12, 14, 17, 18), 'cv_scores': array([0.68425682, 0.6862069 , 0.67818182, 0.70227671, 0.68716094,\n",
      "       0.70408163, 0.69087688, 0.69550173, 0.6784141 , 0.6971831 ]), 'avg_score': 0.6904140619233976, 'feature_names': ('Updates', 'Duration_in_Days', 'Facebook_Friends', 'Facebook_Shares', 'Creator_Projects_Created', '#_Images', '#_Words_(Description)', '#_Words_(RisksandChallenges)', 'Currency', 'Facebook_Connected', 'Has_Video')}, 10: {'feature_idx': (0, 3, 4, 5, 6, 7, 11, 14, 17, 18), 'cv_scores': array([0.68815331, 0.6873385 , 0.67574932, 0.70516185, 0.69321267,\n",
      "       0.6996587 , 0.68898678, 0.6915078 , 0.6819788 , 0.7027972 ]), 'avg_score': 0.6914544942205576, 'feature_names': ('Updates', 'Goal', 'Duration_in_Days', 'Facebook_Friends', 'Facebook_Shares', 'Creator_Projects_Created', '#_Words_(Description)', 'Currency', 'Facebook_Connected', 'Has_Video')}, 9: {'feature_idx': (0, 4, 5, 6, 7, 11, 14, 17, 18), 'cv_scores': array([0.6875544 , 0.6873385 , 0.67454545, 0.70402802, 0.69202899,\n",
      "       0.69906223, 0.68898678, 0.69037294, 0.68081344, 0.7027972 ]), 'avg_score': 0.6907527957604152, 'feature_names': ('Updates', 'Duration_in_Days', 'Facebook_Friends', 'Facebook_Shares', 'Creator_Projects_Created', '#_Words_(Description)', 'Currency', 'Facebook_Connected', 'Has_Video')}, 8: {'feature_idx': (0, 4, 5, 7, 11, 14, 17, 18), 'cv_scores': array([0.68641115, 0.68728522, 0.67574932, 0.70402802, 0.69140271,\n",
      "       0.69727891, 0.68959436, 0.69437229, 0.68021201, 0.70166229]), 'avg_score': 0.6907996296488152, 'feature_names': ('Updates', 'Duration_in_Days', 'Facebook_Friends', 'Creator_Projects_Created', '#_Words_(Description)', 'Currency', 'Facebook_Connected', 'Has_Video')}, 7: {'feature_idx': (0, 4, 5, 7, 11, 17, 18), 'cv_scores': array([0.68941382, 0.68502582, 0.67759563, 0.70104895, 0.68778281,\n",
      "       0.70247229, 0.68959436, 0.68641115, 0.68126095, 0.69877408]), 'avg_score': 0.6899379851343787, 'feature_names': ('Updates', 'Duration_in_Days', 'Facebook_Friends', 'Creator_Projects_Created', '#_Words_(Description)', 'Facebook_Connected', 'Has_Video')}, 6: {'feature_idx': (0, 4, 6, 7, 14, 18), 'cv_scores': array([0.68462207, 0.69335605, 0.67332123, 0.70415225, 0.69333333,\n",
      "       0.69639794, 0.68141593, 0.67826087, 0.66782609, 0.71192341]), 'avg_score': 0.6884609171123948, 'feature_names': ('Updates', 'Duration_in_Days', 'Facebook_Shares', 'Creator_Projects_Created', 'Currency', 'Has_Video')}, 5: {'feature_idx': (0, 4, 7, 14, 18), 'cv_scores': array([0.68343452, 0.69446809, 0.67271079, 0.7047619 , 0.69100623,\n",
      "       0.69639794, 0.6831421 , 0.67826087, 0.66782609, 0.71080139]), 'avg_score': 0.6882809923125631, 'feature_names': ('Updates', 'Duration_in_Days', 'Creator_Projects_Created', 'Currency', 'Has_Video')}, 4: {'feature_idx': (0, 4, 14, 18), 'cv_scores': array([0.67947598, 0.68664384, 0.67213115, 0.703125  , 0.69340463,\n",
      "       0.69550173, 0.6749556 , 0.67421603, 0.66608544, 0.70567686]), 'avg_score': 0.6851216249450477, 'feature_names': ('Updates', 'Duration_in_Days', 'Currency', 'Has_Video')}, 3: {'feature_idx': (0, 4, 18), 'cv_scores': array([0.66903915, 0.67486819, 0.65294668, 0.69816273, 0.67873303,\n",
      "       0.68892794, 0.676951  , 0.66961131, 0.66428571, 0.70733864]), 'avg_score': 0.6780864378211968, 'feature_names': ('Updates', 'Duration_in_Days', 'Has_Video')}, 2: {'feature_idx': (0, 4), 'cv_scores': array([0.66127583, 0.67847653, 0.65286924, 0.69767442, 0.65938069,\n",
      "       0.67139061, 0.65875912, 0.66248881, 0.65714286, 0.69021739]), 'avg_score': 0.668967550077159, 'feature_names': ('Updates', 'Duration_in_Days')}, 1: {'feature_idx': (4,), 'cv_scores': array([0.62133333, 0.62068966, 0.6141522 , 0.62134602, 0.63552632,\n",
      "       0.62532982, 0.61632653, 0.62018592, 0.62257849, 0.61088977]), 'avg_score': 0.6208358063786791, 'feature_names': ('Duration_in_Days',)}}\n",
      "best combination (ACC: 0.691): (0, 3, 4, 5, 6, 7, 11, 14, 17, 18)\n",
      "\n"
     ]
    }
   ],
   "source": [
    "import pandas as pd\n",
    "import numpy as np\n",
    "from sklearn.model_selection import train_test_split\n",
    "from sklearn.model_selection import cross_val_score\n",
    "from sklearn.metrics import confusion_matrix, classification_report\n",
    "from mlxtend.feature_selection import SequentialFeatureSelector as SFS\n",
    "from sklearn.linear_model import LogisticRegression\n",
    "\n",
    "\n",
    "df = pd.read_csv(r'C:\\18kdataset\\Scaled18klast.csv')\n",
    "\n",
    "X = df.drop(columns=['State','Location','Pledged','Backers'])\n",
    "y = df['State'].values\n",
    "\n",
    "\n",
    "# Split dataset into train and test data\n",
    "X_train, X_test, y_train, y_test = train_test_split(X, y, test_size = 0.33, random_state = 42,stratify=y)\n",
    "logreg = LogisticRegression(solver='lbfgs',random_state=42)\n",
    "logreg.fit(X_train, y_train)  \n",
    "log_predict = logreg.predict(X_test)\n",
    "\n",
    "#sequensial forward selection\n",
    "sfs = SFS(logreg, k_features = (1,19),forward = False, floating = True,scoring = 'f1',cv =10,n_jobs = -1)\n",
    "sfs = sfs.fit(X_train,y_train)\n",
    "#train model with cv of 5\n",
    "#cv_scores = cross_val_score(svclassifier, X, y, cv=5, scoring='accuracy')\n",
    "\n",
    "# print('\\nSequential Forward Selection k=3')\n",
    "# print(sfs.k_feature_idx_)\n",
    "# print('CV Score:')\n",
    "# print(sfs.k_score_)\n",
    "print(sfs.subsets_)\n",
    "\n",
    "print('best combination (ACC: %.3f): %s\\n' % (sfs.k_score_, sfs.k_feature_idx_))\n",
    "\n"
   ]
  },
  {
   "cell_type": "code",
   "execution_count": null,
   "metadata": {},
   "outputs": [],
   "source": []
  }
 ],
 "metadata": {
  "kernelspec": {
   "display_name": "Python 3",
   "language": "python",
   "name": "python3"
  },
  "language_info": {
   "codemirror_mode": {
    "name": "ipython",
    "version": 3
   },
   "file_extension": ".py",
   "mimetype": "text/x-python",
   "name": "python",
   "nbconvert_exporter": "python",
   "pygments_lexer": "ipython3",
   "version": "3.7.1"
  }
 },
 "nbformat": 4,
 "nbformat_minor": 2
}
