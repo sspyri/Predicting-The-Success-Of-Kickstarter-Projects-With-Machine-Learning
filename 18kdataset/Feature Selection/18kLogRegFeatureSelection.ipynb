{
 "cells": [
  {
   "cell_type": "code",
   "execution_count": 4,
   "metadata": {},
   "outputs": [
    {
     "name": "stderr",
     "output_type": "stream",
     "text": [
      "C:\\Users\\dungeon\\Anaconda3\\lib\\site-packages\\sklearn\\linear_model\\logistic.py:433: FutureWarning: Default solver will be changed to 'lbfgs' in 0.22. Specify a solver to silence this warning.\n",
      "  FutureWarning)\n"
     ]
    },
    {
     "name": "stdout",
     "output_type": "stream",
     "text": [
      "{1: {'feature_idx': (11,), 'cv_scores': array([0.66415094, 0.66995682, 0.66501241, 0.66542289, 0.66078184,\n",
      "       0.66542751, 0.6633602 , 0.66083698, 0.65586035, 0.66541117]), 'avg_score': 0.6636221101389885, 'feature_names': ('Has_Video',)}, 2: {'feature_idx': (11, 12), 'cv_scores': array([0.66624843, 0.672     , 0.66707844, 0.66790582, 0.66121936,\n",
      "       0.66584311, 0.66625464, 0.66500623, 0.65797641, 0.66583072]), 'avg_score': 0.6655363166240209, 'feature_names': ('Has_Video', 'Creator_Projects_Created')}, 3: {'feature_idx': (1, 11, 12), 'cv_scores': array([0.66624843, 0.672     , 0.66707844, 0.66790582, 0.66121936,\n",
      "       0.66584311, 0.66625464, 0.66500623, 0.65797641, 0.66583072]), 'avg_score': 0.6655363166240209, 'feature_names': ('Top_Category', 'Has_Video', 'Creator_Projects_Created')}, 4: {'feature_idx': (1, 11, 12, 14), 'cv_scores': array([0.66624843, 0.672     , 0.6674892 , 0.66749226, 0.6496063 ,\n",
      "       0.66584311, 0.66625464, 0.66459241, 0.65797641, 0.66583072]), 'avg_score': 0.6643333484856607, 'feature_names': ('Top_Category', 'Has_Video', 'Creator_Projects_Created', '#_Videos')}, 5: {'feature_idx': (1, 3, 11, 12, 14), 'cv_scores': array([0.6586494 , 0.65185185, 0.6493756 , 0.67033976, 0.63946869,\n",
      "       0.65434381, 0.64097744, 0.64700461, 0.63849765, 0.67850467]), 'avg_score': 0.6529013488038651, 'feature_names': ('Top_Category', 'Updates', 'Has_Video', 'Creator_Projects_Created', '#_Videos')}, 6: {'feature_idx': (1, 3, 6, 11, 12, 14), 'cv_scores': array([0.70515098, 0.70147955, 0.70927093, 0.72489083, 0.69237511,\n",
      "       0.71180556, 0.71057192, 0.70486111, 0.69619132, 0.7254902 ]), 'avg_score': 0.7082087496922612, 'feature_names': ('Top_Category', 'Updates', 'Goal', 'Has_Video', 'Creator_Projects_Created', '#_Videos')}, 7: {'feature_idx': (1, 3, 6, 10, 11, 12, 14), 'cv_scores': array([0.80168067, 0.81307628, 0.80779001, 0.81757877, 0.80900751,\n",
      "       0.8003314 , 0.78849408, 0.82059801, 0.7908869 , 0.81181435]), 'avg_score': 0.806125796863879, 'feature_names': ('Top_Category', 'Updates', 'Goal', 'Facebook_Shares', 'Has_Video', 'Creator_Projects_Created', '#_Videos')}, 8: {'feature_idx': (1, 3, 4, 6, 10, 11, 12, 14), 'cv_scores': array([0.81978206, 0.84596577, 0.8349835 , 0.83747927, 0.80733945,\n",
      "       0.81090008, 0.81727575, 0.81076535, 0.78951679, 0.81116585]), 'avg_score': 0.8185173864688743, 'feature_names': ('Top_Category', 'Updates', 'Comments', 'Goal', 'Facebook_Shares', 'Has_Video', 'Creator_Projects_Created', '#_Videos')}, 9: {'feature_idx': (1, 3, 4, 6, 10, 11, 12, 13, 14), 'cv_scores': array([0.82615894, 0.84440843, 0.8283157 , 0.83801653, 0.81142857,\n",
      "       0.81306122, 0.82042834, 0.8304    , 0.80513232, 0.8171521 ]), 'avg_score': 0.8234502154143506, 'feature_names': ('Top_Category', 'Updates', 'Comments', 'Goal', 'Facebook_Shares', 'Has_Video', 'Creator_Projects_Created', 'Creator_Projects_Backed', '#_Videos')}, 10: {'feature_idx': (1, 3, 4, 6, 8, 10, 11, 12, 13, 14), 'cv_scores': array([0.82878412, 0.84440843, 0.8283157 , 0.83609272, 0.81142857,\n",
      "       0.81306122, 0.82042834, 0.8304    , 0.80577849, 0.8171521 ]), 'avg_score': 0.8235849692768624, 'feature_names': ('Top_Category', 'Updates', 'Comments', 'Goal', 'Facebook_Connected', 'Facebook_Shares', 'Has_Video', 'Creator_Projects_Created', 'Creator_Projects_Backed', '#_Videos')}, 11: {'feature_idx': (1, 3, 4, 6, 8, 10, 11, 12, 13, 14, 18), 'cv_scores': array([0.82741536, 0.84440843, 0.8283157 , 0.83786008, 0.81239804,\n",
      "       0.81270358, 0.82013201, 0.82973621, 0.8064257 , 0.81421648]), 'avg_score': 0.8233611603923479, 'feature_names': ('Top_Category', 'Updates', 'Comments', 'Goal', 'Facebook_Connected', 'Facebook_Shares', 'Has_Video', 'Creator_Projects_Created', 'Creator_Projects_Backed', '#_Videos', '#_FAQs')}, 12: {'feature_idx': (1, 3, 4, 6, 8, 10, 11, 12, 13, 14, 15, 18), 'cv_scores': array([0.82906689, 0.8436247 , 0.83144246, 0.84902597, 0.81583199,\n",
      "       0.81451613, 0.80336134, 0.82769473, 0.80662983, 0.81450253]), 'avg_score': 0.8235696576679118, 'feature_names': ('Top_Category', 'Updates', 'Comments', 'Goal', 'Facebook_Connected', 'Facebook_Shares', 'Has_Video', 'Creator_Projects_Created', 'Creator_Projects_Backed', '#_Videos', '#_Images', '#_FAQs')}, 13: {'feature_idx': (0, 1, 3, 4, 6, 8, 10, 11, 12, 13, 14, 15, 18), 'cv_scores': array([0.83069224, 0.84430177, 0.83129584, 0.8485342 , 0.81553398,\n",
      "       0.81685575, 0.80512821, 0.82222222, 0.80632411, 0.81410256]), 'avg_score': 0.823499089101567, 'feature_names': ('Currency', 'Top_Category', 'Updates', 'Comments', 'Goal', 'Facebook_Connected', 'Facebook_Shares', 'Has_Video', 'Creator_Projects_Created', 'Creator_Projects_Backed', '#_Videos', '#_Images', '#_FAQs')}, 14: {'feature_idx': (0, 1, 3, 4, 5, 6, 8, 10, 11, 12, 13, 14, 15, 18), 'cv_scores': array([0.82362729, 0.84345048, 0.8302494 , 0.85055644, 0.812749  ,\n",
      "       0.81315156, 0.81559708, 0.82555283, 0.79081214, 0.8145749 ]), 'avg_score': 0.8220321111222535, 'feature_names': ('Currency', 'Top_Category', 'Updates', 'Comments', 'Rewards', 'Goal', 'Facebook_Connected', 'Facebook_Shares', 'Has_Video', 'Creator_Projects_Created', 'Creator_Projects_Backed', '#_Videos', '#_Images', '#_FAQs')}, 15: {'feature_idx': (0, 1, 3, 4, 5, 6, 8, 10, 11, 12, 13, 14, 15, 16, 18), 'cv_scores': array([0.82166667, 0.83743842, 0.81911263, 0.83743842, 0.81286068,\n",
      "       0.79113384, 0.81116585, 0.83306836, 0.80911233, 0.81081081]), 'avg_score': 0.818380801480686, 'feature_names': ('Currency', 'Top_Category', 'Updates', 'Comments', 'Rewards', 'Goal', 'Facebook_Connected', 'Facebook_Shares', 'Has_Video', 'Creator_Projects_Created', 'Creator_Projects_Backed', '#_Videos', '#_Images', '#_Words_(Description)', '#_FAQs')}, 16: {'feature_idx': (0, 1, 2, 3, 4, 5, 6, 8, 10, 11, 12, 13, 14, 15, 16, 18), 'cv_scores': array([0.82402002, 0.84065041, 0.81911263, 0.8251046 , 0.81203008,\n",
      "       0.8003314 , 0.80234506, 0.81152263, 0.76599327, 0.80769231]), 'avg_score': 0.8108802395092007, 'feature_names': ('Currency', 'Top_Category', 'Category', 'Updates', 'Comments', 'Rewards', 'Goal', 'Facebook_Connected', 'Facebook_Shares', 'Has_Video', 'Creator_Projects_Created', 'Creator_Projects_Backed', '#_Videos', '#_Images', '#_Words_(Description)', '#_FAQs')}, 17: {'feature_idx': (0, 1, 2, 3, 4, 5, 6, 8, 10, 11, 12, 13, 14, 15, 16, 17, 18), 'cv_scores': array([0.82804674, 0.83097419, 0.82412914, 0.83153527, 0.80669456,\n",
      "       0.79463537, 0.79931389, 0.82113821, 0.80032468, 0.81772575]), 'avg_score': 0.8154517810893849, 'feature_names': ('Currency', 'Top_Category', 'Category', 'Updates', 'Comments', 'Rewards', 'Goal', 'Facebook_Connected', 'Facebook_Shares', 'Has_Video', 'Creator_Projects_Created', 'Creator_Projects_Backed', '#_Videos', '#_Images', '#_Words_(Description)', '#_Words_(RisksandChallenges)', '#_FAQs')}, 18: {'feature_idx': (0, 1, 2, 3, 4, 5, 6, 8, 9, 10, 11, 12, 13, 14, 15, 16, 17, 18), 'cv_scores': array([0.81456954, 0.83361065, 0.81625741, 0.83417085, 0.80166667,\n",
      "       0.79666667, 0.80539174, 0.81555004, 0.78405316, 0.81260365]), 'avg_score': 0.8114540371741826, 'feature_names': ('Currency', 'Top_Category', 'Category', 'Updates', 'Comments', 'Rewards', 'Goal', 'Facebook_Connected', 'Facebook_Friends', 'Facebook_Shares', 'Has_Video', 'Creator_Projects_Created', 'Creator_Projects_Backed', '#_Videos', '#_Images', '#_Words_(Description)', '#_Words_(RisksandChallenges)', '#_FAQs')}, 19: {'feature_idx': (0, 1, 2, 3, 4, 5, 6, 7, 8, 9, 10, 11, 12, 13, 14, 15, 16, 17, 18), 'cv_scores': array([0.80972339, 0.81947943, 0.8       , 0.8241206 , 0.78772379,\n",
      "       0.79564489, 0.79378775, 0.81176471, 0.79497908, 0.80642434]), 'avg_score': 0.8043647973100414, 'feature_names': ('Currency', 'Top_Category', 'Category', 'Updates', 'Comments', 'Rewards', 'Goal', 'Duration_in_Days', 'Facebook_Connected', 'Facebook_Friends', 'Facebook_Shares', 'Has_Video', 'Creator_Projects_Created', 'Creator_Projects_Backed', '#_Videos', '#_Images', '#_Words_(Description)', '#_Words_(RisksandChallenges)', '#_FAQs')}}\n",
      "best combination (ACC: 0.824): (1, 3, 4, 6, 8, 10, 11, 12, 13, 14)\n",
      "\n"
     ]
    }
   ],
   "source": [
    "import pandas as pd\n",
    "import numpy as np\n",
    "from sklearn.model_selection import train_test_split\n",
    "from sklearn.model_selection import cross_val_score\n",
    "from sklearn.metrics import confusion_matrix, classification_report\n",
    "from mlxtend.feature_selection import SequentialFeatureSelector as SFS\n",
    "from sklearn.linear_model import LogisticRegression\n",
    "\n",
    "\n",
    "df = pd.read_csv(r'C:\\18kdataset\\18klastlabel.csv')\n",
    "X = df.drop(columns=['State','Location','Pledged','Backers'])\n",
    "y = df['State'].values\n",
    "\n",
    "\n",
    "# Split dataset into train and test data\n",
    "X_train, X_test, y_train, y_test = train_test_split(X, y, test_size = 0.33, random_state = 42,stratify=y)\n",
    "logreg = LogisticRegression(random_state=42)\n",
    "logreg.fit(X_train, y_train)  \n",
    "log_predict = logreg.predict(X_test)\n",
    "\n",
    "#sequensial forward selection\n",
    "sfs = SFS(logreg, k_features = (1,19),forward = True, floating = False,scoring = 'f1',cv =10,n_jobs = -1)\n",
    "sfs = sfs.fit(X_train,y_train)\n",
    "\n",
    "\n",
    "\n",
    "print(sfs.subsets_)\n",
    "\n",
    "print('best combination (ACC: %.3f): %s\\n' % (sfs.k_score_, sfs.k_feature_idx_))\n",
    "\n"
   ]
  },
  {
   "cell_type": "code",
   "execution_count": null,
   "metadata": {},
   "outputs": [],
   "source": []
  }
 ],
 "metadata": {
  "kernelspec": {
   "display_name": "Python 3",
   "language": "python",
   "name": "python3"
  },
  "language_info": {
   "codemirror_mode": {
    "name": "ipython",
    "version": 3
   },
   "file_extension": ".py",
   "mimetype": "text/x-python",
   "name": "python",
   "nbconvert_exporter": "python",
   "pygments_lexer": "ipython3",
   "version": "3.7.1"
  }
 },
 "nbformat": 4,
 "nbformat_minor": 2
}
