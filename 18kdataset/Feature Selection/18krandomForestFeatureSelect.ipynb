{
 "cells": [
  {
   "cell_type": "code",
   "execution_count": 4,
   "metadata": {},
   "outputs": [
    {
     "name": "stdout",
     "output_type": "stream",
     "text": [
      "{1: {'feature_idx': (0,), 'cv_scores': array([0.68438914, 0.70685841, 0.69678824, 0.66742597, 0.6858432 ,\n",
      "       0.69994391, 0.68973341, 0.69730942, 0.70745273, 0.67024448]), 'avg_score': 0.6905988910969628, 'feature_names': ('Updates',)}, 2: {'feature_idx': (0, 15), 'cv_scores': array([0.71220605, 0.72310213, 0.72367718, 0.70581655, 0.6973004 ,\n",
      "       0.73782157, 0.71960022, 0.72153326, 0.71524664, 0.6954023 ]), 'avg_score': 0.71517062931755, 'feature_names': ('Updates', 'Top_Category')}, 3: {'feature_idx': (0, 15, 18), 'cv_scores': array([0.70798437, 0.71661972, 0.72874932, 0.69748858, 0.7081448 ,\n",
      "       0.73392461, 0.71725689, 0.72244206, 0.72212978, 0.6925338 ]), 'avg_score': 0.7147273931530309, 'feature_names': ('Updates', 'Top_Category', 'Has_Video')}, 4: {'feature_idx': (0, 3, 15, 18), 'cv_scores': array([0.72446162, 0.7280654 , 0.72824346, 0.70294281, 0.70867883,\n",
      "       0.71609006, 0.70981898, 0.71663827, 0.68641699, 0.70931538]), 'avg_score': 0.7130671798363936, 'feature_names': ('Updates', 'Goal', 'Top_Category', 'Has_Video')}, 5: {'feature_idx': (0, 3, 6, 15, 18), 'cv_scores': array([0.67063492, 0.72818581, 0.81236897, 0.81758958, 0.81882098,\n",
      "       0.81552366, 0.81586095, 0.81012658, 0.78737542, 0.78842881]), 'avg_score': 0.7864915682024913, 'feature_names': ('Updates', 'Goal', 'Facebook_Shares', 'Top_Category', 'Has_Video')}, 6: {'feature_idx': (0, 1, 3, 6, 15, 18), 'cv_scores': array([0.72738854, 0.75702686, 0.82086407, 0.82606354, 0.83531961,\n",
      "       0.83198271, 0.81634877, 0.82511211, 0.81023929, 0.80985109]), 'avg_score': 0.806019658341801, 'feature_names': ('Updates', 'Comments', 'Goal', 'Facebook_Shares', 'Top_Category', 'Has_Video')}, 7: {'feature_idx': (0, 1, 3, 4, 6, 15, 18), 'cv_scores': array([0.72458172, 0.77805486, 0.83870968, 0.82833787, 0.83424209,\n",
      "       0.83315276, 0.82482153, 0.83480176, 0.81979978, 0.82989403]), 'avg_score': 0.8146396094644544, 'feature_names': ('Updates', 'Comments', 'Goal', 'Duration_in_Days', 'Facebook_Shares', 'Top_Category', 'Has_Video')}, 8: {'feature_idx': (0, 1, 3, 4, 6, 15, 17, 18), 'cv_scores': array([0.73516273, 0.77571252, 0.82744063, 0.83849918, 0.83909287,\n",
      "       0.84054795, 0.82275711, 0.84454245, 0.81958196, 0.83146067]), 'avg_score': 0.8174798073763643, 'feature_names': ('Updates', 'Comments', 'Goal', 'Duration_in_Days', 'Facebook_Shares', 'Top_Category', 'Facebook_Connected', 'Has_Video')}, 9: {'feature_idx': (0, 1, 3, 4, 6, 15, 16, 17, 18), 'cv_scores': array([0.72621359, 0.7659306 , 0.84027412, 0.82792743, 0.84494868,\n",
      "       0.84619595, 0.82184225, 0.84157865, 0.82690187, 0.83642496]), 'avg_score': 0.8178238104693953, 'feature_names': ('Updates', 'Comments', 'Goal', 'Duration_in_Days', 'Facebook_Shares', 'Top_Category', 'Category', 'Facebook_Connected', 'Has_Video')}, 10: {'feature_idx': (0, 1, 3, 4, 6, 8, 15, 16, 17, 18), 'cv_scores': array([0.74920635, 0.78772699, 0.83350785, 0.83369803, 0.83913043,\n",
      "       0.84881803, 0.82430213, 0.84322508, 0.8320356 , 0.83295455]), 'avg_score': 0.8224605047208758, 'feature_names': ('Updates', 'Comments', 'Goal', 'Duration_in_Days', 'Facebook_Shares', 'Creator_Projects_Backed', 'Top_Category', 'Category', 'Facebook_Connected', 'Has_Video')}, 11: {'feature_idx': (0, 1, 3, 4, 6, 8, 9, 15, 16, 17, 18), 'cv_scores': array([0.74045802, 0.77617555, 0.8314256 , 0.84502447, 0.83794038,\n",
      "       0.84480874, 0.82811642, 0.8398892 , 0.82989403, 0.83841808]), 'avg_score': 0.8212150482254996, 'feature_names': ('Updates', 'Comments', 'Goal', 'Duration_in_Days', 'Facebook_Shares', 'Creator_Projects_Backed', '#_Videos', 'Top_Category', 'Category', 'Facebook_Connected', 'Has_Video')}, 12: {'feature_idx': (0, 1, 3, 4, 6, 8, 9, 14, 15, 16, 17, 18), 'cv_scores': array([0.72052117, 0.76324186, 0.83168317, 0.83387622, 0.84776762,\n",
      "       0.84181416, 0.83507998, 0.85209713, 0.83780761, 0.83408578]), 'avg_score': 0.819797469540234, 'feature_names': ('Updates', 'Comments', 'Goal', 'Duration_in_Days', 'Facebook_Shares', 'Creator_Projects_Backed', '#_Videos', 'Currency', 'Top_Category', 'Category', 'Facebook_Connected', 'Has_Video')}, 13: {'feature_idx': (0, 1, 3, 4, 6, 7, 8, 9, 14, 15, 16, 17, 18), 'cv_scores': array([0.7239819 , 0.77632399, 0.83112758, 0.83396431, 0.83926645,\n",
      "       0.83598464, 0.83269336, 0.84269038, 0.83547128, 0.81937322]), 'avg_score': 0.8170877108068637, 'feature_names': ('Updates', 'Comments', 'Goal', 'Duration_in_Days', 'Facebook_Shares', 'Creator_Projects_Created', 'Creator_Projects_Backed', '#_Videos', 'Currency', 'Top_Category', 'Category', 'Facebook_Connected', 'Has_Video')}, 14: {'feature_idx': (0, 1, 3, 4, 6, 7, 8, 9, 10, 14, 15, 16, 17, 18), 'cv_scores': array([0.72844273, 0.776267  , 0.83228512, 0.83396843, 0.84812834,\n",
      "       0.83828383, 0.81913139, 0.84794673, 0.83831672, 0.82971429]), 'avg_score': 0.8192484561936256, 'feature_names': ('Updates', 'Comments', 'Goal', 'Duration_in_Days', 'Facebook_Shares', 'Creator_Projects_Created', 'Creator_Projects_Backed', '#_Videos', '#_Images', 'Currency', 'Top_Category', 'Category', 'Facebook_Connected', 'Has_Video')}, 15: {'feature_idx': (0, 1, 3, 4, 6, 7, 8, 9, 10, 11, 14, 15, 16, 17, 18), 'cv_scores': array([0.73393316, 0.77261307, 0.83603981, 0.83534577, 0.84084737,\n",
      "       0.8380744 , 0.82894737, 0.84111111, 0.83008357, 0.81864696]), 'avg_score': 0.8175642579877384, 'feature_names': ('Updates', 'Comments', 'Goal', 'Duration_in_Days', 'Facebook_Shares', 'Creator_Projects_Created', 'Creator_Projects_Backed', '#_Videos', '#_Images', '#_Words_(Description)', 'Currency', 'Top_Category', 'Category', 'Facebook_Connected', 'Has_Video')}, 16: {'feature_idx': (0, 1, 3, 4, 6, 7, 8, 9, 10, 11, 13, 14, 15, 16, 17, 18), 'cv_scores': array([0.73354633, 0.76601141, 0.82718651, 0.84408602, 0.835141  ,\n",
      "       0.84463895, 0.82281953, 0.83977901, 0.81979978, 0.82433201]), 'avg_score': 0.8157340539209574, 'feature_names': ('Updates', 'Comments', 'Goal', 'Duration_in_Days', 'Facebook_Shares', 'Creator_Projects_Created', 'Creator_Projects_Backed', '#_Videos', '#_Images', '#_Words_(Description)', '#_FAQs', 'Currency', 'Top_Category', 'Category', 'Facebook_Connected', 'Has_Video')}, 17: {'feature_idx': (0, 1, 3, 4, 6, 7, 8, 9, 10, 11, 12, 13, 14, 15, 16, 17, 18), 'cv_scores': array([0.7299551 , 0.76864245, 0.82718651, 0.82630137, 0.84077135,\n",
      "       0.84463895, 0.81956522, 0.84704583, 0.80605381, 0.82386364]), 'avg_score': 0.8134024224803221, 'feature_names': ('Updates', 'Comments', 'Goal', 'Duration_in_Days', 'Facebook_Shares', 'Creator_Projects_Created', 'Creator_Projects_Backed', '#_Videos', '#_Images', '#_Words_(Description)', '#_Words_(RisksandChallenges)', '#_FAQs', 'Currency', 'Top_Category', 'Category', 'Facebook_Connected', 'Has_Video')}, 18: {'feature_idx': (0, 1, 3, 4, 5, 6, 7, 8, 9, 10, 11, 12, 13, 14, 15, 16, 17, 18), 'cv_scores': array([0.72633612, 0.76741294, 0.83624801, 0.81518152, 0.82735797,\n",
      "       0.84517906, 0.82105263, 0.84848485, 0.82891832, 0.8311834 ]), 'avg_score': 0.81473548245272, 'feature_names': ('Updates', 'Comments', 'Goal', 'Duration_in_Days', 'Facebook_Friends', 'Facebook_Shares', 'Creator_Projects_Created', 'Creator_Projects_Backed', '#_Videos', '#_Images', '#_Words_(Description)', '#_Words_(RisksandChallenges)', '#_FAQs', 'Currency', 'Top_Category', 'Category', 'Facebook_Connected', 'Has_Video')}, 19: {'feature_idx': (0, 1, 2, 3, 4, 5, 6, 7, 8, 9, 10, 11, 12, 13, 14, 15, 16, 17, 18), 'cv_scores': array([0.73015873, 0.76190476, 0.82064928, 0.815427  , 0.84461289,\n",
      "       0.8320442 , 0.82275711, 0.8363029 , 0.82379099, 0.81926346]), 'avg_score': 0.8106911313505307, 'feature_names': ('Updates', 'Comments', 'Rewards', 'Goal', 'Duration_in_Days', 'Facebook_Friends', 'Facebook_Shares', 'Creator_Projects_Created', 'Creator_Projects_Backed', '#_Videos', '#_Images', '#_Words_(Description)', '#_Words_(RisksandChallenges)', '#_FAQs', 'Currency', 'Top_Category', 'Category', 'Facebook_Connected', 'Has_Video')}}\n",
      "best combination (ACC: 0.822): (0, 1, 3, 4, 6, 8, 15, 16, 17, 18)\n",
      "\n"
     ]
    }
   ],
   "source": [
    "import pandas as pd\n",
    "import numpy as np\n",
    "from mlxtend.feature_selection import SequentialFeatureSelector as SFS\n",
    "from sklearn.ensemble import RandomForestClassifier\n",
    "\n",
    "\n",
    "df = pd.read_csv(r'C:\\18kdataset\\Scaled18kLast.csv')\n",
    "\n",
    "X = df.drop(columns=['State','Location','Pledged','Backers'])\n",
    "y = df['State'].values\n",
    "\n",
    "rfc = RandomForestClassifier(random_state=42)\n",
    "\n",
    "#sequensial forward selection\n",
    "sfs = SFS(rfc, k_features = (1,19),forward = True, floating = False,scoring = 'f1',cv =10,n_jobs = -1)\n",
    "sfs = sfs.fit(X,y)\n",
    "\n",
    "print(sfs.subsets_)\n",
    "\n",
    "print('best combination (ACC: %.3f): %s\\n' % (sfs.k_score_, sfs.k_feature_idx_))\n",
    "\n",
    "\n"
   ]
  },
  {
   "cell_type": "code",
   "execution_count": null,
   "metadata": {},
   "outputs": [],
   "source": []
  }
 ],
 "metadata": {
  "kernelspec": {
   "display_name": "Python 3",
   "language": "python",
   "name": "python3"
  },
  "language_info": {
   "codemirror_mode": {
    "name": "ipython",
    "version": 3
   },
   "file_extension": ".py",
   "mimetype": "text/x-python",
   "name": "python",
   "nbconvert_exporter": "python",
   "pygments_lexer": "ipython3",
   "version": "3.7.1"
  }
 },
 "nbformat": 4,
 "nbformat_minor": 2
}
